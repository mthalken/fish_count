{
 "cells": [
  {
   "cell_type": "code",
   "execution_count": 1,
   "id": "2dfe1ff2",
   "metadata": {},
   "outputs": [],
   "source": [
    "import numpy as np\n",
    "import pandas as pd\n",
    "from pathlib import Path\n",
    "from collections import Counter\n",
    "import matplotlib.pyplot as plt"
   ]
  },
  {
   "cell_type": "code",
   "execution_count": 2,
   "id": "ecd4c1a1",
   "metadata": {},
   "outputs": [
    {
     "data": {
      "text/html": [
       "<div>\n",
       "<style scoped>\n",
       "    .dataframe tbody tr th:only-of-type {\n",
       "        vertical-align: middle;\n",
       "    }\n",
       "\n",
       "    .dataframe tbody tr th {\n",
       "        vertical-align: top;\n",
       "    }\n",
       "\n",
       "    .dataframe thead th {\n",
       "        text-align: right;\n",
       "    }\n",
       "</style>\n",
       "<table border=\"1\" class=\"dataframe\">\n",
       "  <thead>\n",
       "    <tr style=\"text-align: right;\">\n",
       "      <th></th>\n",
       "      <th>countid</th>\n",
       "      <th>yearvalue</th>\n",
       "      <th>monthvalue</th>\n",
       "      <th>weeknumber</th>\n",
       "      <th>locationname</th>\n",
       "      <th>daterecorded</th>\n",
       "      <th>maxtempf</th>\n",
       "      <th>mintempf</th>\n",
       "      <th>precipitationinch</th>\n",
       "      <th>watertempf</th>\n",
       "      <th>stlheadcount</th>\n",
       "    </tr>\n",
       "  </thead>\n",
       "  <tbody>\n",
       "    <tr>\n",
       "      <th>0</th>\n",
       "      <td>19900101</td>\n",
       "      <td>1990</td>\n",
       "      <td>1</td>\n",
       "      <td>1</td>\n",
       "      <td>Bonneville</td>\n",
       "      <td>1990-01-01</td>\n",
       "      <td>49.0</td>\n",
       "      <td>35.0</td>\n",
       "      <td>0.89</td>\n",
       "      <td>NaN</td>\n",
       "      <td>NaN</td>\n",
       "    </tr>\n",
       "    <tr>\n",
       "      <th>1</th>\n",
       "      <td>19900102</td>\n",
       "      <td>1990</td>\n",
       "      <td>1</td>\n",
       "      <td>1</td>\n",
       "      <td>Bonneville</td>\n",
       "      <td>1990-01-02</td>\n",
       "      <td>45.0</td>\n",
       "      <td>36.0</td>\n",
       "      <td>0.85</td>\n",
       "      <td>NaN</td>\n",
       "      <td>NaN</td>\n",
       "    </tr>\n",
       "    <tr>\n",
       "      <th>2</th>\n",
       "      <td>19900103</td>\n",
       "      <td>1990</td>\n",
       "      <td>1</td>\n",
       "      <td>1</td>\n",
       "      <td>Bonneville</td>\n",
       "      <td>1990-01-03</td>\n",
       "      <td>46.0</td>\n",
       "      <td>39.0</td>\n",
       "      <td>0.02</td>\n",
       "      <td>NaN</td>\n",
       "      <td>NaN</td>\n",
       "    </tr>\n",
       "    <tr>\n",
       "      <th>3</th>\n",
       "      <td>19900104</td>\n",
       "      <td>1990</td>\n",
       "      <td>1</td>\n",
       "      <td>1</td>\n",
       "      <td>Bonneville</td>\n",
       "      <td>1990-01-04</td>\n",
       "      <td>49.0</td>\n",
       "      <td>42.0</td>\n",
       "      <td>0.04</td>\n",
       "      <td>NaN</td>\n",
       "      <td>NaN</td>\n",
       "    </tr>\n",
       "    <tr>\n",
       "      <th>4</th>\n",
       "      <td>19900105</td>\n",
       "      <td>1990</td>\n",
       "      <td>1</td>\n",
       "      <td>1</td>\n",
       "      <td>Bonneville</td>\n",
       "      <td>1990-01-05</td>\n",
       "      <td>53.0</td>\n",
       "      <td>45.0</td>\n",
       "      <td>0.47</td>\n",
       "      <td>NaN</td>\n",
       "      <td>NaN</td>\n",
       "    </tr>\n",
       "  </tbody>\n",
       "</table>\n",
       "</div>"
      ],
      "text/plain": [
       "    countid  yearvalue  monthvalue  weeknumber locationname daterecorded  \\\n",
       "0  19900101       1990           1           1   Bonneville   1990-01-01   \n",
       "1  19900102       1990           1           1   Bonneville   1990-01-02   \n",
       "2  19900103       1990           1           1   Bonneville   1990-01-03   \n",
       "3  19900104       1990           1           1   Bonneville   1990-01-04   \n",
       "4  19900105       1990           1           1   Bonneville   1990-01-05   \n",
       "\n",
       "   maxtempf  mintempf  precipitationinch  watertempf  stlheadcount  \n",
       "0      49.0      35.0               0.89         NaN           NaN  \n",
       "1      45.0      36.0               0.85         NaN           NaN  \n",
       "2      46.0      39.0               0.02         NaN           NaN  \n",
       "3      49.0      42.0               0.04         NaN           NaN  \n",
       "4      53.0      45.0               0.47         NaN           NaN  "
      ]
     },
     "execution_count": 2,
     "metadata": {},
     "output_type": "execute_result"
    }
   ],
   "source": [
    "# Load data into dataframe\n",
    "file_path = Path('Resources/refactored_data/combineddata.csv')\n",
    "df = pd.read_csv(file_path)\n",
    "df.head()"
   ]
  },
  {
   "cell_type": "code",
   "execution_count": 3,
   "id": "c3dddb32",
   "metadata": {},
   "outputs": [
    {
     "data": {
      "text/html": [
       "<div>\n",
       "<style scoped>\n",
       "    .dataframe tbody tr th:only-of-type {\n",
       "        vertical-align: middle;\n",
       "    }\n",
       "\n",
       "    .dataframe tbody tr th {\n",
       "        vertical-align: top;\n",
       "    }\n",
       "\n",
       "    .dataframe thead th {\n",
       "        text-align: right;\n",
       "    }\n",
       "</style>\n",
       "<table border=\"1\" class=\"dataframe\">\n",
       "  <thead>\n",
       "    <tr style=\"text-align: right;\">\n",
       "      <th></th>\n",
       "      <th>weeknumber</th>\n",
       "      <th>monthvalue</th>\n",
       "      <th>maxtempf</th>\n",
       "      <th>mintempf</th>\n",
       "      <th>precipitationinch</th>\n",
       "      <th>watertempf</th>\n",
       "      <th>stlheadcount</th>\n",
       "    </tr>\n",
       "  </thead>\n",
       "  <tbody>\n",
       "    <tr>\n",
       "      <th>0</th>\n",
       "      <td>1</td>\n",
       "      <td>1</td>\n",
       "      <td>49.0</td>\n",
       "      <td>35.0</td>\n",
       "      <td>0.89</td>\n",
       "      <td>NaN</td>\n",
       "      <td>NaN</td>\n",
       "    </tr>\n",
       "    <tr>\n",
       "      <th>1</th>\n",
       "      <td>1</td>\n",
       "      <td>1</td>\n",
       "      <td>45.0</td>\n",
       "      <td>36.0</td>\n",
       "      <td>0.85</td>\n",
       "      <td>NaN</td>\n",
       "      <td>NaN</td>\n",
       "    </tr>\n",
       "    <tr>\n",
       "      <th>2</th>\n",
       "      <td>1</td>\n",
       "      <td>1</td>\n",
       "      <td>46.0</td>\n",
       "      <td>39.0</td>\n",
       "      <td>0.02</td>\n",
       "      <td>NaN</td>\n",
       "      <td>NaN</td>\n",
       "    </tr>\n",
       "  </tbody>\n",
       "</table>\n",
       "</div>"
      ],
      "text/plain": [
       "   weeknumber  monthvalue  maxtempf  mintempf  precipitationinch  watertempf  \\\n",
       "0           1           1      49.0      35.0               0.89         NaN   \n",
       "1           1           1      45.0      36.0               0.85         NaN   \n",
       "2           1           1      46.0      39.0               0.02         NaN   \n",
       "\n",
       "   stlheadcount  \n",
       "0           NaN  \n",
       "1           NaN  \n",
       "2           NaN  "
      ]
     },
     "execution_count": 3,
     "metadata": {},
     "output_type": "execute_result"
    }
   ],
   "source": [
    "# Pull desired columns\n",
    "df_stlhead_week_month = df[['weeknumber','monthvalue','maxtempf','mintempf','precipitationinch','watertempf','stlheadcount']]\n",
    "df_stlhead_week_month.head(3)"
   ]
  },
  {
   "cell_type": "code",
   "execution_count": 4,
   "id": "767ef23e",
   "metadata": {
    "scrolled": true
   },
   "outputs": [
    {
     "data": {
      "text/html": [
       "<div>\n",
       "<style scoped>\n",
       "    .dataframe tbody tr th:only-of-type {\n",
       "        vertical-align: middle;\n",
       "    }\n",
       "\n",
       "    .dataframe tbody tr th {\n",
       "        vertical-align: top;\n",
       "    }\n",
       "\n",
       "    .dataframe thead th {\n",
       "        text-align: right;\n",
       "    }\n",
       "</style>\n",
       "<table border=\"1\" class=\"dataframe\">\n",
       "  <thead>\n",
       "    <tr style=\"text-align: right;\">\n",
       "      <th></th>\n",
       "      <th>weeknumber</th>\n",
       "      <th>monthvalue</th>\n",
       "      <th>maxtempf</th>\n",
       "      <th>mintempf</th>\n",
       "      <th>precipitationinch</th>\n",
       "      <th>watertempf</th>\n",
       "      <th>stlheadcount</th>\n",
       "    </tr>\n",
       "  </thead>\n",
       "  <tbody>\n",
       "    <tr>\n",
       "      <th>73</th>\n",
       "      <td>11</td>\n",
       "      <td>3</td>\n",
       "      <td>53.0</td>\n",
       "      <td>38.0</td>\n",
       "      <td>0.12</td>\n",
       "      <td>44.06</td>\n",
       "      <td>27.0</td>\n",
       "    </tr>\n",
       "    <tr>\n",
       "      <th>74</th>\n",
       "      <td>11</td>\n",
       "      <td>3</td>\n",
       "      <td>69.0</td>\n",
       "      <td>38.0</td>\n",
       "      <td>0.00</td>\n",
       "      <td>44.96</td>\n",
       "      <td>44.0</td>\n",
       "    </tr>\n",
       "    <tr>\n",
       "      <th>75</th>\n",
       "      <td>11</td>\n",
       "      <td>3</td>\n",
       "      <td>61.0</td>\n",
       "      <td>44.0</td>\n",
       "      <td>0.00</td>\n",
       "      <td>44.06</td>\n",
       "      <td>36.0</td>\n",
       "    </tr>\n",
       "    <tr>\n",
       "      <th>76</th>\n",
       "      <td>12</td>\n",
       "      <td>3</td>\n",
       "      <td>59.0</td>\n",
       "      <td>44.0</td>\n",
       "      <td>0.02</td>\n",
       "      <td>44.96</td>\n",
       "      <td>60.0</td>\n",
       "    </tr>\n",
       "    <tr>\n",
       "      <th>77</th>\n",
       "      <td>12</td>\n",
       "      <td>3</td>\n",
       "      <td>67.0</td>\n",
       "      <td>44.0</td>\n",
       "      <td>0.00</td>\n",
       "      <td>46.04</td>\n",
       "      <td>46.0</td>\n",
       "    </tr>\n",
       "  </tbody>\n",
       "</table>\n",
       "</div>"
      ],
      "text/plain": [
       "    weeknumber  monthvalue  maxtempf  mintempf  precipitationinch  watertempf  \\\n",
       "73          11           3      53.0      38.0               0.12       44.06   \n",
       "74          11           3      69.0      38.0               0.00       44.96   \n",
       "75          11           3      61.0      44.0               0.00       44.06   \n",
       "76          12           3      59.0      44.0               0.02       44.96   \n",
       "77          12           3      67.0      44.0               0.00       46.04   \n",
       "\n",
       "    stlheadcount  \n",
       "73          27.0  \n",
       "74          44.0  \n",
       "75          36.0  \n",
       "76          60.0  \n",
       "77          46.0  "
      ]
     },
     "execution_count": 4,
     "metadata": {},
     "output_type": "execute_result"
    }
   ],
   "source": [
    "# Drop NaN values\n",
    "week_month = df_stlhead_week_month.dropna(axis=0)\n",
    "week_month.head()"
   ]
  },
  {
   "cell_type": "code",
   "execution_count": 5,
   "id": "3394448f",
   "metadata": {
    "scrolled": true
   },
   "outputs": [
    {
     "data": {
      "text/html": [
       "<div>\n",
       "<style scoped>\n",
       "    .dataframe tbody tr th:only-of-type {\n",
       "        vertical-align: middle;\n",
       "    }\n",
       "\n",
       "    .dataframe tbody tr th {\n",
       "        vertical-align: top;\n",
       "    }\n",
       "\n",
       "    .dataframe thead th {\n",
       "        text-align: right;\n",
       "    }\n",
       "</style>\n",
       "<table border=\"1\" class=\"dataframe\">\n",
       "  <thead>\n",
       "    <tr style=\"text-align: right;\">\n",
       "      <th></th>\n",
       "      <th>weeknumber</th>\n",
       "      <th>monthvalue</th>\n",
       "      <th>maxtempf</th>\n",
       "      <th>mintempf</th>\n",
       "      <th>precipitationinch</th>\n",
       "      <th>watertempf</th>\n",
       "      <th>stlheadcount</th>\n",
       "    </tr>\n",
       "  </thead>\n",
       "  <tbody>\n",
       "    <tr>\n",
       "      <th>73</th>\n",
       "      <td>11</td>\n",
       "      <td>3</td>\n",
       "      <td>53.0</td>\n",
       "      <td>38.0</td>\n",
       "      <td>0.12</td>\n",
       "      <td>44.06</td>\n",
       "      <td>27.0</td>\n",
       "    </tr>\n",
       "    <tr>\n",
       "      <th>74</th>\n",
       "      <td>11</td>\n",
       "      <td>3</td>\n",
       "      <td>69.0</td>\n",
       "      <td>38.0</td>\n",
       "      <td>0.00</td>\n",
       "      <td>44.96</td>\n",
       "      <td>44.0</td>\n",
       "    </tr>\n",
       "    <tr>\n",
       "      <th>75</th>\n",
       "      <td>11</td>\n",
       "      <td>3</td>\n",
       "      <td>61.0</td>\n",
       "      <td>44.0</td>\n",
       "      <td>0.00</td>\n",
       "      <td>44.06</td>\n",
       "      <td>36.0</td>\n",
       "    </tr>\n",
       "    <tr>\n",
       "      <th>76</th>\n",
       "      <td>12</td>\n",
       "      <td>3</td>\n",
       "      <td>59.0</td>\n",
       "      <td>44.0</td>\n",
       "      <td>0.02</td>\n",
       "      <td>44.96</td>\n",
       "      <td>60.0</td>\n",
       "    </tr>\n",
       "    <tr>\n",
       "      <th>77</th>\n",
       "      <td>12</td>\n",
       "      <td>3</td>\n",
       "      <td>67.0</td>\n",
       "      <td>44.0</td>\n",
       "      <td>0.00</td>\n",
       "      <td>46.04</td>\n",
       "      <td>46.0</td>\n",
       "    </tr>\n",
       "    <tr>\n",
       "      <th>...</th>\n",
       "      <td>...</td>\n",
       "      <td>...</td>\n",
       "      <td>...</td>\n",
       "      <td>...</td>\n",
       "      <td>...</td>\n",
       "      <td>...</td>\n",
       "      <td>...</td>\n",
       "    </tr>\n",
       "    <tr>\n",
       "      <th>11583</th>\n",
       "      <td>38</td>\n",
       "      <td>9</td>\n",
       "      <td>76.0</td>\n",
       "      <td>52.0</td>\n",
       "      <td>0.93</td>\n",
       "      <td>66.56</td>\n",
       "      <td>590.0</td>\n",
       "    </tr>\n",
       "    <tr>\n",
       "      <th>11584</th>\n",
       "      <td>39</td>\n",
       "      <td>9</td>\n",
       "      <td>60.0</td>\n",
       "      <td>51.0</td>\n",
       "      <td>1.50</td>\n",
       "      <td>66.56</td>\n",
       "      <td>702.0</td>\n",
       "    </tr>\n",
       "    <tr>\n",
       "      <th>11585</th>\n",
       "      <td>39</td>\n",
       "      <td>9</td>\n",
       "      <td>64.0</td>\n",
       "      <td>50.0</td>\n",
       "      <td>0.58</td>\n",
       "      <td>66.74</td>\n",
       "      <td>698.0</td>\n",
       "    </tr>\n",
       "    <tr>\n",
       "      <th>11586</th>\n",
       "      <td>39</td>\n",
       "      <td>9</td>\n",
       "      <td>75.0</td>\n",
       "      <td>50.0</td>\n",
       "      <td>0.00</td>\n",
       "      <td>66.38</td>\n",
       "      <td>1004.0</td>\n",
       "    </tr>\n",
       "    <tr>\n",
       "      <th>11587</th>\n",
       "      <td>39</td>\n",
       "      <td>9</td>\n",
       "      <td>80.0</td>\n",
       "      <td>53.0</td>\n",
       "      <td>0.00</td>\n",
       "      <td>66.20</td>\n",
       "      <td>1049.0</td>\n",
       "    </tr>\n",
       "  </tbody>\n",
       "</table>\n",
       "<p>8528 rows × 7 columns</p>\n",
       "</div>"
      ],
      "text/plain": [
       "       weeknumber  monthvalue  maxtempf  mintempf  precipitationinch  \\\n",
       "73             11           3      53.0      38.0               0.12   \n",
       "74             11           3      69.0      38.0               0.00   \n",
       "75             11           3      61.0      44.0               0.00   \n",
       "76             12           3      59.0      44.0               0.02   \n",
       "77             12           3      67.0      44.0               0.00   \n",
       "...           ...         ...       ...       ...                ...   \n",
       "11583          38           9      76.0      52.0               0.93   \n",
       "11584          39           9      60.0      51.0               1.50   \n",
       "11585          39           9      64.0      50.0               0.58   \n",
       "11586          39           9      75.0      50.0               0.00   \n",
       "11587          39           9      80.0      53.0               0.00   \n",
       "\n",
       "       watertempf  stlheadcount  \n",
       "73          44.06          27.0  \n",
       "74          44.96          44.0  \n",
       "75          44.06          36.0  \n",
       "76          44.96          60.0  \n",
       "77          46.04          46.0  \n",
       "...           ...           ...  \n",
       "11583       66.56         590.0  \n",
       "11584       66.56         702.0  \n",
       "11585       66.74         698.0  \n",
       "11586       66.38        1004.0  \n",
       "11587       66.20        1049.0  \n",
       "\n",
       "[8528 rows x 7 columns]"
      ]
     },
     "execution_count": 5,
     "metadata": {},
     "output_type": "execute_result"
    }
   ],
   "source": [
    "week_month"
   ]
  },
  {
   "cell_type": "code",
   "execution_count": 11,
   "id": "f2029fbf",
   "metadata": {},
   "outputs": [
    {
     "data": {
      "text/html": [
       "<div>\n",
       "<style scoped>\n",
       "    .dataframe tbody tr th:only-of-type {\n",
       "        vertical-align: middle;\n",
       "    }\n",
       "\n",
       "    .dataframe tbody tr th {\n",
       "        vertical-align: top;\n",
       "    }\n",
       "\n",
       "    .dataframe thead th {\n",
       "        text-align: right;\n",
       "    }\n",
       "</style>\n",
       "<table border=\"1\" class=\"dataframe\">\n",
       "  <thead>\n",
       "    <tr style=\"text-align: right;\">\n",
       "      <th></th>\n",
       "      <th>weeknumber</th>\n",
       "      <th>countid</th>\n",
       "      <th>yearvalue</th>\n",
       "      <th>maxtempf</th>\n",
       "      <th>mintempf</th>\n",
       "      <th>precipitationinch</th>\n",
       "      <th>watertempf</th>\n",
       "      <th>stlheadcount</th>\n",
       "    </tr>\n",
       "  </thead>\n",
       "  <tbody>\n",
       "    <tr>\n",
       "      <th>0</th>\n",
       "      <td>1</td>\n",
       "      <td>2.005568e+07</td>\n",
       "      <td>2005.558140</td>\n",
       "      <td>43.346457</td>\n",
       "      <td>33.669355</td>\n",
       "      <td>0.363125</td>\n",
       "      <td>40.810690</td>\n",
       "      <td>15.786667</td>\n",
       "    </tr>\n",
       "    <tr>\n",
       "      <th>1</th>\n",
       "      <td>2</td>\n",
       "      <td>2.005511e+07</td>\n",
       "      <td>2005.500000</td>\n",
       "      <td>43.072072</td>\n",
       "      <td>34.340807</td>\n",
       "      <td>0.413705</td>\n",
       "      <td>40.291250</td>\n",
       "      <td>14.858268</td>\n",
       "    </tr>\n",
       "    <tr>\n",
       "      <th>2</th>\n",
       "      <td>3</td>\n",
       "      <td>2.005512e+07</td>\n",
       "      <td>2005.500000</td>\n",
       "      <td>42.945946</td>\n",
       "      <td>34.198198</td>\n",
       "      <td>0.390773</td>\n",
       "      <td>39.258776</td>\n",
       "      <td>13.894309</td>\n",
       "    </tr>\n",
       "    <tr>\n",
       "      <th>3</th>\n",
       "      <td>4</td>\n",
       "      <td>2.005512e+07</td>\n",
       "      <td>2005.500000</td>\n",
       "      <td>44.500000</td>\n",
       "      <td>35.230769</td>\n",
       "      <td>0.343198</td>\n",
       "      <td>38.791753</td>\n",
       "      <td>13.440000</td>\n",
       "    </tr>\n",
       "    <tr>\n",
       "      <th>4</th>\n",
       "      <td>5</td>\n",
       "      <td>2.005514e+07</td>\n",
       "      <td>2005.500000</td>\n",
       "      <td>45.963636</td>\n",
       "      <td>36.290323</td>\n",
       "      <td>0.397162</td>\n",
       "      <td>38.704082</td>\n",
       "      <td>15.000000</td>\n",
       "    </tr>\n",
       "    <tr>\n",
       "      <th>5</th>\n",
       "      <td>6</td>\n",
       "      <td>2.005520e+07</td>\n",
       "      <td>2005.500000</td>\n",
       "      <td>46.577273</td>\n",
       "      <td>35.465438</td>\n",
       "      <td>0.334107</td>\n",
       "      <td>38.968298</td>\n",
       "      <td>14.175000</td>\n",
       "    </tr>\n",
       "    <tr>\n",
       "      <th>6</th>\n",
       "      <td>7</td>\n",
       "      <td>2.005521e+07</td>\n",
       "      <td>2005.500000</td>\n",
       "      <td>47.278027</td>\n",
       "      <td>35.369369</td>\n",
       "      <td>0.245561</td>\n",
       "      <td>39.102653</td>\n",
       "      <td>16.396825</td>\n",
       "    </tr>\n",
       "    <tr>\n",
       "      <th>7</th>\n",
       "      <td>8</td>\n",
       "      <td>2.005522e+07</td>\n",
       "      <td>2005.500000</td>\n",
       "      <td>49.227907</td>\n",
       "      <td>36.098592</td>\n",
       "      <td>0.352192</td>\n",
       "      <td>39.478351</td>\n",
       "      <td>19.671875</td>\n",
       "    </tr>\n",
       "    <tr>\n",
       "      <th>8</th>\n",
       "      <td>9</td>\n",
       "      <td>2.005524e+07</td>\n",
       "      <td>2005.500000</td>\n",
       "      <td>49.289593</td>\n",
       "      <td>35.168950</td>\n",
       "      <td>0.242377</td>\n",
       "      <td>40.075876</td>\n",
       "      <td>22.907692</td>\n",
       "    </tr>\n",
       "    <tr>\n",
       "      <th>9</th>\n",
       "      <td>10</td>\n",
       "      <td>2.005530e+07</td>\n",
       "      <td>2005.500000</td>\n",
       "      <td>50.773148</td>\n",
       "      <td>36.288372</td>\n",
       "      <td>0.340968</td>\n",
       "      <td>40.784706</td>\n",
       "      <td>31.375940</td>\n",
       "    </tr>\n",
       "    <tr>\n",
       "      <th>10</th>\n",
       "      <td>11</td>\n",
       "      <td>2.005531e+07</td>\n",
       "      <td>2005.500000</td>\n",
       "      <td>54.764977</td>\n",
       "      <td>37.985849</td>\n",
       "      <td>0.245991</td>\n",
       "      <td>42.119685</td>\n",
       "      <td>41.513333</td>\n",
       "    </tr>\n",
       "    <tr>\n",
       "      <th>11</th>\n",
       "      <td>12</td>\n",
       "      <td>2.005532e+07</td>\n",
       "      <td>2005.500000</td>\n",
       "      <td>55.221198</td>\n",
       "      <td>38.549763</td>\n",
       "      <td>0.277834</td>\n",
       "      <td>43.644880</td>\n",
       "      <td>43.649770</td>\n",
       "    </tr>\n",
       "    <tr>\n",
       "      <th>12</th>\n",
       "      <td>13</td>\n",
       "      <td>2.005533e+07</td>\n",
       "      <td>2005.500000</td>\n",
       "      <td>55.967593</td>\n",
       "      <td>39.635071</td>\n",
       "      <td>0.235806</td>\n",
       "      <td>44.886175</td>\n",
       "      <td>47.718750</td>\n",
       "    </tr>\n",
       "    <tr>\n",
       "      <th>13</th>\n",
       "      <td>14</td>\n",
       "      <td>2.005538e+07</td>\n",
       "      <td>2005.500000</td>\n",
       "      <td>58.139640</td>\n",
       "      <td>40.421296</td>\n",
       "      <td>0.256937</td>\n",
       "      <td>46.227465</td>\n",
       "      <td>54.437500</td>\n",
       "    </tr>\n",
       "    <tr>\n",
       "      <th>14</th>\n",
       "      <td>15</td>\n",
       "      <td>2.005541e+07</td>\n",
       "      <td>2005.500000</td>\n",
       "      <td>58.120536</td>\n",
       "      <td>41.397321</td>\n",
       "      <td>0.264286</td>\n",
       "      <td>47.557143</td>\n",
       "      <td>52.669643</td>\n",
       "    </tr>\n",
       "    <tr>\n",
       "      <th>15</th>\n",
       "      <td>16</td>\n",
       "      <td>2.005542e+07</td>\n",
       "      <td>2005.500000</td>\n",
       "      <td>60.035874</td>\n",
       "      <td>42.233945</td>\n",
       "      <td>0.202768</td>\n",
       "      <td>49.163041</td>\n",
       "      <td>44.290179</td>\n",
       "    </tr>\n",
       "    <tr>\n",
       "      <th>16</th>\n",
       "      <td>17</td>\n",
       "      <td>2.005542e+07</td>\n",
       "      <td>2005.500000</td>\n",
       "      <td>63.291480</td>\n",
       "      <td>43.539171</td>\n",
       "      <td>0.183884</td>\n",
       "      <td>50.651152</td>\n",
       "      <td>40.848214</td>\n",
       "    </tr>\n",
       "    <tr>\n",
       "      <th>17</th>\n",
       "      <td>18</td>\n",
       "      <td>2.005546e+07</td>\n",
       "      <td>2005.500000</td>\n",
       "      <td>64.348214</td>\n",
       "      <td>44.045872</td>\n",
       "      <td>0.171384</td>\n",
       "      <td>52.312627</td>\n",
       "      <td>38.080357</td>\n",
       "    </tr>\n",
       "    <tr>\n",
       "      <th>18</th>\n",
       "      <td>19</td>\n",
       "      <td>2.005551e+07</td>\n",
       "      <td>2005.500000</td>\n",
       "      <td>65.946429</td>\n",
       "      <td>45.841629</td>\n",
       "      <td>0.139464</td>\n",
       "      <td>53.802396</td>\n",
       "      <td>49.468468</td>\n",
       "    </tr>\n",
       "    <tr>\n",
       "      <th>19</th>\n",
       "      <td>20</td>\n",
       "      <td>2.005551e+07</td>\n",
       "      <td>2005.500000</td>\n",
       "      <td>67.591928</td>\n",
       "      <td>47.737557</td>\n",
       "      <td>0.126726</td>\n",
       "      <td>55.285530</td>\n",
       "      <td>57.013393</td>\n",
       "    </tr>\n",
       "    <tr>\n",
       "      <th>20</th>\n",
       "      <td>21</td>\n",
       "      <td>2.005552e+07</td>\n",
       "      <td>2005.500000</td>\n",
       "      <td>67.802691</td>\n",
       "      <td>48.739535</td>\n",
       "      <td>0.153874</td>\n",
       "      <td>56.697636</td>\n",
       "      <td>66.623318</td>\n",
       "    </tr>\n",
       "    <tr>\n",
       "      <th>21</th>\n",
       "      <td>22</td>\n",
       "      <td>2.005554e+07</td>\n",
       "      <td>2005.500000</td>\n",
       "      <td>69.769231</td>\n",
       "      <td>50.685185</td>\n",
       "      <td>0.106591</td>\n",
       "      <td>57.775357</td>\n",
       "      <td>82.143498</td>\n",
       "    </tr>\n",
       "    <tr>\n",
       "      <th>22</th>\n",
       "      <td>23</td>\n",
       "      <td>2.005559e+07</td>\n",
       "      <td>2005.500000</td>\n",
       "      <td>70.700893</td>\n",
       "      <td>50.791855</td>\n",
       "      <td>0.134509</td>\n",
       "      <td>59.080357</td>\n",
       "      <td>117.656250</td>\n",
       "    </tr>\n",
       "    <tr>\n",
       "      <th>23</th>\n",
       "      <td>24</td>\n",
       "      <td>2.005561e+07</td>\n",
       "      <td>2005.500000</td>\n",
       "      <td>70.050000</td>\n",
       "      <td>51.750000</td>\n",
       "      <td>0.137768</td>\n",
       "      <td>60.120179</td>\n",
       "      <td>173.308036</td>\n",
       "    </tr>\n",
       "    <tr>\n",
       "      <th>24</th>\n",
       "      <td>25</td>\n",
       "      <td>2.005562e+07</td>\n",
       "      <td>2005.500000</td>\n",
       "      <td>72.123288</td>\n",
       "      <td>52.222222</td>\n",
       "      <td>0.091830</td>\n",
       "      <td>61.371339</td>\n",
       "      <td>296.111607</td>\n",
       "    </tr>\n",
       "    <tr>\n",
       "      <th>25</th>\n",
       "      <td>26</td>\n",
       "      <td>2.005563e+07</td>\n",
       "      <td>2005.500000</td>\n",
       "      <td>75.618182</td>\n",
       "      <td>54.701422</td>\n",
       "      <td>0.094643</td>\n",
       "      <td>63.040357</td>\n",
       "      <td>486.763393</td>\n",
       "    </tr>\n",
       "    <tr>\n",
       "      <th>26</th>\n",
       "      <td>27</td>\n",
       "      <td>2.005568e+07</td>\n",
       "      <td>2005.500000</td>\n",
       "      <td>77.950673</td>\n",
       "      <td>55.863636</td>\n",
       "      <td>0.022187</td>\n",
       "      <td>64.806607</td>\n",
       "      <td>779.830357</td>\n",
       "    </tr>\n",
       "    <tr>\n",
       "      <th>27</th>\n",
       "      <td>28</td>\n",
       "      <td>2.005571e+07</td>\n",
       "      <td>2005.500000</td>\n",
       "      <td>79.049107</td>\n",
       "      <td>56.527778</td>\n",
       "      <td>0.027857</td>\n",
       "      <td>66.333393</td>\n",
       "      <td>1284.473214</td>\n",
       "    </tr>\n",
       "    <tr>\n",
       "      <th>28</th>\n",
       "      <td>29</td>\n",
       "      <td>2.005572e+07</td>\n",
       "      <td>2005.500000</td>\n",
       "      <td>79.558036</td>\n",
       "      <td>57.648148</td>\n",
       "      <td>0.015000</td>\n",
       "      <td>67.785446</td>\n",
       "      <td>2055.852679</td>\n",
       "    </tr>\n",
       "    <tr>\n",
       "      <th>29</th>\n",
       "      <td>30</td>\n",
       "      <td>2.005572e+07</td>\n",
       "      <td>2005.500000</td>\n",
       "      <td>81.285714</td>\n",
       "      <td>58.201835</td>\n",
       "      <td>0.014554</td>\n",
       "      <td>69.076786</td>\n",
       "      <td>2856.870536</td>\n",
       "    </tr>\n",
       "    <tr>\n",
       "      <th>30</th>\n",
       "      <td>31</td>\n",
       "      <td>2.005575e+07</td>\n",
       "      <td>2005.500000</td>\n",
       "      <td>82.693694</td>\n",
       "      <td>58.373832</td>\n",
       "      <td>0.013527</td>\n",
       "      <td>69.936607</td>\n",
       "      <td>3642.700893</td>\n",
       "    </tr>\n",
       "    <tr>\n",
       "      <th>31</th>\n",
       "      <td>32</td>\n",
       "      <td>2.005580e+07</td>\n",
       "      <td>2005.500000</td>\n",
       "      <td>81.651786</td>\n",
       "      <td>58.824885</td>\n",
       "      <td>0.018080</td>\n",
       "      <td>70.740982</td>\n",
       "      <td>3808.191964</td>\n",
       "    </tr>\n",
       "    <tr>\n",
       "      <th>32</th>\n",
       "      <td>33</td>\n",
       "      <td>2.005581e+07</td>\n",
       "      <td>2005.500000</td>\n",
       "      <td>81.370536</td>\n",
       "      <td>58.697248</td>\n",
       "      <td>0.017679</td>\n",
       "      <td>70.867143</td>\n",
       "      <td>4095.589286</td>\n",
       "    </tr>\n",
       "    <tr>\n",
       "      <th>33</th>\n",
       "      <td>34</td>\n",
       "      <td>2.005582e+07</td>\n",
       "      <td>2005.500000</td>\n",
       "      <td>80.000000</td>\n",
       "      <td>57.574661</td>\n",
       "      <td>0.028795</td>\n",
       "      <td>70.623661</td>\n",
       "      <td>3344.816964</td>\n",
       "    </tr>\n",
       "    <tr>\n",
       "      <th>34</th>\n",
       "      <td>35</td>\n",
       "      <td>2.005583e+07</td>\n",
       "      <td>2005.500000</td>\n",
       "      <td>80.075893</td>\n",
       "      <td>56.132420</td>\n",
       "      <td>0.050089</td>\n",
       "      <td>70.095714</td>\n",
       "      <td>3044.790179</td>\n",
       "    </tr>\n",
       "    <tr>\n",
       "      <th>35</th>\n",
       "      <td>36</td>\n",
       "      <td>2.005589e+07</td>\n",
       "      <td>2005.500000</td>\n",
       "      <td>78.254464</td>\n",
       "      <td>55.619910</td>\n",
       "      <td>0.045446</td>\n",
       "      <td>69.402870</td>\n",
       "      <td>3060.094170</td>\n",
       "    </tr>\n",
       "    <tr>\n",
       "      <th>36</th>\n",
       "      <td>37</td>\n",
       "      <td>2.005591e+07</td>\n",
       "      <td>2005.500000</td>\n",
       "      <td>77.237668</td>\n",
       "      <td>54.097674</td>\n",
       "      <td>0.054018</td>\n",
       "      <td>68.460446</td>\n",
       "      <td>2956.129464</td>\n",
       "    </tr>\n",
       "    <tr>\n",
       "      <th>37</th>\n",
       "      <td>38</td>\n",
       "      <td>2.005592e+07</td>\n",
       "      <td>2005.500000</td>\n",
       "      <td>73.044643</td>\n",
       "      <td>52.882353</td>\n",
       "      <td>0.121786</td>\n",
       "      <td>67.274906</td>\n",
       "      <td>2476.642857</td>\n",
       "    </tr>\n",
       "    <tr>\n",
       "      <th>38</th>\n",
       "      <td>39</td>\n",
       "      <td>2.005592e+07</td>\n",
       "      <td>2005.500000</td>\n",
       "      <td>73.653153</td>\n",
       "      <td>52.200000</td>\n",
       "      <td>0.106384</td>\n",
       "      <td>66.405851</td>\n",
       "      <td>1561.071429</td>\n",
       "    </tr>\n",
       "    <tr>\n",
       "      <th>39</th>\n",
       "      <td>40</td>\n",
       "      <td>2.005597e+07</td>\n",
       "      <td>2005.500000</td>\n",
       "      <td>70.361607</td>\n",
       "      <td>50.265116</td>\n",
       "      <td>0.140893</td>\n",
       "      <td>65.412500</td>\n",
       "      <td>861.593750</td>\n",
       "    </tr>\n",
       "    <tr>\n",
       "      <th>40</th>\n",
       "      <td>41</td>\n",
       "      <td>2.005601e+07</td>\n",
       "      <td>2005.500000</td>\n",
       "      <td>65.625000</td>\n",
       "      <td>48.195349</td>\n",
       "      <td>0.199063</td>\n",
       "      <td>63.688571</td>\n",
       "      <td>503.616071</td>\n",
       "    </tr>\n",
       "    <tr>\n",
       "      <th>41</th>\n",
       "      <td>42</td>\n",
       "      <td>2.005601e+07</td>\n",
       "      <td>2005.500000</td>\n",
       "      <td>63.265766</td>\n",
       "      <td>46.803653</td>\n",
       "      <td>0.250402</td>\n",
       "      <td>61.767904</td>\n",
       "      <td>313.419643</td>\n",
       "    </tr>\n",
       "    <tr>\n",
       "      <th>42</th>\n",
       "      <td>43</td>\n",
       "      <td>2.005602e+07</td>\n",
       "      <td>2005.500000</td>\n",
       "      <td>62.131818</td>\n",
       "      <td>46.376744</td>\n",
       "      <td>0.213616</td>\n",
       "      <td>59.820240</td>\n",
       "      <td>176.142857</td>\n",
       "    </tr>\n",
       "    <tr>\n",
       "      <th>43</th>\n",
       "      <td>44</td>\n",
       "      <td>2.005604e+07</td>\n",
       "      <td>2005.500000</td>\n",
       "      <td>57.798206</td>\n",
       "      <td>43.250000</td>\n",
       "      <td>0.330982</td>\n",
       "      <td>57.603114</td>\n",
       "      <td>109.049107</td>\n",
       "    </tr>\n",
       "    <tr>\n",
       "      <th>44</th>\n",
       "      <td>45</td>\n",
       "      <td>2.005610e+07</td>\n",
       "      <td>2005.500000</td>\n",
       "      <td>55.142857</td>\n",
       "      <td>42.745455</td>\n",
       "      <td>0.447813</td>\n",
       "      <td>55.357195</td>\n",
       "      <td>67.860987</td>\n",
       "    </tr>\n",
       "    <tr>\n",
       "      <th>45</th>\n",
       "      <td>46</td>\n",
       "      <td>2.005611e+07</td>\n",
       "      <td>2005.500000</td>\n",
       "      <td>52.986607</td>\n",
       "      <td>41.780822</td>\n",
       "      <td>0.355625</td>\n",
       "      <td>53.556154</td>\n",
       "      <td>51.178404</td>\n",
       "    </tr>\n",
       "    <tr>\n",
       "      <th>46</th>\n",
       "      <td>47</td>\n",
       "      <td>2.005612e+07</td>\n",
       "      <td>2005.500000</td>\n",
       "      <td>50.738739</td>\n",
       "      <td>40.382883</td>\n",
       "      <td>0.484286</td>\n",
       "      <td>51.386000</td>\n",
       "      <td>38.130137</td>\n",
       "    </tr>\n",
       "    <tr>\n",
       "      <th>47</th>\n",
       "      <td>48</td>\n",
       "      <td>2.005613e+07</td>\n",
       "      <td>2005.500000</td>\n",
       "      <td>46.840183</td>\n",
       "      <td>37.250000</td>\n",
       "      <td>0.442723</td>\n",
       "      <td>48.803117</td>\n",
       "      <td>28.593985</td>\n",
       "    </tr>\n",
       "    <tr>\n",
       "      <th>48</th>\n",
       "      <td>49</td>\n",
       "      <td>2.005619e+07</td>\n",
       "      <td>2005.500000</td>\n",
       "      <td>45.869369</td>\n",
       "      <td>36.470588</td>\n",
       "      <td>0.384182</td>\n",
       "      <td>46.776579</td>\n",
       "      <td>24.082707</td>\n",
       "    </tr>\n",
       "    <tr>\n",
       "      <th>49</th>\n",
       "      <td>50</td>\n",
       "      <td>2.005621e+07</td>\n",
       "      <td>2005.500000</td>\n",
       "      <td>43.837104</td>\n",
       "      <td>35.136986</td>\n",
       "      <td>0.465069</td>\n",
       "      <td>44.737922</td>\n",
       "      <td>23.023438</td>\n",
       "    </tr>\n",
       "    <tr>\n",
       "      <th>50</th>\n",
       "      <td>51</td>\n",
       "      <td>2.005622e+07</td>\n",
       "      <td>2005.500000</td>\n",
       "      <td>43.044843</td>\n",
       "      <td>34.439462</td>\n",
       "      <td>0.397051</td>\n",
       "      <td>43.167013</td>\n",
       "      <td>17.977273</td>\n",
       "    </tr>\n",
       "    <tr>\n",
       "      <th>51</th>\n",
       "      <td>52</td>\n",
       "      <td>2.005622e+07</td>\n",
       "      <td>2005.500000</td>\n",
       "      <td>41.741935</td>\n",
       "      <td>33.474654</td>\n",
       "      <td>0.415660</td>\n",
       "      <td>42.000800</td>\n",
       "      <td>18.465116</td>\n",
       "    </tr>\n",
       "    <tr>\n",
       "      <th>52</th>\n",
       "      <td>53</td>\n",
       "      <td>2.005638e+07</td>\n",
       "      <td>2005.514925</td>\n",
       "      <td>42.796992</td>\n",
       "      <td>33.879699</td>\n",
       "      <td>0.456457</td>\n",
       "      <td>41.216735</td>\n",
       "      <td>16.013699</td>\n",
       "    </tr>\n",
       "    <tr>\n",
       "      <th>53</th>\n",
       "      <td>54</td>\n",
       "      <td>2.000123e+07</td>\n",
       "      <td>2000.000000</td>\n",
       "      <td>42.000000</td>\n",
       "      <td>35.000000</td>\n",
       "      <td>0.060000</td>\n",
       "      <td>NaN</td>\n",
       "      <td>NaN</td>\n",
       "    </tr>\n",
       "  </tbody>\n",
       "</table>\n",
       "</div>"
      ],
      "text/plain": [
       "    weeknumber       countid    yearvalue   maxtempf   mintempf  \\\n",
       "0            1  2.005568e+07  2005.558140  43.346457  33.669355   \n",
       "1            2  2.005511e+07  2005.500000  43.072072  34.340807   \n",
       "2            3  2.005512e+07  2005.500000  42.945946  34.198198   \n",
       "3            4  2.005512e+07  2005.500000  44.500000  35.230769   \n",
       "4            5  2.005514e+07  2005.500000  45.963636  36.290323   \n",
       "5            6  2.005520e+07  2005.500000  46.577273  35.465438   \n",
       "6            7  2.005521e+07  2005.500000  47.278027  35.369369   \n",
       "7            8  2.005522e+07  2005.500000  49.227907  36.098592   \n",
       "8            9  2.005524e+07  2005.500000  49.289593  35.168950   \n",
       "9           10  2.005530e+07  2005.500000  50.773148  36.288372   \n",
       "10          11  2.005531e+07  2005.500000  54.764977  37.985849   \n",
       "11          12  2.005532e+07  2005.500000  55.221198  38.549763   \n",
       "12          13  2.005533e+07  2005.500000  55.967593  39.635071   \n",
       "13          14  2.005538e+07  2005.500000  58.139640  40.421296   \n",
       "14          15  2.005541e+07  2005.500000  58.120536  41.397321   \n",
       "15          16  2.005542e+07  2005.500000  60.035874  42.233945   \n",
       "16          17  2.005542e+07  2005.500000  63.291480  43.539171   \n",
       "17          18  2.005546e+07  2005.500000  64.348214  44.045872   \n",
       "18          19  2.005551e+07  2005.500000  65.946429  45.841629   \n",
       "19          20  2.005551e+07  2005.500000  67.591928  47.737557   \n",
       "20          21  2.005552e+07  2005.500000  67.802691  48.739535   \n",
       "21          22  2.005554e+07  2005.500000  69.769231  50.685185   \n",
       "22          23  2.005559e+07  2005.500000  70.700893  50.791855   \n",
       "23          24  2.005561e+07  2005.500000  70.050000  51.750000   \n",
       "24          25  2.005562e+07  2005.500000  72.123288  52.222222   \n",
       "25          26  2.005563e+07  2005.500000  75.618182  54.701422   \n",
       "26          27  2.005568e+07  2005.500000  77.950673  55.863636   \n",
       "27          28  2.005571e+07  2005.500000  79.049107  56.527778   \n",
       "28          29  2.005572e+07  2005.500000  79.558036  57.648148   \n",
       "29          30  2.005572e+07  2005.500000  81.285714  58.201835   \n",
       "30          31  2.005575e+07  2005.500000  82.693694  58.373832   \n",
       "31          32  2.005580e+07  2005.500000  81.651786  58.824885   \n",
       "32          33  2.005581e+07  2005.500000  81.370536  58.697248   \n",
       "33          34  2.005582e+07  2005.500000  80.000000  57.574661   \n",
       "34          35  2.005583e+07  2005.500000  80.075893  56.132420   \n",
       "35          36  2.005589e+07  2005.500000  78.254464  55.619910   \n",
       "36          37  2.005591e+07  2005.500000  77.237668  54.097674   \n",
       "37          38  2.005592e+07  2005.500000  73.044643  52.882353   \n",
       "38          39  2.005592e+07  2005.500000  73.653153  52.200000   \n",
       "39          40  2.005597e+07  2005.500000  70.361607  50.265116   \n",
       "40          41  2.005601e+07  2005.500000  65.625000  48.195349   \n",
       "41          42  2.005601e+07  2005.500000  63.265766  46.803653   \n",
       "42          43  2.005602e+07  2005.500000  62.131818  46.376744   \n",
       "43          44  2.005604e+07  2005.500000  57.798206  43.250000   \n",
       "44          45  2.005610e+07  2005.500000  55.142857  42.745455   \n",
       "45          46  2.005611e+07  2005.500000  52.986607  41.780822   \n",
       "46          47  2.005612e+07  2005.500000  50.738739  40.382883   \n",
       "47          48  2.005613e+07  2005.500000  46.840183  37.250000   \n",
       "48          49  2.005619e+07  2005.500000  45.869369  36.470588   \n",
       "49          50  2.005621e+07  2005.500000  43.837104  35.136986   \n",
       "50          51  2.005622e+07  2005.500000  43.044843  34.439462   \n",
       "51          52  2.005622e+07  2005.500000  41.741935  33.474654   \n",
       "52          53  2.005638e+07  2005.514925  42.796992  33.879699   \n",
       "53          54  2.000123e+07  2000.000000  42.000000  35.000000   \n",
       "\n",
       "    precipitationinch  watertempf  stlheadcount  \n",
       "0            0.363125   40.810690     15.786667  \n",
       "1            0.413705   40.291250     14.858268  \n",
       "2            0.390773   39.258776     13.894309  \n",
       "3            0.343198   38.791753     13.440000  \n",
       "4            0.397162   38.704082     15.000000  \n",
       "5            0.334107   38.968298     14.175000  \n",
       "6            0.245561   39.102653     16.396825  \n",
       "7            0.352192   39.478351     19.671875  \n",
       "8            0.242377   40.075876     22.907692  \n",
       "9            0.340968   40.784706     31.375940  \n",
       "10           0.245991   42.119685     41.513333  \n",
       "11           0.277834   43.644880     43.649770  \n",
       "12           0.235806   44.886175     47.718750  \n",
       "13           0.256937   46.227465     54.437500  \n",
       "14           0.264286   47.557143     52.669643  \n",
       "15           0.202768   49.163041     44.290179  \n",
       "16           0.183884   50.651152     40.848214  \n",
       "17           0.171384   52.312627     38.080357  \n",
       "18           0.139464   53.802396     49.468468  \n",
       "19           0.126726   55.285530     57.013393  \n",
       "20           0.153874   56.697636     66.623318  \n",
       "21           0.106591   57.775357     82.143498  \n",
       "22           0.134509   59.080357    117.656250  \n",
       "23           0.137768   60.120179    173.308036  \n",
       "24           0.091830   61.371339    296.111607  \n",
       "25           0.094643   63.040357    486.763393  \n",
       "26           0.022187   64.806607    779.830357  \n",
       "27           0.027857   66.333393   1284.473214  \n",
       "28           0.015000   67.785446   2055.852679  \n",
       "29           0.014554   69.076786   2856.870536  \n",
       "30           0.013527   69.936607   3642.700893  \n",
       "31           0.018080   70.740982   3808.191964  \n",
       "32           0.017679   70.867143   4095.589286  \n",
       "33           0.028795   70.623661   3344.816964  \n",
       "34           0.050089   70.095714   3044.790179  \n",
       "35           0.045446   69.402870   3060.094170  \n",
       "36           0.054018   68.460446   2956.129464  \n",
       "37           0.121786   67.274906   2476.642857  \n",
       "38           0.106384   66.405851   1561.071429  \n",
       "39           0.140893   65.412500    861.593750  \n",
       "40           0.199063   63.688571    503.616071  \n",
       "41           0.250402   61.767904    313.419643  \n",
       "42           0.213616   59.820240    176.142857  \n",
       "43           0.330982   57.603114    109.049107  \n",
       "44           0.447813   55.357195     67.860987  \n",
       "45           0.355625   53.556154     51.178404  \n",
       "46           0.484286   51.386000     38.130137  \n",
       "47           0.442723   48.803117     28.593985  \n",
       "48           0.384182   46.776579     24.082707  \n",
       "49           0.465069   44.737922     23.023438  \n",
       "50           0.397051   43.167013     17.977273  \n",
       "51           0.415660   42.000800     18.465116  \n",
       "52           0.456457   41.216735     16.013699  \n",
       "53           0.060000         NaN           NaN  "
      ]
     },
     "execution_count": 11,
     "metadata": {},
     "output_type": "execute_result"
    }
   ],
   "source": [
    "# Make a df grouped by average count on monthvalue\n",
    "week_df = df.groupby(['weeknumber']).mean().reset_index()\n",
    "week_df = week_df.drop(columns = ['monthvalue'])\n",
    "week_df"
   ]
  },
  {
   "cell_type": "code",
   "execution_count": 12,
   "id": "0cdba100",
   "metadata": {},
   "outputs": [
    {
     "ename": "IntCastingNaNError",
     "evalue": "Cannot convert non-finite values (NA or inf) to integer",
     "output_type": "error",
     "traceback": [
      "\u001b[1;31m---------------------------------------------------------------------------\u001b[0m",
      "\u001b[1;31mIntCastingNaNError\u001b[0m                        Traceback (most recent call last)",
      "\u001b[1;32m~\\AppData\\Local\\Temp/ipykernel_32324/1873887180.py\u001b[0m in \u001b[0;36m<module>\u001b[1;34m\u001b[0m\n\u001b[1;32m----> 1\u001b[1;33m \u001b[0mweek_df\u001b[0m \u001b[1;33m=\u001b[0m \u001b[0mweek_df\u001b[0m\u001b[1;33m.\u001b[0m\u001b[0mastype\u001b[0m\u001b[1;33m(\u001b[0m\u001b[1;33m{\u001b[0m\u001b[1;34m'stlheadcount'\u001b[0m\u001b[1;33m:\u001b[0m \u001b[1;34m'int64'\u001b[0m\u001b[1;33m}\u001b[0m\u001b[1;33m)\u001b[0m\u001b[1;33m\u001b[0m\u001b[1;33m\u001b[0m\u001b[0m\n\u001b[0m",
      "\u001b[1;32m~\\anaconda3\\envs\\mlenv\\lib\\site-packages\\pandas\\core\\generic.py\u001b[0m in \u001b[0;36mastype\u001b[1;34m(self, dtype, copy, errors)\u001b[0m\n\u001b[0;32m   5797\u001b[0m                 \u001b[1;32mif\u001b[0m \u001b[0mcol_name\u001b[0m \u001b[1;32min\u001b[0m \u001b[0mdtype\u001b[0m\u001b[1;33m:\u001b[0m\u001b[1;33m\u001b[0m\u001b[1;33m\u001b[0m\u001b[0m\n\u001b[0;32m   5798\u001b[0m                     results.append(\n\u001b[1;32m-> 5799\u001b[1;33m                         \u001b[0mcol\u001b[0m\u001b[1;33m.\u001b[0m\u001b[0mastype\u001b[0m\u001b[1;33m(\u001b[0m\u001b[0mdtype\u001b[0m\u001b[1;33m=\u001b[0m\u001b[0mdtype\u001b[0m\u001b[1;33m[\u001b[0m\u001b[0mcol_name\u001b[0m\u001b[1;33m]\u001b[0m\u001b[1;33m,\u001b[0m \u001b[0mcopy\u001b[0m\u001b[1;33m=\u001b[0m\u001b[0mcopy\u001b[0m\u001b[1;33m,\u001b[0m \u001b[0merrors\u001b[0m\u001b[1;33m=\u001b[0m\u001b[0merrors\u001b[0m\u001b[1;33m)\u001b[0m\u001b[1;33m\u001b[0m\u001b[1;33m\u001b[0m\u001b[0m\n\u001b[0m\u001b[0;32m   5800\u001b[0m                     )\n\u001b[0;32m   5801\u001b[0m                 \u001b[1;32melse\u001b[0m\u001b[1;33m:\u001b[0m\u001b[1;33m\u001b[0m\u001b[1;33m\u001b[0m\u001b[0m\n",
      "\u001b[1;32m~\\anaconda3\\envs\\mlenv\\lib\\site-packages\\pandas\\core\\generic.py\u001b[0m in \u001b[0;36mastype\u001b[1;34m(self, dtype, copy, errors)\u001b[0m\n\u001b[0;32m   5813\u001b[0m         \u001b[1;32melse\u001b[0m\u001b[1;33m:\u001b[0m\u001b[1;33m\u001b[0m\u001b[1;33m\u001b[0m\u001b[0m\n\u001b[0;32m   5814\u001b[0m             \u001b[1;31m# else, only a single dtype is given\u001b[0m\u001b[1;33m\u001b[0m\u001b[1;33m\u001b[0m\u001b[1;33m\u001b[0m\u001b[0m\n\u001b[1;32m-> 5815\u001b[1;33m             \u001b[0mnew_data\u001b[0m \u001b[1;33m=\u001b[0m \u001b[0mself\u001b[0m\u001b[1;33m.\u001b[0m\u001b[0m_mgr\u001b[0m\u001b[1;33m.\u001b[0m\u001b[0mastype\u001b[0m\u001b[1;33m(\u001b[0m\u001b[0mdtype\u001b[0m\u001b[1;33m=\u001b[0m\u001b[0mdtype\u001b[0m\u001b[1;33m,\u001b[0m \u001b[0mcopy\u001b[0m\u001b[1;33m=\u001b[0m\u001b[0mcopy\u001b[0m\u001b[1;33m,\u001b[0m \u001b[0merrors\u001b[0m\u001b[1;33m=\u001b[0m\u001b[0merrors\u001b[0m\u001b[1;33m)\u001b[0m\u001b[1;33m\u001b[0m\u001b[1;33m\u001b[0m\u001b[0m\n\u001b[0m\u001b[0;32m   5816\u001b[0m             \u001b[1;32mreturn\u001b[0m \u001b[0mself\u001b[0m\u001b[1;33m.\u001b[0m\u001b[0m_constructor\u001b[0m\u001b[1;33m(\u001b[0m\u001b[0mnew_data\u001b[0m\u001b[1;33m)\u001b[0m\u001b[1;33m.\u001b[0m\u001b[0m__finalize__\u001b[0m\u001b[1;33m(\u001b[0m\u001b[0mself\u001b[0m\u001b[1;33m,\u001b[0m \u001b[0mmethod\u001b[0m\u001b[1;33m=\u001b[0m\u001b[1;34m\"astype\"\u001b[0m\u001b[1;33m)\u001b[0m\u001b[1;33m\u001b[0m\u001b[1;33m\u001b[0m\u001b[0m\n\u001b[0;32m   5817\u001b[0m \u001b[1;33m\u001b[0m\u001b[0m\n",
      "\u001b[1;32m~\\anaconda3\\envs\\mlenv\\lib\\site-packages\\pandas\\core\\internals\\managers.py\u001b[0m in \u001b[0;36mastype\u001b[1;34m(self, dtype, copy, errors)\u001b[0m\n\u001b[0;32m    416\u001b[0m \u001b[1;33m\u001b[0m\u001b[0m\n\u001b[0;32m    417\u001b[0m     \u001b[1;32mdef\u001b[0m \u001b[0mastype\u001b[0m\u001b[1;33m(\u001b[0m\u001b[0mself\u001b[0m\u001b[1;33m:\u001b[0m \u001b[0mT\u001b[0m\u001b[1;33m,\u001b[0m \u001b[0mdtype\u001b[0m\u001b[1;33m,\u001b[0m \u001b[0mcopy\u001b[0m\u001b[1;33m:\u001b[0m \u001b[0mbool\u001b[0m \u001b[1;33m=\u001b[0m \u001b[1;32mFalse\u001b[0m\u001b[1;33m,\u001b[0m \u001b[0merrors\u001b[0m\u001b[1;33m:\u001b[0m \u001b[0mstr\u001b[0m \u001b[1;33m=\u001b[0m \u001b[1;34m\"raise\"\u001b[0m\u001b[1;33m)\u001b[0m \u001b[1;33m->\u001b[0m \u001b[0mT\u001b[0m\u001b[1;33m:\u001b[0m\u001b[1;33m\u001b[0m\u001b[1;33m\u001b[0m\u001b[0m\n\u001b[1;32m--> 418\u001b[1;33m         \u001b[1;32mreturn\u001b[0m \u001b[0mself\u001b[0m\u001b[1;33m.\u001b[0m\u001b[0mapply\u001b[0m\u001b[1;33m(\u001b[0m\u001b[1;34m\"astype\"\u001b[0m\u001b[1;33m,\u001b[0m \u001b[0mdtype\u001b[0m\u001b[1;33m=\u001b[0m\u001b[0mdtype\u001b[0m\u001b[1;33m,\u001b[0m \u001b[0mcopy\u001b[0m\u001b[1;33m=\u001b[0m\u001b[0mcopy\u001b[0m\u001b[1;33m,\u001b[0m \u001b[0merrors\u001b[0m\u001b[1;33m=\u001b[0m\u001b[0merrors\u001b[0m\u001b[1;33m)\u001b[0m\u001b[1;33m\u001b[0m\u001b[1;33m\u001b[0m\u001b[0m\n\u001b[0m\u001b[0;32m    419\u001b[0m \u001b[1;33m\u001b[0m\u001b[0m\n\u001b[0;32m    420\u001b[0m     def convert(\n",
      "\u001b[1;32m~\\anaconda3\\envs\\mlenv\\lib\\site-packages\\pandas\\core\\internals\\managers.py\u001b[0m in \u001b[0;36mapply\u001b[1;34m(self, f, align_keys, ignore_failures, **kwargs)\u001b[0m\n\u001b[0;32m    325\u001b[0m                     \u001b[0mapplied\u001b[0m \u001b[1;33m=\u001b[0m \u001b[0mb\u001b[0m\u001b[1;33m.\u001b[0m\u001b[0mapply\u001b[0m\u001b[1;33m(\u001b[0m\u001b[0mf\u001b[0m\u001b[1;33m,\u001b[0m \u001b[1;33m**\u001b[0m\u001b[0mkwargs\u001b[0m\u001b[1;33m)\u001b[0m\u001b[1;33m\u001b[0m\u001b[1;33m\u001b[0m\u001b[0m\n\u001b[0;32m    326\u001b[0m                 \u001b[1;32melse\u001b[0m\u001b[1;33m:\u001b[0m\u001b[1;33m\u001b[0m\u001b[1;33m\u001b[0m\u001b[0m\n\u001b[1;32m--> 327\u001b[1;33m                     \u001b[0mapplied\u001b[0m \u001b[1;33m=\u001b[0m \u001b[0mgetattr\u001b[0m\u001b[1;33m(\u001b[0m\u001b[0mb\u001b[0m\u001b[1;33m,\u001b[0m \u001b[0mf\u001b[0m\u001b[1;33m)\u001b[0m\u001b[1;33m(\u001b[0m\u001b[1;33m**\u001b[0m\u001b[0mkwargs\u001b[0m\u001b[1;33m)\u001b[0m\u001b[1;33m\u001b[0m\u001b[1;33m\u001b[0m\u001b[0m\n\u001b[0m\u001b[0;32m    328\u001b[0m             \u001b[1;32mexcept\u001b[0m \u001b[1;33m(\u001b[0m\u001b[0mTypeError\u001b[0m\u001b[1;33m,\u001b[0m \u001b[0mNotImplementedError\u001b[0m\u001b[1;33m)\u001b[0m\u001b[1;33m:\u001b[0m\u001b[1;33m\u001b[0m\u001b[1;33m\u001b[0m\u001b[0m\n\u001b[0;32m    329\u001b[0m                 \u001b[1;32mif\u001b[0m \u001b[1;32mnot\u001b[0m \u001b[0mignore_failures\u001b[0m\u001b[1;33m:\u001b[0m\u001b[1;33m\u001b[0m\u001b[1;33m\u001b[0m\u001b[0m\n",
      "\u001b[1;32m~\\anaconda3\\envs\\mlenv\\lib\\site-packages\\pandas\\core\\internals\\blocks.py\u001b[0m in \u001b[0;36mastype\u001b[1;34m(self, dtype, copy, errors)\u001b[0m\n\u001b[0;32m    589\u001b[0m         \u001b[0mvalues\u001b[0m \u001b[1;33m=\u001b[0m \u001b[0mself\u001b[0m\u001b[1;33m.\u001b[0m\u001b[0mvalues\u001b[0m\u001b[1;33m\u001b[0m\u001b[1;33m\u001b[0m\u001b[0m\n\u001b[0;32m    590\u001b[0m \u001b[1;33m\u001b[0m\u001b[0m\n\u001b[1;32m--> 591\u001b[1;33m         \u001b[0mnew_values\u001b[0m \u001b[1;33m=\u001b[0m \u001b[0mastype_array_safe\u001b[0m\u001b[1;33m(\u001b[0m\u001b[0mvalues\u001b[0m\u001b[1;33m,\u001b[0m \u001b[0mdtype\u001b[0m\u001b[1;33m,\u001b[0m \u001b[0mcopy\u001b[0m\u001b[1;33m=\u001b[0m\u001b[0mcopy\u001b[0m\u001b[1;33m,\u001b[0m \u001b[0merrors\u001b[0m\u001b[1;33m=\u001b[0m\u001b[0merrors\u001b[0m\u001b[1;33m)\u001b[0m\u001b[1;33m\u001b[0m\u001b[1;33m\u001b[0m\u001b[0m\n\u001b[0m\u001b[0;32m    592\u001b[0m \u001b[1;33m\u001b[0m\u001b[0m\n\u001b[0;32m    593\u001b[0m         \u001b[0mnew_values\u001b[0m \u001b[1;33m=\u001b[0m \u001b[0mmaybe_coerce_values\u001b[0m\u001b[1;33m(\u001b[0m\u001b[0mnew_values\u001b[0m\u001b[1;33m)\u001b[0m\u001b[1;33m\u001b[0m\u001b[1;33m\u001b[0m\u001b[0m\n",
      "\u001b[1;32m~\\anaconda3\\envs\\mlenv\\lib\\site-packages\\pandas\\core\\dtypes\\cast.py\u001b[0m in \u001b[0;36mastype_array_safe\u001b[1;34m(values, dtype, copy, errors)\u001b[0m\n\u001b[0;32m   1307\u001b[0m \u001b[1;33m\u001b[0m\u001b[0m\n\u001b[0;32m   1308\u001b[0m     \u001b[1;32mtry\u001b[0m\u001b[1;33m:\u001b[0m\u001b[1;33m\u001b[0m\u001b[1;33m\u001b[0m\u001b[0m\n\u001b[1;32m-> 1309\u001b[1;33m         \u001b[0mnew_values\u001b[0m \u001b[1;33m=\u001b[0m \u001b[0mastype_array\u001b[0m\u001b[1;33m(\u001b[0m\u001b[0mvalues\u001b[0m\u001b[1;33m,\u001b[0m \u001b[0mdtype\u001b[0m\u001b[1;33m,\u001b[0m \u001b[0mcopy\u001b[0m\u001b[1;33m=\u001b[0m\u001b[0mcopy\u001b[0m\u001b[1;33m)\u001b[0m\u001b[1;33m\u001b[0m\u001b[1;33m\u001b[0m\u001b[0m\n\u001b[0m\u001b[0;32m   1310\u001b[0m     \u001b[1;32mexcept\u001b[0m \u001b[1;33m(\u001b[0m\u001b[0mValueError\u001b[0m\u001b[1;33m,\u001b[0m \u001b[0mTypeError\u001b[0m\u001b[1;33m)\u001b[0m\u001b[1;33m:\u001b[0m\u001b[1;33m\u001b[0m\u001b[1;33m\u001b[0m\u001b[0m\n\u001b[0;32m   1311\u001b[0m         \u001b[1;31m# e.g. astype_nansafe can fail on object-dtype of strings\u001b[0m\u001b[1;33m\u001b[0m\u001b[1;33m\u001b[0m\u001b[1;33m\u001b[0m\u001b[0m\n",
      "\u001b[1;32m~\\anaconda3\\envs\\mlenv\\lib\\site-packages\\pandas\\core\\dtypes\\cast.py\u001b[0m in \u001b[0;36mastype_array\u001b[1;34m(values, dtype, copy)\u001b[0m\n\u001b[0;32m   1255\u001b[0m \u001b[1;33m\u001b[0m\u001b[0m\n\u001b[0;32m   1256\u001b[0m     \u001b[1;32melse\u001b[0m\u001b[1;33m:\u001b[0m\u001b[1;33m\u001b[0m\u001b[1;33m\u001b[0m\u001b[0m\n\u001b[1;32m-> 1257\u001b[1;33m         \u001b[0mvalues\u001b[0m \u001b[1;33m=\u001b[0m \u001b[0mastype_nansafe\u001b[0m\u001b[1;33m(\u001b[0m\u001b[0mvalues\u001b[0m\u001b[1;33m,\u001b[0m \u001b[0mdtype\u001b[0m\u001b[1;33m,\u001b[0m \u001b[0mcopy\u001b[0m\u001b[1;33m=\u001b[0m\u001b[0mcopy\u001b[0m\u001b[1;33m)\u001b[0m\u001b[1;33m\u001b[0m\u001b[1;33m\u001b[0m\u001b[0m\n\u001b[0m\u001b[0;32m   1258\u001b[0m \u001b[1;33m\u001b[0m\u001b[0m\n\u001b[0;32m   1259\u001b[0m     \u001b[1;31m# in pandas we don't store numpy str dtypes, so convert to object\u001b[0m\u001b[1;33m\u001b[0m\u001b[1;33m\u001b[0m\u001b[1;33m\u001b[0m\u001b[0m\n",
      "\u001b[1;32m~\\anaconda3\\envs\\mlenv\\lib\\site-packages\\pandas\\core\\dtypes\\cast.py\u001b[0m in \u001b[0;36mastype_nansafe\u001b[1;34m(arr, dtype, copy, skipna)\u001b[0m\n\u001b[0;32m   1166\u001b[0m \u001b[1;33m\u001b[0m\u001b[0m\n\u001b[0;32m   1167\u001b[0m     \u001b[1;32melif\u001b[0m \u001b[0mnp\u001b[0m\u001b[1;33m.\u001b[0m\u001b[0missubdtype\u001b[0m\u001b[1;33m(\u001b[0m\u001b[0marr\u001b[0m\u001b[1;33m.\u001b[0m\u001b[0mdtype\u001b[0m\u001b[1;33m,\u001b[0m \u001b[0mnp\u001b[0m\u001b[1;33m.\u001b[0m\u001b[0mfloating\u001b[0m\u001b[1;33m)\u001b[0m \u001b[1;32mand\u001b[0m \u001b[0mnp\u001b[0m\u001b[1;33m.\u001b[0m\u001b[0missubdtype\u001b[0m\u001b[1;33m(\u001b[0m\u001b[0mdtype\u001b[0m\u001b[1;33m,\u001b[0m \u001b[0mnp\u001b[0m\u001b[1;33m.\u001b[0m\u001b[0minteger\u001b[0m\u001b[1;33m)\u001b[0m\u001b[1;33m:\u001b[0m\u001b[1;33m\u001b[0m\u001b[1;33m\u001b[0m\u001b[0m\n\u001b[1;32m-> 1168\u001b[1;33m         \u001b[1;32mreturn\u001b[0m \u001b[0mastype_float_to_int_nansafe\u001b[0m\u001b[1;33m(\u001b[0m\u001b[0marr\u001b[0m\u001b[1;33m,\u001b[0m \u001b[0mdtype\u001b[0m\u001b[1;33m,\u001b[0m \u001b[0mcopy\u001b[0m\u001b[1;33m)\u001b[0m\u001b[1;33m\u001b[0m\u001b[1;33m\u001b[0m\u001b[0m\n\u001b[0m\u001b[0;32m   1169\u001b[0m \u001b[1;33m\u001b[0m\u001b[0m\n\u001b[0;32m   1170\u001b[0m     \u001b[1;32melif\u001b[0m \u001b[0mis_object_dtype\u001b[0m\u001b[1;33m(\u001b[0m\u001b[0marr\u001b[0m\u001b[1;33m)\u001b[0m\u001b[1;33m:\u001b[0m\u001b[1;33m\u001b[0m\u001b[1;33m\u001b[0m\u001b[0m\n",
      "\u001b[1;32m~\\anaconda3\\envs\\mlenv\\lib\\site-packages\\pandas\\core\\dtypes\\cast.py\u001b[0m in \u001b[0;36mastype_float_to_int_nansafe\u001b[1;34m(values, dtype, copy)\u001b[0m\n\u001b[0;32m   1212\u001b[0m     \u001b[1;32mif\u001b[0m \u001b[1;32mnot\u001b[0m \u001b[0mnp\u001b[0m\u001b[1;33m.\u001b[0m\u001b[0misfinite\u001b[0m\u001b[1;33m(\u001b[0m\u001b[0mvalues\u001b[0m\u001b[1;33m)\u001b[0m\u001b[1;33m.\u001b[0m\u001b[0mall\u001b[0m\u001b[1;33m(\u001b[0m\u001b[1;33m)\u001b[0m\u001b[1;33m:\u001b[0m\u001b[1;33m\u001b[0m\u001b[1;33m\u001b[0m\u001b[0m\n\u001b[0;32m   1213\u001b[0m         raise IntCastingNaNError(\n\u001b[1;32m-> 1214\u001b[1;33m             \u001b[1;34m\"Cannot convert non-finite values (NA or inf) to integer\"\u001b[0m\u001b[1;33m\u001b[0m\u001b[1;33m\u001b[0m\u001b[0m\n\u001b[0m\u001b[0;32m   1215\u001b[0m         )\n\u001b[0;32m   1216\u001b[0m     \u001b[1;32mreturn\u001b[0m \u001b[0mvalues\u001b[0m\u001b[1;33m.\u001b[0m\u001b[0mastype\u001b[0m\u001b[1;33m(\u001b[0m\u001b[0mdtype\u001b[0m\u001b[1;33m,\u001b[0m \u001b[0mcopy\u001b[0m\u001b[1;33m=\u001b[0m\u001b[0mcopy\u001b[0m\u001b[1;33m)\u001b[0m\u001b[1;33m\u001b[0m\u001b[1;33m\u001b[0m\u001b[0m\n",
      "\u001b[1;31mIntCastingNaNError\u001b[0m: Cannot convert non-finite values (NA or inf) to integer"
     ]
    }
   ],
   "source": [
    "week_df = week_df.astype({'stlheadcount': 'int64'})"
   ]
  },
  {
   "cell_type": "code",
   "execution_count": 13,
   "id": "463e4850",
   "metadata": {},
   "outputs": [
    {
     "data": {
      "text/plain": [
       "weeknumber             int64\n",
       "countid              float64\n",
       "yearvalue            float64\n",
       "maxtempf             float64\n",
       "mintempf             float64\n",
       "precipitationinch    float64\n",
       "watertempf           float64\n",
       "stlheadcount         float64\n",
       "dtype: object"
      ]
     },
     "execution_count": 13,
     "metadata": {},
     "output_type": "execute_result"
    }
   ],
   "source": [
    "week_df.dtypes"
   ]
  },
  {
   "cell_type": "code",
   "execution_count": null,
   "id": "b4920f1f",
   "metadata": {},
   "outputs": [],
   "source": [
    "# Make a df grouped by average count on monthvalue\n",
    "month_df = week_month.groupby(['monthvalue']).mean().reset_index()\n",
    "month_df.head()"
   ]
  },
  {
   "cell_type": "markdown",
   "id": "980b3e1a",
   "metadata": {},
   "source": [
    "Visualizations"
   ]
  },
  {
   "cell_type": "code",
   "execution_count": 17,
   "id": "13b179f3",
   "metadata": {
    "scrolled": false
   },
   "outputs": [
    {
     "data": {
      "image/png": "[encoded data removed]",
      "text/plain": [
       "<Figure size 432x288 with 1 Axes>"
      ]
     },
     "metadata": {
      "needs_background": "light"
     },
     "output_type": "display_data"
    },
    {
     "data": {
      "text/plain": [
       "<Figure size 432x288 with 0 Axes>"
      ]
     },
     "metadata": {},
     "output_type": "display_data"
    }
   ],
   "source": [
    "# Bar plot of weekly average of fish count over 30 years\n",
    "plt.bar(week_df.weeknumber, week_df.stlheadcount)\n",
    "plt.title('Bonneville (30 Year Average)')\n",
    "plt.xlabel('Week Number')\n",
    "plt.ylabel('Average Steelhead Count')\n",
    "plt.show()\n",
    "plt.savefig(\"Images/Steelhead_Count_by_Week.png\")"
   ]
  },
  {
   "cell_type": "code",
   "execution_count": 18,
   "id": "fae37e8a",
   "metadata": {},
   "outputs": [
    {
     "data": {
      "image/png": "[encoded data removed]",
      "text/plain": [
       "<Figure size 432x288 with 1 Axes>"
      ]
     },
     "metadata": {
      "needs_background": "light"
     },
     "output_type": "display_data"
    }
   ],
   "source": [
    "# Plot of fish count by water temperature\n",
    "plt.scatter(week_df.watertempf, week_df.stlheadcount)\n",
    "plt.title('Bonneville (30 Year-Weekly Average)')\n",
    "plt.xlabel('Water Temp (F)')\n",
    "plt.ylabel('Average Steelhead Count')\n",
    "plt.show()"
   ]
  },
  {
   "cell_type": "code",
   "execution_count": 23,
   "id": "8788a8db",
   "metadata": {},
   "outputs": [
    {
     "data": {
      "image/png": "[encoded data removed]",
      "text/plain": [
       "<Figure size 432x288 with 1 Axes>"
      ]
     },
     "metadata": {
      "needs_background": "light"
     },
     "output_type": "display_data"
    }
   ],
   "source": [
    "# Bar plot of weekly average of fish count over 30 years\n",
    "plt.bar(week_df.weeknumber, week_df.watertempf)\n",
    "plt.title('Bonneville (30 Year Average)')\n",
    "plt.xlabel('Week Number')\n",
    "plt.ylabel('Water Temp (F)')\n",
    "plt.show()"
   ]
  },
  {
   "cell_type": "code",
   "execution_count": 24,
   "id": "327f5c59",
   "metadata": {},
   "outputs": [
    {
     "data": {
      "image/png": "[encoded data removed]",
      "text/plain": [
       "<Figure size 432x288 with 1 Axes>"
      ]
     },
     "metadata": {
      "needs_background": "light"
     },
     "output_type": "display_data"
    }
   ],
   "source": [
    "# Plot of Max air temperature by Water temp\n",
    "plt.scatter(week_df.watertempf, week_df.maxtempf)\n",
    "plt.title('Bonneville (30 Year-Weekly Average)')\n",
    "plt.xlabel('Water Temp (F)')\n",
    "plt.ylabel('Max Air Temp (F)')\n",
    "plt.show()"
   ]
  },
  {
   "cell_type": "code",
   "execution_count": 25,
   "id": "ded69eaf",
   "metadata": {},
   "outputs": [
    {
     "data": {
      "image/png": "[encoded data removed]",
      "text/plain": [
       "<Figure size 432x288 with 1 Axes>"
      ]
     },
     "metadata": {
      "needs_background": "light"
     },
     "output_type": "display_data"
    }
   ],
   "source": [
    "# Plot of fish count by max air temp\n",
    "plt.scatter(week_df.maxtempf, week_df.stlheadcount)\n",
    "plt.title('Bonneville (30 Year-Weekly Average)')\n",
    "plt.xlabel('Max Air Temp (F)')\n",
    "plt.ylabel('Average Steelhead Count')\n",
    "plt.show()"
   ]
  },
  {
   "cell_type": "code",
   "execution_count": 26,
   "id": "d5694eeb",
   "metadata": {},
   "outputs": [
    {
     "data": {
      "image/png": "[encoded data removed]",
      "text/plain": [
       "<Figure size 432x288 with 1 Axes>"
      ]
     },
     "metadata": {
      "needs_background": "light"
     },
     "output_type": "display_data"
    }
   ],
   "source": [
    "# Plot of fish count by min air temp\n",
    "plt.scatter(week_df.mintempf, week_df.stlheadcount)\n",
    "plt.title('Bonneville (30 Year-Weekly Average)')\n",
    "plt.xlabel('Min Air Temp (F)')\n",
    "plt.ylabel('Average Steelhead Count')\n",
    "plt.show()"
   ]
  },
  {
   "cell_type": "code",
   "execution_count": 27,
   "id": "f1ebf519",
   "metadata": {
    "scrolled": true
   },
   "outputs": [
    {
     "data": {
      "image/png": "[encoded data removed]",
      "text/plain": [
       "<Figure size 432x288 with 1 Axes>"
      ]
     },
     "metadata": {
      "needs_background": "light"
     },
     "output_type": "display_data"
    }
   ],
   "source": [
    "# Plot of fish count by rain\n",
    "plt.scatter(week_df.precipitationinch, week_df.stlheadcount)\n",
    "plt.title('Bonneville (30 Year-Weekly Average)')\n",
    "plt.xlabel('Precipitation (In)')\n",
    "plt.ylabel('Average Steelhead Count')\n",
    "plt.show()"
   ]
  },
  {
   "cell_type": "markdown",
   "id": "2e918095",
   "metadata": {},
   "source": [
    "# Machine learning"
   ]
  },
  {
   "cell_type": "code",
   "execution_count": 28,
   "id": "d9576342",
   "metadata": {},
   "outputs": [],
   "source": [
    "from sklearn.metrics import balanced_accuracy_score\n",
    "from sklearn.metrics import confusion_matrix\n",
    "from imblearn.metrics import classification_report_imbalanced\n",
    "from sklearn.linear_model import LinearRegression\n",
    "from sklearn.metrics import accuracy_score\n",
    "from sklearn import preprocessing"
   ]
  },
  {
   "cell_type": "code",
   "execution_count": null,
   "id": "eb4a9945",
   "metadata": {},
   "outputs": [],
   "source": [
    "from sklearn.preprocessing import StandardScaler, LabelEncoder"
   ]
  },
  {
   "cell_type": "code",
   "execution_count": null,
   "id": "f56b24a7",
   "metadata": {},
   "outputs": [],
   "source": [
    "# labelencoder = LabelEncoder()\n",
    "# week_df['stlheadcount'] = labelencoder.fit_transform(week_df['stlheadcount'])"
   ]
  },
  {
   "cell_type": "code",
   "execution_count": null,
   "id": "49aba07b",
   "metadata": {},
   "outputs": [],
   "source": [
    "target = ['stlheadcount']"
   ]
  },
  {
   "cell_type": "code",
   "execution_count": null,
   "id": "e1cee995",
   "metadata": {
    "scrolled": true
   },
   "outputs": [],
   "source": [
    "# Creating features\n",
    "X = week_df.drop('stlheadcount', axis=1)\n",
    "# X = pd.get_dummies(X)\n",
    "\n",
    "# Creating target\n",
    "y = week_df['stlheadcount']\n",
    "y"
   ]
  },
  {
   "cell_type": "code",
   "execution_count": null,
   "id": "71faa7ab",
   "metadata": {},
   "outputs": [],
   "source": [
    "from sklearn.model_selection import train_test_split\n",
    "X_train, X_test, y_train, y_test = train_test_split(X, y, random_state=1)"
   ]
  },
  {
   "cell_type": "code",
   "execution_count": null,
   "id": "6055d423",
   "metadata": {},
   "outputs": [],
   "source": [
    "X_train.dtypes"
   ]
  },
  {
   "cell_type": "code",
   "execution_count": null,
   "id": "2437d72f",
   "metadata": {
    "scrolled": true
   },
   "outputs": [],
   "source": [
    "X_test"
   ]
  },
  {
   "cell_type": "code",
   "execution_count": null,
   "id": "0b9ec82e",
   "metadata": {},
   "outputs": [],
   "source": [
    "y_test"
   ]
  },
  {
   "cell_type": "code",
   "execution_count": null,
   "id": "5fd418b2",
   "metadata": {
    "scrolled": true
   },
   "outputs": [],
   "source": [
    "y_train.dtypes"
   ]
  },
  {
   "cell_type": "code",
   "execution_count": null,
   "id": "27e58ee4",
   "metadata": {},
   "outputs": [],
   "source": [
    "y_train.describe()"
   ]
  },
  {
   "cell_type": "code",
   "execution_count": null,
   "id": "06f87068",
   "metadata": {},
   "outputs": [],
   "source": [
    "# X_scaled = StandardScaler().fit_transform(X_train)\n",
    "# print(X_scaled[0:5])"
   ]
  },
  {
   "cell_type": "code",
   "execution_count": null,
   "id": "a49e58ba",
   "metadata": {},
   "outputs": [],
   "source": [
    "# X_scaled.dtype"
   ]
  },
  {
   "cell_type": "code",
   "execution_count": null,
   "id": "85a08d6a",
   "metadata": {},
   "outputs": [],
   "source": [
    "# y_scaled = StandardScaler().fit_transform(y_train)\n",
    "# print(y_scaled[0:5])"
   ]
  },
  {
   "cell_type": "code",
   "execution_count": null,
   "id": "af2ac9f3",
   "metadata": {},
   "outputs": [],
   "source": [
    "# y_scaled.dtype"
   ]
  },
  {
   "cell_type": "markdown",
   "id": "dcc077d9",
   "metadata": {},
   "source": [
    "## Naive Random Oversampling"
   ]
  },
  {
   "cell_type": "code",
   "execution_count": null,
   "id": "3f942919",
   "metadata": {},
   "outputs": [],
   "source": [
    "# Resample the training data with the RandomOversampler\n",
    "from imblearn.over_sampling import RandomOverSampler\n",
    "ros = RandomOverSampler(random_state=1)\n",
    "X_resampled, y_resampled = ros.fit_resample(X_train, y_train)\n",
    "\n",
    "Counter(y_resampled)"
   ]
  },
  {
   "cell_type": "code",
   "execution_count": null,
   "id": "42345328",
   "metadata": {},
   "outputs": [],
   "source": [
    "# Train the Logistic Regression model using the resampled data\n",
    "from sklearn.linear_model import LinearRegression\n",
    "\n",
    "model = LinearRegression()\n",
    "model.fit(X_train, y_train)"
   ]
  },
  {
   "cell_type": "code",
   "execution_count": null,
   "id": "4bc7afa4",
   "metadata": {},
   "outputs": [],
   "source": [
    "y_pred = model.predict(X_test)\n",
    "y_pred"
   ]
  },
  {
   "cell_type": "code",
   "execution_count": null,
   "id": "c8820d4e",
   "metadata": {},
   "outputs": [],
   "source": [
    "list(model.predict(X_test[:10]))"
   ]
  },
  {
   "cell_type": "code",
   "execution_count": null,
   "id": "1091ae4d",
   "metadata": {},
   "outputs": [],
   "source": [
    "y_test[:10]"
   ]
  },
  {
   "cell_type": "code",
   "execution_count": null,
   "id": "f1f76b8e",
   "metadata": {},
   "outputs": [],
   "source": [
    "model.score(X_train, y_train)"
   ]
  },
  {
   "cell_type": "code",
   "execution_count": null,
   "id": "45272e6a",
   "metadata": {},
   "outputs": [],
   "source": [
    "model.score(X_test, y_test)"
   ]
  },
  {
   "cell_type": "code",
   "execution_count": null,
   "id": "e7566aa9",
   "metadata": {},
   "outputs": [],
   "source": [
    "# Plot of fish count by rain\n",
    "plt.scatter(model.predict(X_test)[:10], y_test[:10])\n",
    "\n",
    "plt.show()"
   ]
  },
  {
   "cell_type": "code",
   "execution_count": null,
   "id": "8f45b917",
   "metadata": {},
   "outputs": [],
   "source": [
    "# Calculated the balanced accuracy score\n",
    "from sklearn.metrics import balanced_accuracy_score\n",
    "nro = balanced_accuracy_score(y_test, y_pred)\n",
    "nro"
   ]
  },
  {
   "cell_type": "code",
   "execution_count": null,
   "id": "7a4f85fe",
   "metadata": {},
   "outputs": [],
   "source": [
    "# Print the imbalanced classification report\n",
    "from imblearn.metrics import classification_report_imbalanced\n",
    "print(classification_report_imbalanced(y_test, y_pred))"
   ]
  },
  {
   "cell_type": "code",
   "execution_count": null,
   "id": "42ef32ca",
   "metadata": {},
   "outputs": [],
   "source": []
  },
  {
   "cell_type": "markdown",
   "id": "f1a63604",
   "metadata": {},
   "source": [
    "## SMOTE Oversampling"
   ]
  },
  {
   "cell_type": "code",
   "execution_count": null,
   "id": "50459d10",
   "metadata": {},
   "outputs": [],
   "source": [
    "# Resample the training data with SMOTE\n",
    "from imblearn.over_sampling import SMOTE\n",
    "X_resampled, y_resampled = SMOTE(random_state=1, sampling_strategy='auto').fit_resample(\n",
    "    X_train, y_train\n",
    ")\n",
    "Counter(y_resampled)"
   ]
  },
  {
   "cell_type": "code",
   "execution_count": null,
   "id": "14ab6d4a",
   "metadata": {},
   "outputs": [],
   "source": [
    "# Train the Logistic Regression model using the resampled data\n",
    "model = LogisticRegression(solver='lbfgs', random_state=1)\n",
    "model.fit(X_resampled, y_resampled)"
   ]
  },
  {
   "cell_type": "code",
   "execution_count": null,
   "id": "76a21dee",
   "metadata": {},
   "outputs": [],
   "source": [
    "y_pred = model.predict(X_test)\n",
    "y_pred"
   ]
  },
  {
   "cell_type": "code",
   "execution_count": null,
   "id": "451a70bf",
   "metadata": {},
   "outputs": [],
   "source": [
    "# Calculated the balanced accuracy score\n",
    "smote_bac = balanced_accuracy_score(y_test, y_pred)\n",
    "smote_bac"
   ]
  },
  {
   "cell_type": "code",
   "execution_count": null,
   "id": "a6b2ba83",
   "metadata": {},
   "outputs": [],
   "source": [
    "# Print the imbalanced classification report\n",
    "print(classification_report_imbalanced(y_test, y_pred))"
   ]
  },
  {
   "cell_type": "code",
   "execution_count": null,
   "id": "f16c152c",
   "metadata": {},
   "outputs": [],
   "source": []
  },
  {
   "cell_type": "markdown",
   "id": "d11caeae",
   "metadata": {},
   "source": [
    "## Undersampling"
   ]
  },
  {
   "cell_type": "code",
   "execution_count": null,
   "id": "7df1d1ad",
   "metadata": {
    "scrolled": true
   },
   "outputs": [],
   "source": [
    "# Resample the data using the ClusterCentroids resampler\n",
    "# Warning: This is a large dataset, and this step may take some time to complete\n",
    "from imblearn.under_sampling import ClusterCentroids\n",
    "cc = ClusterCentroids(random_state=1)\n",
    "X_resampled, y_resampled = cc.fit_resample(X, y)\n",
    "Counter(y_resampled)"
   ]
  },
  {
   "cell_type": "code",
   "execution_count": null,
   "id": "6d6c2c72",
   "metadata": {},
   "outputs": [],
   "source": [
    "# Train the Logistic Regression model using the resampled data\n",
    "from sklearn.linear_model import LogisticRegression\n",
    "model = LogisticRegression(solver='lbfgs', random_state=1)\n",
    "model.fit(X_resampled, y_resampled)"
   ]
  },
  {
   "cell_type": "code",
   "execution_count": null,
   "id": "dc1b5085",
   "metadata": {},
   "outputs": [],
   "source": [
    "y_pred = model.predict(X_test)\n",
    "y_pred"
   ]
  },
  {
   "cell_type": "code",
   "execution_count": null,
   "id": "99fc1b22",
   "metadata": {},
   "outputs": [],
   "source": [
    "# Calculated the balanced accuracy score\n",
    "from sklearn.metrics import balanced_accuracy_score\n",
    "under_bac = balanced_accuracy_score(y_test, y_pred)\n",
    "under_bac"
   ]
  },
  {
   "cell_type": "code",
   "execution_count": null,
   "id": "a6401671",
   "metadata": {},
   "outputs": [],
   "source": [
    "# Print the imbalanced classification report\n",
    "from imblearn.metrics import classification_report_imbalanced\n",
    "print(classification_report_imbalanced(y_test, y_pred))"
   ]
  },
  {
   "cell_type": "code",
   "execution_count": null,
   "id": "6c21872b",
   "metadata": {},
   "outputs": [],
   "source": []
  },
  {
   "cell_type": "markdown",
   "id": "063e128f",
   "metadata": {},
   "source": [
    "## SMOTEENN"
   ]
  },
  {
   "cell_type": "code",
   "execution_count": null,
   "id": "b174c70c",
   "metadata": {},
   "outputs": [],
   "source": [
    "# Resample the training data with SMOTEENN\n",
    "# Warning: This is a large dataset, and this step may take some time to complete\n",
    "from imblearn.combine import SMOTEENN\n",
    "\n",
    "smote_enn = SMOTEENN(random_state=1)\n",
    "X_resampled, y_resampled = smote_enn.fit_resample(X, y)\n",
    "Counter(y_resampled)"
   ]
  },
  {
   "cell_type": "code",
   "execution_count": null,
   "id": "b3fdc093",
   "metadata": {},
   "outputs": [],
   "source": [
    "# Train the Logistic Regression model using the resampled data\n",
    "from sklearn.linear_model import LogisticRegression\n",
    "model = LogisticRegression(solver='lbfgs', random_state=1)\n",
    "model.fit(X_resampled, y_resampled)"
   ]
  },
  {
   "cell_type": "code",
   "execution_count": null,
   "id": "1cc23d38",
   "metadata": {},
   "outputs": [],
   "source": [
    "y_pred = model.predict(X_test)"
   ]
  },
  {
   "cell_type": "code",
   "execution_count": null,
   "id": "25c9064e",
   "metadata": {},
   "outputs": [],
   "source": [
    "# Calculated the balanced accuracy score\n",
    "from sklearn.metrics import balanced_accuracy_score\n",
    "smoteen_bac = balanced_accuracy_score(y_test, y_pred)"
   ]
  },
  {
   "cell_type": "code",
   "execution_count": null,
   "id": "e9c8872f",
   "metadata": {},
   "outputs": [],
   "source": [
    "# Print the imbalanced classification report\n",
    "from imblearn.metrics import classification_report_imbalanced\n",
    "\n",
    "print(classification_report_imbalanced(y_test, y_pred))"
   ]
  },
  {
   "cell_type": "code",
   "execution_count": null,
   "id": "5383427c",
   "metadata": {},
   "outputs": [],
   "source": []
  },
  {
   "cell_type": "code",
   "execution_count": null,
   "id": "86d39015",
   "metadata": {},
   "outputs": [],
   "source": [
    "### Balanced Random Forest Classifier"
   ]
  },
  {
   "cell_type": "code",
   "execution_count": null,
   "id": "c71f16df",
   "metadata": {},
   "outputs": [],
   "source": [
    "# Create a random forest classifier.\n",
    "from imblearn.ensemble import BalancedRandomForestClassifier\n",
    "brfc_model = BalancedRandomForestClassifier(n_estimators=100, random_state=1)\n",
    "\n",
    "# Fitting the model\n",
    "brfc_model = brfc_model.fit(X_train, y_train)\n",
    "brfc_model"
   ]
  },
  {
   "cell_type": "code",
   "execution_count": null,
   "id": "f0939ae0",
   "metadata": {},
   "outputs": [],
   "source": [
    "# Calculated the balanced accuracy score\n",
    "predictions = brfc_model.predict(X_test)\n",
    "brfc_bac = balanced_accuracy_score(y_test, predictions)\n",
    "brfc_bac"
   ]
  },
  {
   "cell_type": "code",
   "execution_count": null,
   "id": "8972252e",
   "metadata": {},
   "outputs": [],
   "source": [
    "# Print the imbalanced classification report\n",
    "from imblearn.metrics import classification_report_imbalanced\n",
    "print(classification_report_imbalanced(y_test, predictions))"
   ]
  },
  {
   "cell_type": "code",
   "execution_count": null,
   "id": "2d1954af",
   "metadata": {},
   "outputs": [],
   "source": []
  },
  {
   "cell_type": "code",
   "execution_count": null,
   "id": "2fff4fa5",
   "metadata": {},
   "outputs": [],
   "source": [
    "## Easy Ensemble AdaBoost Classifier"
   ]
  },
  {
   "cell_type": "code",
   "execution_count": null,
   "id": "acb9e86e",
   "metadata": {},
   "outputs": [],
   "source": [
    "# Train the EasyEnsembleClassifier\n",
    "from imblearn.ensemble import EasyEnsembleClassifier\n",
    "\n",
    "eec_model = EasyEnsembleClassifier(n_estimators=100, random_state=1)\n",
    "\n",
    "eec_model = eec_model.fit(X_train, y_train)"
   ]
  },
  {
   "cell_type": "code",
   "execution_count": null,
   "id": "7a01c3b3",
   "metadata": {},
   "outputs": [],
   "source": [
    "# Calculated the balanced accuracy score\n",
    "predictions = eec_model.predict(X_test)\n",
    "ee_bac = balanced_accuracy_score(y_test, predictions)\n",
    "ee_bac"
   ]
  },
  {
   "cell_type": "code",
   "execution_count": null,
   "id": "bcb446fe",
   "metadata": {},
   "outputs": [],
   "source": [
    "# Print the imbalanced classification report\n",
    "print(classification_report_imbalanced(y_test, predictions))"
   ]
  },
  {
   "cell_type": "code",
   "execution_count": null,
   "id": "185ed4e7",
   "metadata": {},
   "outputs": [],
   "source": []
  },
  {
   "cell_type": "code",
   "execution_count": null,
   "id": "f38ae014",
   "metadata": {},
   "outputs": [],
   "source": []
  },
  {
   "cell_type": "code",
   "execution_count": null,
   "id": "c524fd32",
   "metadata": {},
   "outputs": [],
   "source": []
  },
  {
   "cell_type": "code",
   "execution_count": null,
   "id": "3cd49133",
   "metadata": {},
   "outputs": [],
   "source": []
  },
  {
   "cell_type": "code",
   "execution_count": null,
   "id": "03caf8ab",
   "metadata": {},
   "outputs": [],
   "source": []
  },
  {
   "cell_type": "code",
   "execution_count": null,
   "id": "cfdff985",
   "metadata": {},
   "outputs": [],
   "source": []
  },
  {
   "cell_type": "code",
   "execution_count": null,
   "id": "19931919",
   "metadata": {},
   "outputs": [],
   "source": []
  },
  {
   "cell_type": "code",
   "execution_count": null,
   "id": "8f26e2e7",
   "metadata": {},
   "outputs": [],
   "source": [
    "# X = week_df.watertempf.values.reshape(-1, 1)"
   ]
  },
  {
   "cell_type": "code",
   "execution_count": null,
   "id": "4e5fab6a",
   "metadata": {},
   "outputs": [],
   "source": [
    "# X.shape"
   ]
  },
  {
   "cell_type": "code",
   "execution_count": null,
   "id": "08a04c4d",
   "metadata": {},
   "outputs": [],
   "source": [
    "# y = week_df.stlheadcount"
   ]
  },
  {
   "cell_type": "code",
   "execution_count": null,
   "id": "5415f5a7",
   "metadata": {},
   "outputs": [],
   "source": [
    "# model = LinearRegression()"
   ]
  },
  {
   "cell_type": "code",
   "execution_count": null,
   "id": "b45cf87b",
   "metadata": {},
   "outputs": [],
   "source": [
    "# model.fit(X,y)"
   ]
  },
  {
   "cell_type": "code",
   "execution_count": null,
   "id": "d26c491e",
   "metadata": {},
   "outputs": [],
   "source": [
    "# y_pred = model.predict(X)\n",
    "# print(y_pred.shape)"
   ]
  },
  {
   "cell_type": "code",
   "execution_count": null,
   "id": "4ca6733c",
   "metadata": {},
   "outputs": [],
   "source": [
    "plt.scatter(X,y)\n",
    "plt.plot(X, y_pred, color='red')\n",
    "plt.show()"
   ]
  },
  {
   "cell_type": "code",
   "execution_count": null,
   "id": "92543c27",
   "metadata": {},
   "outputs": [],
   "source": [
    "# SVM (support vector machines)"
   ]
  },
  {
   "cell_type": "code",
   "execution_count": null,
   "id": "780d2d53",
   "metadata": {},
   "outputs": [],
   "source": []
  },
  {
   "cell_type": "code",
   "execution_count": null,
   "id": "2b0b56b8",
   "metadata": {},
   "outputs": [],
   "source": []
  },
  {
   "cell_type": "code",
   "execution_count": null,
   "id": "a470f88b",
   "metadata": {},
   "outputs": [],
   "source": [
    "X.describe()"
   ]
  },
  {
   "cell_type": "code",
   "execution_count": null,
   "id": "114abdaf",
   "metadata": {},
   "outputs": [],
   "source": [
    "y.describe()"
   ]
  },
  {
   "cell_type": "code",
   "execution_count": null,
   "id": "73c0771b",
   "metadata": {},
   "outputs": [],
   "source": [
    "from sklearn.model_selection import train_test_split\n",
    "X_train, X_test, y_train, y_test = train_test_split(X, y, random_state=1)"
   ]
  },
  {
   "cell_type": "code",
   "execution_count": null,
   "id": "267a4187",
   "metadata": {},
   "outputs": [],
   "source": [
    "# print(\"Training:\", Counter(y_train['stlheadcount']))\n",
    "# print(\"Test:\", Counter(y_test['stlheadcount']))"
   ]
  },
  {
   "cell_type": "code",
   "execution_count": null,
   "id": "59353a38",
   "metadata": {
    "scrolled": false
   },
   "outputs": [],
   "source": [
    "y_train"
   ]
  },
  {
   "cell_type": "code",
   "execution_count": null,
   "id": "0f0c037e",
   "metadata": {},
   "outputs": [],
   "source": [
    "y_test"
   ]
  },
  {
   "cell_type": "code",
   "execution_count": null,
   "id": "04b42909",
   "metadata": {},
   "outputs": [],
   "source": [
    "X_train.dtypes"
   ]
  },
  {
   "cell_type": "code",
   "execution_count": null,
   "id": "08ce83d0",
   "metadata": {},
   "outputs": [],
   "source": [
    "from sklearn.preprocessing import StandardScaler,OneHotEncoder\n",
    "\n",
    "# Create a OneHotEncoder instance\n",
    "enc = OneHotEncoder(sparse=False)\n",
    "\n",
    "# Fit and transform the OneHotEncoder using the categorical variable list\n",
    "encode_df = pd.DataFrame(enc.fit_transform(week_df[stlheadcount]))\n",
    "\n",
    "# Add the encoded variable names to the dataframe\n",
    "encode_df.columns = enc.get_feature_names(stlheadcount)\n",
    "encode_df.head()"
   ]
  },
  {
   "cell_type": "code",
   "execution_count": null,
   "id": "edce8265",
   "metadata": {
    "scrolled": false
   },
   "outputs": [],
   "source": [
    "# Resample the training data with the RandomOversampler\n",
    "from imblearn.over_sampling import RandomOverSampler\n",
    "\n",
    "ros = RandomOverSampler(random_state=1)\n",
    "X_resampled, y_resampled = ros.fit_resample(X_train, y_train)\n",
    "# print(Counter(y_resampled['stlheadcount']))"
   ]
  },
  {
   "cell_type": "code",
   "execution_count": null,
   "id": "6f39d212",
   "metadata": {},
   "outputs": [],
   "source": []
  },
  {
   "cell_type": "code",
   "execution_count": null,
   "id": "8b656842",
   "metadata": {},
   "outputs": [],
   "source": []
  },
  {
   "cell_type": "code",
   "execution_count": null,
   "id": "129dc7d7",
   "metadata": {},
   "outputs": [],
   "source": [
    "model = LinearRegression()"
   ]
  },
  {
   "cell_type": "code",
   "execution_count": null,
   "id": "9cfff38e",
   "metadata": {},
   "outputs": [],
   "source": [
    "model.fit(X, y)"
   ]
  },
  {
   "cell_type": "code",
   "execution_count": null,
   "id": "8366458e",
   "metadata": {},
   "outputs": [],
   "source": [
    "y_pred = model.predict(X)\n",
    "print(y_pred.shape)"
   ]
  },
  {
   "cell_type": "code",
   "execution_count": null,
   "id": "9820594b",
   "metadata": {},
   "outputs": [],
   "source": [
    "y.describe()"
   ]
  },
  {
   "cell_type": "code",
   "execution_count": null,
   "id": "e0344eaa",
   "metadata": {},
   "outputs": [],
   "source": [
    "plt.scatter(df.Week_Number, y)\n",
    "plt.plot(X, y_pred, color='red')\n",
    "plt.show()"
   ]
  },
  {
   "cell_type": "code",
   "execution_count": null,
   "id": "fb79d389",
   "metadata": {},
   "outputs": [],
   "source": [
    "\n",
    "print(accuracy_score(y_test, y_pred))"
   ]
  }
 ],
 "metadata": {
  "kernelspec": {
   "display_name": "mlenv",
   "language": "python",
   "name": "mlenv"
  },
  "language_info": {
   "codemirror_mode": {
    "name": "ipython",
    "version": 3
   },
   "file_extension": ".py",
   "mimetype": "text/x-python",
   "name": "python",
   "nbconvert_exporter": "python",
   "pygments_lexer": "ipython3",
   "version": "3.7.11"
  }
 },
 "nbformat": 4,
 "nbformat_minor": 5
}
