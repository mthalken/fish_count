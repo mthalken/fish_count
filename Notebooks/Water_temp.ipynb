{
 "cells": [
  {
   "cell_type": "code",
   "execution_count": 1,
   "id": "ebb95a5e",
   "metadata": {},
   "outputs": [],
   "source": [
    "# Import the dependencies.\n",
    "import pandas as pd\n",
    "from pathlib import Path"
   ]
  },
  {
   "cell_type": "code",
   "execution_count": 3,
   "id": "c911d737",
   "metadata": {},
   "outputs": [],
   "source": [
    "file_path = Path(\"WaterTemp90_22.tsv\")\n",
    "water_temp_dalles = pd.read_csv(file_path, delimiter=\"\\t\")"
   ]
  },
  {
   "cell_type": "code",
   "execution_count": 4,
   "id": "d24e9bdf",
   "metadata": {},
   "outputs": [
    {
     "data": {
      "text/html": [
       "<div>\n",
       "<style scoped>\n",
       "    .dataframe tbody tr th:only-of-type {\n",
       "        vertical-align: middle;\n",
       "    }\n",
       "\n",
       "    .dataframe tbody tr th {\n",
       "        vertical-align: top;\n",
       "    }\n",
       "\n",
       "    .dataframe thead th {\n",
       "        text-align: right;\n",
       "    }\n",
       "</style>\n",
       "<table border=\"1\" class=\"dataframe\">\n",
       "  <thead>\n",
       "    <tr style=\"text-align: right;\">\n",
       "      <th></th>\n",
       "      <th>agency_cd</th>\n",
       "      <th>site_no</th>\n",
       "      <th>datetime</th>\n",
       "      <th>tz_cd</th>\n",
       "      <th>116759_00010</th>\n",
       "      <th>116759_00010_cd</th>\n",
       "    </tr>\n",
       "  </thead>\n",
       "  <tbody>\n",
       "    <tr>\n",
       "      <th>0</th>\n",
       "      <td>USGS</td>\n",
       "      <td>14105700</td>\n",
       "      <td>10/1/07 1:00</td>\n",
       "      <td>PDT</td>\n",
       "      <td>17.3</td>\n",
       "      <td>A</td>\n",
       "    </tr>\n",
       "    <tr>\n",
       "      <th>1</th>\n",
       "      <td>USGS</td>\n",
       "      <td>14105700</td>\n",
       "      <td>10/1/07 2:00</td>\n",
       "      <td>PDT</td>\n",
       "      <td>17.2</td>\n",
       "      <td>A</td>\n",
       "    </tr>\n",
       "    <tr>\n",
       "      <th>2</th>\n",
       "      <td>USGS</td>\n",
       "      <td>14105700</td>\n",
       "      <td>10/1/07 3:00</td>\n",
       "      <td>PDT</td>\n",
       "      <td>17.2</td>\n",
       "      <td>A</td>\n",
       "    </tr>\n",
       "    <tr>\n",
       "      <th>3</th>\n",
       "      <td>USGS</td>\n",
       "      <td>14105700</td>\n",
       "      <td>10/1/07 4:00</td>\n",
       "      <td>PDT</td>\n",
       "      <td>17.2</td>\n",
       "      <td>A</td>\n",
       "    </tr>\n",
       "    <tr>\n",
       "      <th>4</th>\n",
       "      <td>USGS</td>\n",
       "      <td>14105700</td>\n",
       "      <td>10/1/07 5:00</td>\n",
       "      <td>PDT</td>\n",
       "      <td>17.2</td>\n",
       "      <td>A</td>\n",
       "    </tr>\n",
       "    <tr>\n",
       "      <th>...</th>\n",
       "      <td>...</td>\n",
       "      <td>...</td>\n",
       "      <td>...</td>\n",
       "      <td>...</td>\n",
       "      <td>...</td>\n",
       "      <td>...</td>\n",
       "    </tr>\n",
       "    <tr>\n",
       "      <th>124875</th>\n",
       "      <td>USGS</td>\n",
       "      <td>14105700</td>\n",
       "      <td>1/1/22 19:00</td>\n",
       "      <td>PST</td>\n",
       "      <td>4.8</td>\n",
       "      <td>P</td>\n",
       "    </tr>\n",
       "    <tr>\n",
       "      <th>124876</th>\n",
       "      <td>USGS</td>\n",
       "      <td>14105700</td>\n",
       "      <td>1/1/22 20:00</td>\n",
       "      <td>PST</td>\n",
       "      <td>4.7</td>\n",
       "      <td>P</td>\n",
       "    </tr>\n",
       "    <tr>\n",
       "      <th>124877</th>\n",
       "      <td>USGS</td>\n",
       "      <td>14105700</td>\n",
       "      <td>1/1/22 21:00</td>\n",
       "      <td>PST</td>\n",
       "      <td>4.7</td>\n",
       "      <td>P</td>\n",
       "    </tr>\n",
       "    <tr>\n",
       "      <th>124878</th>\n",
       "      <td>USGS</td>\n",
       "      <td>14105700</td>\n",
       "      <td>1/1/22 22:00</td>\n",
       "      <td>PST</td>\n",
       "      <td>4.7</td>\n",
       "      <td>P</td>\n",
       "    </tr>\n",
       "    <tr>\n",
       "      <th>124879</th>\n",
       "      <td>USGS</td>\n",
       "      <td>14105700</td>\n",
       "      <td>1/1/22 23:00</td>\n",
       "      <td>PST</td>\n",
       "      <td>4.7</td>\n",
       "      <td>P</td>\n",
       "    </tr>\n",
       "  </tbody>\n",
       "</table>\n",
       "<p>124880 rows × 6 columns</p>\n",
       "</div>"
      ],
      "text/plain": [
       "       agency_cd   site_no      datetime tz_cd  116759_00010 116759_00010_cd\n",
       "0           USGS  14105700  10/1/07 1:00   PDT          17.3               A\n",
       "1           USGS  14105700  10/1/07 2:00   PDT          17.2               A\n",
       "2           USGS  14105700  10/1/07 3:00   PDT          17.2               A\n",
       "3           USGS  14105700  10/1/07 4:00   PDT          17.2               A\n",
       "4           USGS  14105700  10/1/07 5:00   PDT          17.2               A\n",
       "...          ...       ...           ...   ...           ...             ...\n",
       "124875      USGS  14105700  1/1/22 19:00   PST           4.8               P\n",
       "124876      USGS  14105700  1/1/22 20:00   PST           4.7               P\n",
       "124877      USGS  14105700  1/1/22 21:00   PST           4.7               P\n",
       "124878      USGS  14105700  1/1/22 22:00   PST           4.7               P\n",
       "124879      USGS  14105700  1/1/22 23:00   PST           4.7               P\n",
       "\n",
       "[124880 rows x 6 columns]"
      ]
     },
     "execution_count": 4,
     "metadata": {},
     "output_type": "execute_result"
    }
   ],
   "source": [
    "water_temp_dalles"
   ]
  },
  {
   "cell_type": "code",
   "execution_count": 5,
   "id": "ed0911ee",
   "metadata": {},
   "outputs": [
    {
     "data": {
      "text/plain": [
       "agency_cd           object\n",
       "site_no              int64\n",
       "datetime            object\n",
       "tz_cd               object\n",
       "116759_00010       float64\n",
       "116759_00010_cd     object\n",
       "dtype: object"
      ]
     },
     "execution_count": 5,
     "metadata": {},
     "output_type": "execute_result"
    }
   ],
   "source": [
    "water_temp_dalles.dtypes"
   ]
  },
  {
   "cell_type": "code",
   "execution_count": null,
   "id": "81e27ffb",
   "metadata": {},
   "outputs": [],
   "source": []
  }
 ],
 "metadata": {
  "kernelspec": {
   "display_name": "PythonData",
   "language": "python",
   "name": "pythondata"
  },
  "language_info": {
   "codemirror_mode": {
    "name": "ipython",
    "version": 3
   },
   "file_extension": ".py",
   "mimetype": "text/x-python",
   "name": "python",
   "nbconvert_exporter": "python",
   "pygments_lexer": "ipython3",
   "version": "3.7.11"
  }
 },
 "nbformat": 4,
 "nbformat_minor": 5
}
