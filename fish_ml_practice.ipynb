{
 "cells": [
  {
   "cell_type": "code",
   "execution_count": 1,
   "id": "2dfe1ff2",
   "metadata": {},
   "outputs": [],
   "source": [
    "import numpy as np\n",
    "import pandas as pd\n",
    "from pathlib import Path\n",
    "from collections import Counter\n",
    "import matplotlib.pyplot as plt"
   ]
  },
  {
   "cell_type": "code",
   "execution_count": 2,
   "id": "d9576342",
   "metadata": {},
   "outputs": [],
   "source": [
    "from sklearn.metrics import balanced_accuracy_score\n",
    "from sklearn.metrics import confusion_matrix\n",
    "from imblearn.metrics import classification_report_imbalanced\n",
    "from sklearn.linear_model import LinearRegression\n",
    "from sklearn.metrics import accuracy_score"
   ]
  },
  {
   "cell_type": "code",
   "execution_count": 3,
   "id": "ecd4c1a1",
   "metadata": {},
   "outputs": [
    {
     "data": {
      "text/html": [
       "<div>\n",
       "<style scoped>\n",
       "    .dataframe tbody tr th:only-of-type {\n",
       "        vertical-align: middle;\n",
       "    }\n",
       "\n",
       "    .dataframe tbody tr th {\n",
       "        vertical-align: top;\n",
       "    }\n",
       "\n",
       "    .dataframe thead th {\n",
       "        text-align: right;\n",
       "    }\n",
       "</style>\n",
       "<table border=\"1\" class=\"dataframe\">\n",
       "  <thead>\n",
       "    <tr style=\"text-align: right;\">\n",
       "      <th></th>\n",
       "      <th>countid</th>\n",
       "      <th>yearvalue</th>\n",
       "      <th>monthvalue</th>\n",
       "      <th>weeknumber</th>\n",
       "      <th>locationname</th>\n",
       "      <th>daterecorded</th>\n",
       "      <th>maxtempf</th>\n",
       "      <th>mintempf</th>\n",
       "      <th>precipitationinch</th>\n",
       "      <th>watertempf</th>\n",
       "      <th>stlheadcount</th>\n",
       "    </tr>\n",
       "  </thead>\n",
       "  <tbody>\n",
       "    <tr>\n",
       "      <th>0</th>\n",
       "      <td>19900101</td>\n",
       "      <td>1990</td>\n",
       "      <td>1</td>\n",
       "      <td>1</td>\n",
       "      <td>Bonneville</td>\n",
       "      <td>1990-01-01</td>\n",
       "      <td>49.0</td>\n",
       "      <td>35.0</td>\n",
       "      <td>0.89</td>\n",
       "      <td>NaN</td>\n",
       "      <td>NaN</td>\n",
       "    </tr>\n",
       "    <tr>\n",
       "      <th>1</th>\n",
       "      <td>19900102</td>\n",
       "      <td>1990</td>\n",
       "      <td>1</td>\n",
       "      <td>1</td>\n",
       "      <td>Bonneville</td>\n",
       "      <td>1990-01-02</td>\n",
       "      <td>45.0</td>\n",
       "      <td>36.0</td>\n",
       "      <td>0.85</td>\n",
       "      <td>NaN</td>\n",
       "      <td>NaN</td>\n",
       "    </tr>\n",
       "    <tr>\n",
       "      <th>2</th>\n",
       "      <td>19900103</td>\n",
       "      <td>1990</td>\n",
       "      <td>1</td>\n",
       "      <td>1</td>\n",
       "      <td>Bonneville</td>\n",
       "      <td>1990-01-03</td>\n",
       "      <td>46.0</td>\n",
       "      <td>39.0</td>\n",
       "      <td>0.02</td>\n",
       "      <td>NaN</td>\n",
       "      <td>NaN</td>\n",
       "    </tr>\n",
       "    <tr>\n",
       "      <th>3</th>\n",
       "      <td>19900104</td>\n",
       "      <td>1990</td>\n",
       "      <td>1</td>\n",
       "      <td>1</td>\n",
       "      <td>Bonneville</td>\n",
       "      <td>1990-01-04</td>\n",
       "      <td>49.0</td>\n",
       "      <td>42.0</td>\n",
       "      <td>0.04</td>\n",
       "      <td>NaN</td>\n",
       "      <td>NaN</td>\n",
       "    </tr>\n",
       "    <tr>\n",
       "      <th>4</th>\n",
       "      <td>19900105</td>\n",
       "      <td>1990</td>\n",
       "      <td>1</td>\n",
       "      <td>1</td>\n",
       "      <td>Bonneville</td>\n",
       "      <td>1990-01-05</td>\n",
       "      <td>53.0</td>\n",
       "      <td>45.0</td>\n",
       "      <td>0.47</td>\n",
       "      <td>NaN</td>\n",
       "      <td>NaN</td>\n",
       "    </tr>\n",
       "  </tbody>\n",
       "</table>\n",
       "</div>"
      ],
      "text/plain": [
       "    countid  yearvalue  monthvalue  weeknumber locationname daterecorded  \\\n",
       "0  19900101       1990           1           1   Bonneville   1990-01-01   \n",
       "1  19900102       1990           1           1   Bonneville   1990-01-02   \n",
       "2  19900103       1990           1           1   Bonneville   1990-01-03   \n",
       "3  19900104       1990           1           1   Bonneville   1990-01-04   \n",
       "4  19900105       1990           1           1   Bonneville   1990-01-05   \n",
       "\n",
       "   maxtempf  mintempf  precipitationinch  watertempf  stlheadcount  \n",
       "0      49.0      35.0               0.89         NaN           NaN  \n",
       "1      45.0      36.0               0.85         NaN           NaN  \n",
       "2      46.0      39.0               0.02         NaN           NaN  \n",
       "3      49.0      42.0               0.04         NaN           NaN  \n",
       "4      53.0      45.0               0.47         NaN           NaN  "
      ]
     },
     "execution_count": 3,
     "metadata": {},
     "output_type": "execute_result"
    }
   ],
   "source": [
    "# Load data into dataframe\n",
    "file_path = Path('Resources/combineddata.csv')\n",
    "df = pd.read_csv(file_path)\n",
    "df.head()"
   ]
  },
  {
   "cell_type": "code",
   "execution_count": 4,
   "id": "c3dddb32",
   "metadata": {},
   "outputs": [
    {
     "data": {
      "text/html": [
       "<div>\n",
       "<style scoped>\n",
       "    .dataframe tbody tr th:only-of-type {\n",
       "        vertical-align: middle;\n",
       "    }\n",
       "\n",
       "    .dataframe tbody tr th {\n",
       "        vertical-align: top;\n",
       "    }\n",
       "\n",
       "    .dataframe thead th {\n",
       "        text-align: right;\n",
       "    }\n",
       "</style>\n",
       "<table border=\"1\" class=\"dataframe\">\n",
       "  <thead>\n",
       "    <tr style=\"text-align: right;\">\n",
       "      <th></th>\n",
       "      <th>weeknumber</th>\n",
       "      <th>monthvalue</th>\n",
       "      <th>maxtempf</th>\n",
       "      <th>mintempf</th>\n",
       "      <th>precipitationinch</th>\n",
       "      <th>watertempf</th>\n",
       "      <th>stlheadcount</th>\n",
       "    </tr>\n",
       "  </thead>\n",
       "  <tbody>\n",
       "    <tr>\n",
       "      <th>0</th>\n",
       "      <td>1</td>\n",
       "      <td>1</td>\n",
       "      <td>49.0</td>\n",
       "      <td>35.0</td>\n",
       "      <td>0.89</td>\n",
       "      <td>NaN</td>\n",
       "      <td>NaN</td>\n",
       "    </tr>\n",
       "    <tr>\n",
       "      <th>1</th>\n",
       "      <td>1</td>\n",
       "      <td>1</td>\n",
       "      <td>45.0</td>\n",
       "      <td>36.0</td>\n",
       "      <td>0.85</td>\n",
       "      <td>NaN</td>\n",
       "      <td>NaN</td>\n",
       "    </tr>\n",
       "    <tr>\n",
       "      <th>2</th>\n",
       "      <td>1</td>\n",
       "      <td>1</td>\n",
       "      <td>46.0</td>\n",
       "      <td>39.0</td>\n",
       "      <td>0.02</td>\n",
       "      <td>NaN</td>\n",
       "      <td>NaN</td>\n",
       "    </tr>\n",
       "    <tr>\n",
       "      <th>3</th>\n",
       "      <td>1</td>\n",
       "      <td>1</td>\n",
       "      <td>49.0</td>\n",
       "      <td>42.0</td>\n",
       "      <td>0.04</td>\n",
       "      <td>NaN</td>\n",
       "      <td>NaN</td>\n",
       "    </tr>\n",
       "    <tr>\n",
       "      <th>4</th>\n",
       "      <td>1</td>\n",
       "      <td>1</td>\n",
       "      <td>53.0</td>\n",
       "      <td>45.0</td>\n",
       "      <td>0.47</td>\n",
       "      <td>NaN</td>\n",
       "      <td>NaN</td>\n",
       "    </tr>\n",
       "  </tbody>\n",
       "</table>\n",
       "</div>"
      ],
      "text/plain": [
       "   weeknumber  monthvalue  maxtempf  mintempf  precipitationinch  watertempf  \\\n",
       "0           1           1      49.0      35.0               0.89         NaN   \n",
       "1           1           1      45.0      36.0               0.85         NaN   \n",
       "2           1           1      46.0      39.0               0.02         NaN   \n",
       "3           1           1      49.0      42.0               0.04         NaN   \n",
       "4           1           1      53.0      45.0               0.47         NaN   \n",
       "\n",
       "   stlheadcount  \n",
       "0           NaN  \n",
       "1           NaN  \n",
       "2           NaN  \n",
       "3           NaN  \n",
       "4           NaN  "
      ]
     },
     "execution_count": 4,
     "metadata": {},
     "output_type": "execute_result"
    }
   ],
   "source": [
    "# Pull desired columns\n",
    "df_stlhead_week_month = df[['weeknumber','monthvalue','maxtempf','mintempf','precipitationinch','watertempf','stlheadcount']]\n",
    "df_stlhead_week_month.head()"
   ]
  },
  {
   "cell_type": "code",
   "execution_count": 5,
   "id": "767ef23e",
   "metadata": {
    "scrolled": true
   },
   "outputs": [
    {
     "data": {
      "text/html": [
       "<div>\n",
       "<style scoped>\n",
       "    .dataframe tbody tr th:only-of-type {\n",
       "        vertical-align: middle;\n",
       "    }\n",
       "\n",
       "    .dataframe tbody tr th {\n",
       "        vertical-align: top;\n",
       "    }\n",
       "\n",
       "    .dataframe thead th {\n",
       "        text-align: right;\n",
       "    }\n",
       "</style>\n",
       "<table border=\"1\" class=\"dataframe\">\n",
       "  <thead>\n",
       "    <tr style=\"text-align: right;\">\n",
       "      <th></th>\n",
       "      <th>weeknumber</th>\n",
       "      <th>monthvalue</th>\n",
       "      <th>maxtempf</th>\n",
       "      <th>mintempf</th>\n",
       "      <th>precipitationinch</th>\n",
       "      <th>watertempf</th>\n",
       "      <th>stlheadcount</th>\n",
       "    </tr>\n",
       "  </thead>\n",
       "  <tbody>\n",
       "    <tr>\n",
       "      <th>73</th>\n",
       "      <td>11</td>\n",
       "      <td>3</td>\n",
       "      <td>53.0</td>\n",
       "      <td>38.0</td>\n",
       "      <td>0.12</td>\n",
       "      <td>44.06</td>\n",
       "      <td>27.0</td>\n",
       "    </tr>\n",
       "    <tr>\n",
       "      <th>74</th>\n",
       "      <td>11</td>\n",
       "      <td>3</td>\n",
       "      <td>69.0</td>\n",
       "      <td>38.0</td>\n",
       "      <td>0.00</td>\n",
       "      <td>44.96</td>\n",
       "      <td>44.0</td>\n",
       "    </tr>\n",
       "    <tr>\n",
       "      <th>75</th>\n",
       "      <td>11</td>\n",
       "      <td>3</td>\n",
       "      <td>61.0</td>\n",
       "      <td>44.0</td>\n",
       "      <td>0.00</td>\n",
       "      <td>44.06</td>\n",
       "      <td>36.0</td>\n",
       "    </tr>\n",
       "    <tr>\n",
       "      <th>76</th>\n",
       "      <td>12</td>\n",
       "      <td>3</td>\n",
       "      <td>59.0</td>\n",
       "      <td>44.0</td>\n",
       "      <td>0.02</td>\n",
       "      <td>44.96</td>\n",
       "      <td>60.0</td>\n",
       "    </tr>\n",
       "    <tr>\n",
       "      <th>77</th>\n",
       "      <td>12</td>\n",
       "      <td>3</td>\n",
       "      <td>67.0</td>\n",
       "      <td>44.0</td>\n",
       "      <td>0.00</td>\n",
       "      <td>46.04</td>\n",
       "      <td>46.0</td>\n",
       "    </tr>\n",
       "  </tbody>\n",
       "</table>\n",
       "</div>"
      ],
      "text/plain": [
       "    weeknumber  monthvalue  maxtempf  mintempf  precipitationinch  watertempf  \\\n",
       "73          11           3      53.0      38.0               0.12       44.06   \n",
       "74          11           3      69.0      38.0               0.00       44.96   \n",
       "75          11           3      61.0      44.0               0.00       44.06   \n",
       "76          12           3      59.0      44.0               0.02       44.96   \n",
       "77          12           3      67.0      44.0               0.00       46.04   \n",
       "\n",
       "    stlheadcount  \n",
       "73          27.0  \n",
       "74          44.0  \n",
       "75          36.0  \n",
       "76          60.0  \n",
       "77          46.0  "
      ]
     },
     "execution_count": 5,
     "metadata": {},
     "output_type": "execute_result"
    }
   ],
   "source": [
    "# Drop NaN values\n",
    "week_month = df_stlhead_week_month.dropna(axis=0)\n",
    "week_month.head()"
   ]
  },
  {
   "cell_type": "code",
   "execution_count": 8,
   "id": "f2029fbf",
   "metadata": {},
   "outputs": [
    {
     "data": {
      "text/html": [
       "<div>\n",
       "<style scoped>\n",
       "    .dataframe tbody tr th:only-of-type {\n",
       "        vertical-align: middle;\n",
       "    }\n",
       "\n",
       "    .dataframe tbody tr th {\n",
       "        vertical-align: top;\n",
       "    }\n",
       "\n",
       "    .dataframe thead th {\n",
       "        text-align: right;\n",
       "    }\n",
       "</style>\n",
       "<table border=\"1\" class=\"dataframe\">\n",
       "  <thead>\n",
       "    <tr style=\"text-align: right;\">\n",
       "      <th></th>\n",
       "      <th>weeknumber</th>\n",
       "      <th>monthvalue</th>\n",
       "      <th>maxtempf</th>\n",
       "      <th>mintempf</th>\n",
       "      <th>precipitationinch</th>\n",
       "      <th>watertempf</th>\n",
       "      <th>stlheadcount</th>\n",
       "    </tr>\n",
       "  </thead>\n",
       "  <tbody>\n",
       "    <tr>\n",
       "      <th>0</th>\n",
       "      <td>1</td>\n",
       "      <td>1.000000</td>\n",
       "      <td>41.833333</td>\n",
       "      <td>32.185185</td>\n",
       "      <td>0.366481</td>\n",
       "      <td>40.860000</td>\n",
       "      <td>17.185185</td>\n",
       "    </tr>\n",
       "    <tr>\n",
       "      <th>1</th>\n",
       "      <td>2</td>\n",
       "      <td>1.000000</td>\n",
       "      <td>42.043956</td>\n",
       "      <td>32.934066</td>\n",
       "      <td>0.410659</td>\n",
       "      <td>40.365055</td>\n",
       "      <td>17.395604</td>\n",
       "    </tr>\n",
       "    <tr>\n",
       "      <th>2</th>\n",
       "      <td>3</td>\n",
       "      <td>1.000000</td>\n",
       "      <td>41.988764</td>\n",
       "      <td>33.550562</td>\n",
       "      <td>0.320674</td>\n",
       "      <td>39.600449</td>\n",
       "      <td>16.258427</td>\n",
       "    </tr>\n",
       "    <tr>\n",
       "      <th>3</th>\n",
       "      <td>4</td>\n",
       "      <td>1.000000</td>\n",
       "      <td>44.470588</td>\n",
       "      <td>35.082353</td>\n",
       "      <td>0.316706</td>\n",
       "      <td>38.816706</td>\n",
       "      <td>14.552941</td>\n",
       "    </tr>\n",
       "    <tr>\n",
       "      <th>4</th>\n",
       "      <td>5</td>\n",
       "      <td>1.204819</td>\n",
       "      <td>47.132530</td>\n",
       "      <td>37.060241</td>\n",
       "      <td>0.461205</td>\n",
       "      <td>39.098072</td>\n",
       "      <td>16.879518</td>\n",
       "    </tr>\n",
       "  </tbody>\n",
       "</table>\n",
       "</div>"
      ],
      "text/plain": [
       "   weeknumber  monthvalue   maxtempf   mintempf  precipitationinch  \\\n",
       "0           1    1.000000  41.833333  32.185185           0.366481   \n",
       "1           2    1.000000  42.043956  32.934066           0.410659   \n",
       "2           3    1.000000  41.988764  33.550562           0.320674   \n",
       "3           4    1.000000  44.470588  35.082353           0.316706   \n",
       "4           5    1.204819  47.132530  37.060241           0.461205   \n",
       "\n",
       "   watertempf  stlheadcount  \n",
       "0   40.860000     17.185185  \n",
       "1   40.365055     17.395604  \n",
       "2   39.600449     16.258427  \n",
       "3   38.816706     14.552941  \n",
       "4   39.098072     16.879518  "
      ]
     },
     "execution_count": 8,
     "metadata": {},
     "output_type": "execute_result"
    }
   ],
   "source": [
    "week_df = week_month.groupby(['weeknumber']).mean().reset_index()\n",
    "week_df.head()"
   ]
  },
  {
   "cell_type": "code",
   "execution_count": 11,
   "id": "b4920f1f",
   "metadata": {},
   "outputs": [
    {
     "data": {
      "text/html": [
       "<div>\n",
       "<style scoped>\n",
       "    .dataframe tbody tr th:only-of-type {\n",
       "        vertical-align: middle;\n",
       "    }\n",
       "\n",
       "    .dataframe tbody tr th {\n",
       "        vertical-align: top;\n",
       "    }\n",
       "\n",
       "    .dataframe thead th {\n",
       "        text-align: right;\n",
       "    }\n",
       "</style>\n",
       "<table border=\"1\" class=\"dataframe\">\n",
       "  <thead>\n",
       "    <tr style=\"text-align: right;\">\n",
       "      <th></th>\n",
       "      <th>monthvalue</th>\n",
       "      <th>weeknumber</th>\n",
       "      <th>maxtempf</th>\n",
       "      <th>mintempf</th>\n",
       "      <th>precipitationinch</th>\n",
       "      <th>watertempf</th>\n",
       "      <th>stlheadcount</th>\n",
       "    </tr>\n",
       "  </thead>\n",
       "  <tbody>\n",
       "    <tr>\n",
       "      <th>0</th>\n",
       "      <td>1</td>\n",
       "      <td>3.077121</td>\n",
       "      <td>43.449871</td>\n",
       "      <td>34.185090</td>\n",
       "      <td>0.370746</td>\n",
       "      <td>39.715013</td>\n",
       "      <td>16.408740</td>\n",
       "    </tr>\n",
       "    <tr>\n",
       "      <th>1</th>\n",
       "      <td>2</td>\n",
       "      <td>7.418079</td>\n",
       "      <td>48.228814</td>\n",
       "      <td>35.528249</td>\n",
       "      <td>0.290763</td>\n",
       "      <td>39.438475</td>\n",
       "      <td>18.274011</td>\n",
       "    </tr>\n",
       "    <tr>\n",
       "      <th>2</th>\n",
       "      <td>3</td>\n",
       "      <td>11.964080</td>\n",
       "      <td>55.110632</td>\n",
       "      <td>38.623563</td>\n",
       "      <td>0.292500</td>\n",
       "      <td>43.468534</td>\n",
       "      <td>43.793103</td>\n",
       "    </tr>\n",
       "    <tr>\n",
       "      <th>3</th>\n",
       "      <td>4</td>\n",
       "      <td>15.950386</td>\n",
       "      <td>60.340684</td>\n",
       "      <td>42.410143</td>\n",
       "      <td>0.216417</td>\n",
       "      <td>49.075590</td>\n",
       "      <td>47.721058</td>\n",
       "    </tr>\n",
       "    <tr>\n",
       "      <th>4</th>\n",
       "      <td>5</td>\n",
       "      <td>20.314952</td>\n",
       "      <td>67.453871</td>\n",
       "      <td>47.808059</td>\n",
       "      <td>0.135673</td>\n",
       "      <td>55.619130</td>\n",
       "      <td>62.323436</td>\n",
       "    </tr>\n",
       "  </tbody>\n",
       "</table>\n",
       "</div>"
      ],
      "text/plain": [
       "   monthvalue  weeknumber   maxtempf   mintempf  precipitationinch  \\\n",
       "0           1    3.077121  43.449871  34.185090           0.370746   \n",
       "1           2    7.418079  48.228814  35.528249           0.290763   \n",
       "2           3   11.964080  55.110632  38.623563           0.292500   \n",
       "3           4   15.950386  60.340684  42.410143           0.216417   \n",
       "4           5   20.314952  67.453871  47.808059           0.135673   \n",
       "\n",
       "   watertempf  stlheadcount  \n",
       "0   39.715013     16.408740  \n",
       "1   39.438475     18.274011  \n",
       "2   43.468534     43.793103  \n",
       "3   49.075590     47.721058  \n",
       "4   55.619130     62.323436  "
      ]
     },
     "execution_count": 11,
     "metadata": {},
     "output_type": "execute_result"
    }
   ],
   "source": [
    "month_df = week_month.groupby(['monthvalue']).mean().reset_index()\n",
    "month_df.head()"
   ]
  },
  {
   "cell_type": "markdown",
   "id": "81a71372",
   "metadata": {},
   "source": [
    "Initial Plots"
   ]
  },
  {
   "cell_type": "code",
   "execution_count": 16,
   "id": "13b179f3",
   "metadata": {
    "scrolled": true
   },
   "outputs": [
    {
     "data": {
      "image/png": "[encoded data removed]",
      "text/plain": [
       "<Figure size 432x288 with 1 Axes>"
      ]
     },
     "metadata": {
      "needs_background": "light"
     },
     "output_type": "display_data"
    }
   ],
   "source": [
    "plt.bar(week_df.weeknumber, week_df.stlheadcount)\n",
    "plt.title('Bonneville (30 Year Average)')\n",
    "plt.xlabel('Week Number')\n",
    "plt.ylabel('Average Steelhead Count')\n",
    "plt.show()"
   ]
  },
  {
   "cell_type": "code",
   "execution_count": 31,
   "id": "fae37e8a",
   "metadata": {},
   "outputs": [
    {
     "data": {
      "image/png": "[encoded data removed]",
      "text/plain": [
       "<Figure size 432x288 with 1 Axes>"
      ]
     },
     "metadata": {
      "needs_background": "light"
     },
     "output_type": "display_data"
    }
   ],
   "source": [
    "plt.scatter(week_df.watertempf, week_df.stlheadcount)\n",
    "plt.title('Bonneville (30 Year-Weekly Average)')\n",
    "plt.xlabel('Water Temp (F)')\n",
    "plt.ylabel('Average Steelhead Count')\n",
    "plt.show()"
   ]
  },
  {
   "cell_type": "code",
   "execution_count": 29,
   "id": "327f5c59",
   "metadata": {},
   "outputs": [
    {
     "data": {
      "image/png": "[encoded data removed]",
      "text/plain": [
       "<Figure size 432x288 with 1 Axes>"
      ]
     },
     "metadata": {
      "needs_background": "light"
     },
     "output_type": "display_data"
    }
   ],
   "source": [
    "plt.scatter(week_df.watertempf, week_df.maxtempf)\n",
    "plt.title('Bonneville (30 Year-Weekly Average)')\n",
    "plt.xlabel('Water Temp (F)')\n",
    "plt.ylabel('Max Air Temp (F)')\n",
    "plt.show()"
   ]
  },
  {
   "cell_type": "code",
   "execution_count": 25,
   "id": "ded69eaf",
   "metadata": {},
   "outputs": [
    {
     "data": {
      "image/png": "[encoded data removed]",
      "text/plain": [
       "<Figure size 432x288 with 1 Axes>"
      ]
     },
     "metadata": {
      "needs_background": "light"
     },
     "output_type": "display_data"
    }
   ],
   "source": [
    "plt.scatter(week_df.maxtempf, week_df.stlheadcount)\n",
    "plt.title('Bonneville (30 Year-Weekly Average)')\n",
    "plt.xlabel('Max Air Temp (F)')\n",
    "plt.ylabel('Average Steelhead Count')\n",
    "plt.show()"
   ]
  },
  {
   "cell_type": "code",
   "execution_count": 26,
   "id": "d5694eeb",
   "metadata": {},
   "outputs": [
    {
     "data": {
      "image/png": "[encoded data removed]",
      "text/plain": [
       "<Figure size 432x288 with 1 Axes>"
      ]
     },
     "metadata": {
      "needs_background": "light"
     },
     "output_type": "display_data"
    }
   ],
   "source": [
    "plt.scatter(week_df.mintempf, week_df.stlheadcount)\n",
    "plt.title('Bonneville (30 Year-Weekly Average)')\n",
    "plt.xlabel('Min Air Temp (F)')\n",
    "plt.ylabel('Average Steelhead Count')\n",
    "plt.show()"
   ]
  },
  {
   "cell_type": "code",
   "execution_count": 27,
   "id": "f1ebf519",
   "metadata": {
    "scrolled": true
   },
   "outputs": [
    {
     "data": {
      "image/png": "[encoded data removed]",
      "text/plain": [
       "<Figure size 432x288 with 1 Axes>"
      ]
     },
     "metadata": {
      "needs_background": "light"
     },
     "output_type": "display_data"
    }
   ],
   "source": [
    "plt.scatter(week_df.precipitationinch, week_df.stlheadcount)\n",
    "plt.title('Bonneville (30 Year-Weekly Average)')\n",
    "plt.xlabel('Precipitation (In)')\n",
    "plt.ylabel('Average Steelhead Count')\n",
    "plt.show()"
   ]
  },
  {
   "cell_type": "code",
   "execution_count": 34,
   "id": "687518f5",
   "metadata": {},
   "outputs": [
    {
     "data": {
      "image/png": "[encoded data removed]",
      "text/plain": [
       "<Figure size 432x288 with 1 Axes>"
      ]
     },
     "metadata": {
      "needs_background": "light"
     },
     "output_type": "display_data"
    }
   ],
   "source": [
    "plt.scatter(week_df.maxtempf, week_df.precipitationinch)\n",
    "plt.title('Bonneville (30 Year-Weekly Average)')\n",
    "plt.xlabel('Max Air Temp (F)')\n",
    "plt.ylabel('Precipitation (In)')\n",
    "plt.show()"
   ]
  },
  {
   "cell_type": "markdown",
   "id": "2e918095",
   "metadata": {},
   "source": [
    "# Machine learning"
   ]
  },
  {
   "cell_type": "code",
   "execution_count": null,
   "id": "e1cee995",
   "metadata": {},
   "outputs": [],
   "source": [
    "# Creating features\n",
    "X = df.drop('Stlhd', axis=1)\n",
    "X = pd.get_dummies(X)\n",
    "\n",
    "# Creating target\n",
    "y = df.loc[:, target].copy()"
   ]
  },
  {
   "cell_type": "code",
   "execution_count": null,
   "id": "6f39d212",
   "metadata": {},
   "outputs": [],
   "source": [
    "X.describe()"
   ]
  },
  {
   "cell_type": "code",
   "execution_count": null,
   "id": "8b656842",
   "metadata": {},
   "outputs": [],
   "source": [
    "from sklearn.model_selection import train_test_split\n",
    "X_train, X_test, y_train, y_test = train_test_split(X, y, random_state=1)"
   ]
  },
  {
   "cell_type": "code",
   "execution_count": null,
   "id": "129dc7d7",
   "metadata": {},
   "outputs": [],
   "source": [
    "model = LinearRegression()"
   ]
  },
  {
   "cell_type": "code",
   "execution_count": null,
   "id": "9cfff38e",
   "metadata": {},
   "outputs": [],
   "source": [
    "model.fit(X, y)"
   ]
  },
  {
   "cell_type": "code",
   "execution_count": null,
   "id": "8366458e",
   "metadata": {},
   "outputs": [],
   "source": [
    "y_pred = model.predict(X)\n",
    "print(y_pred.shape)"
   ]
  },
  {
   "cell_type": "code",
   "execution_count": null,
   "id": "9820594b",
   "metadata": {},
   "outputs": [],
   "source": [
    "y.describe()"
   ]
  },
  {
   "cell_type": "code",
   "execution_count": null,
   "id": "e0344eaa",
   "metadata": {},
   "outputs": [],
   "source": [
    "plt.scatter(df.Week_Number, y)\n",
    "plt.plot(X, y_pred, color='red')\n",
    "plt.show()"
   ]
  },
  {
   "cell_type": "code",
   "execution_count": null,
   "id": "fb79d389",
   "metadata": {},
   "outputs": [],
   "source": [
    "\n",
    "print(accuracy_score(y_test, y_pred))"
   ]
  }
 ],
 "metadata": {
  "kernelspec": {
   "display_name": "mlenv",
   "language": "python",
   "name": "mlenv"
  },
  "language_info": {
   "codemirror_mode": {
    "name": "ipython",
    "version": 3
   },
   "file_extension": ".py",
   "mimetype": "text/x-python",
   "name": "python",
   "nbconvert_exporter": "python",
   "pygments_lexer": "ipython3",
   "version": "3.7.11"
  }
 },
 "nbformat": 4,
 "nbformat_minor": 5
}
