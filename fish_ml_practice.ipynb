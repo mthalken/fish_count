{
 "cells": [
  {
   "cell_type": "code",
   "execution_count": 1,
   "id": "2dfe1ff2",
   "metadata": {},
   "outputs": [],
   "source": [
    "import numpy as np\n",
    "import pandas as pd\n",
    "from pathlib import Path\n",
    "from collections import Counter\n",
    "import matplotlib.pyplot as plt"
   ]
  },
  {
   "cell_type": "code",
   "execution_count": 2,
   "id": "ecd4c1a1",
   "metadata": {},
   "outputs": [
    {
     "data": {
      "text/html": [
       "<div>\n",
       "<style scoped>\n",
       "    .dataframe tbody tr th:only-of-type {\n",
       "        vertical-align: middle;\n",
       "    }\n",
       "\n",
       "    .dataframe tbody tr th {\n",
       "        vertical-align: top;\n",
       "    }\n",
       "\n",
       "    .dataframe thead th {\n",
       "        text-align: right;\n",
       "    }\n",
       "</style>\n",
       "<table border=\"1\" class=\"dataframe\">\n",
       "  <thead>\n",
       "    <tr style=\"text-align: right;\">\n",
       "      <th></th>\n",
       "      <th>countid</th>\n",
       "      <th>yearvalue</th>\n",
       "      <th>monthvalue</th>\n",
       "      <th>weeknumber</th>\n",
       "      <th>locationname</th>\n",
       "      <th>daterecorded</th>\n",
       "      <th>maxtempf</th>\n",
       "      <th>mintempf</th>\n",
       "      <th>precipitationinch</th>\n",
       "      <th>watertempf</th>\n",
       "      <th>stlheadcount</th>\n",
       "    </tr>\n",
       "  </thead>\n",
       "  <tbody>\n",
       "    <tr>\n",
       "      <th>0</th>\n",
       "      <td>19900101</td>\n",
       "      <td>1990</td>\n",
       "      <td>1</td>\n",
       "      <td>1</td>\n",
       "      <td>Bonneville</td>\n",
       "      <td>1990-01-01</td>\n",
       "      <td>49.0</td>\n",
       "      <td>35.0</td>\n",
       "      <td>0.89</td>\n",
       "      <td>NaN</td>\n",
       "      <td>NaN</td>\n",
       "    </tr>\n",
       "    <tr>\n",
       "      <th>1</th>\n",
       "      <td>19900102</td>\n",
       "      <td>1990</td>\n",
       "      <td>1</td>\n",
       "      <td>1</td>\n",
       "      <td>Bonneville</td>\n",
       "      <td>1990-01-02</td>\n",
       "      <td>45.0</td>\n",
       "      <td>36.0</td>\n",
       "      <td>0.85</td>\n",
       "      <td>NaN</td>\n",
       "      <td>NaN</td>\n",
       "    </tr>\n",
       "    <tr>\n",
       "      <th>2</th>\n",
       "      <td>19900103</td>\n",
       "      <td>1990</td>\n",
       "      <td>1</td>\n",
       "      <td>1</td>\n",
       "      <td>Bonneville</td>\n",
       "      <td>1990-01-03</td>\n",
       "      <td>46.0</td>\n",
       "      <td>39.0</td>\n",
       "      <td>0.02</td>\n",
       "      <td>NaN</td>\n",
       "      <td>NaN</td>\n",
       "    </tr>\n",
       "    <tr>\n",
       "      <th>3</th>\n",
       "      <td>19900104</td>\n",
       "      <td>1990</td>\n",
       "      <td>1</td>\n",
       "      <td>1</td>\n",
       "      <td>Bonneville</td>\n",
       "      <td>1990-01-04</td>\n",
       "      <td>49.0</td>\n",
       "      <td>42.0</td>\n",
       "      <td>0.04</td>\n",
       "      <td>NaN</td>\n",
       "      <td>NaN</td>\n",
       "    </tr>\n",
       "    <tr>\n",
       "      <th>4</th>\n",
       "      <td>19900105</td>\n",
       "      <td>1990</td>\n",
       "      <td>1</td>\n",
       "      <td>1</td>\n",
       "      <td>Bonneville</td>\n",
       "      <td>1990-01-05</td>\n",
       "      <td>53.0</td>\n",
       "      <td>45.0</td>\n",
       "      <td>0.47</td>\n",
       "      <td>NaN</td>\n",
       "      <td>NaN</td>\n",
       "    </tr>\n",
       "  </tbody>\n",
       "</table>\n",
       "</div>"
      ],
      "text/plain": [
       "    countid  yearvalue  monthvalue  weeknumber locationname daterecorded  \\\n",
       "0  19900101       1990           1           1   Bonneville   1990-01-01   \n",
       "1  19900102       1990           1           1   Bonneville   1990-01-02   \n",
       "2  19900103       1990           1           1   Bonneville   1990-01-03   \n",
       "3  19900104       1990           1           1   Bonneville   1990-01-04   \n",
       "4  19900105       1990           1           1   Bonneville   1990-01-05   \n",
       "\n",
       "   maxtempf  mintempf  precipitationinch  watertempf  stlheadcount  \n",
       "0      49.0      35.0               0.89         NaN           NaN  \n",
       "1      45.0      36.0               0.85         NaN           NaN  \n",
       "2      46.0      39.0               0.02         NaN           NaN  \n",
       "3      49.0      42.0               0.04         NaN           NaN  \n",
       "4      53.0      45.0               0.47         NaN           NaN  "
      ]
     },
     "execution_count": 2,
     "metadata": {},
     "output_type": "execute_result"
    }
   ],
   "source": [
    "# Load data into dataframe\n",
    "file_path = Path('Resources/combineddata.csv')\n",
    "df = pd.read_csv(file_path)\n",
    "df.head()"
   ]
  },
  {
   "cell_type": "code",
   "execution_count": 3,
   "id": "c3dddb32",
   "metadata": {},
   "outputs": [
    {
     "data": {
      "text/html": [
       "<div>\n",
       "<style scoped>\n",
       "    .dataframe tbody tr th:only-of-type {\n",
       "        vertical-align: middle;\n",
       "    }\n",
       "\n",
       "    .dataframe tbody tr th {\n",
       "        vertical-align: top;\n",
       "    }\n",
       "\n",
       "    .dataframe thead th {\n",
       "        text-align: right;\n",
       "    }\n",
       "</style>\n",
       "<table border=\"1\" class=\"dataframe\">\n",
       "  <thead>\n",
       "    <tr style=\"text-align: right;\">\n",
       "      <th></th>\n",
       "      <th>weeknumber</th>\n",
       "      <th>monthvalue</th>\n",
       "      <th>maxtempf</th>\n",
       "      <th>mintempf</th>\n",
       "      <th>precipitationinch</th>\n",
       "      <th>watertempf</th>\n",
       "      <th>stlheadcount</th>\n",
       "    </tr>\n",
       "  </thead>\n",
       "  <tbody>\n",
       "    <tr>\n",
       "      <th>0</th>\n",
       "      <td>1</td>\n",
       "      <td>1</td>\n",
       "      <td>49.0</td>\n",
       "      <td>35.0</td>\n",
       "      <td>0.89</td>\n",
       "      <td>NaN</td>\n",
       "      <td>NaN</td>\n",
       "    </tr>\n",
       "    <tr>\n",
       "      <th>1</th>\n",
       "      <td>1</td>\n",
       "      <td>1</td>\n",
       "      <td>45.0</td>\n",
       "      <td>36.0</td>\n",
       "      <td>0.85</td>\n",
       "      <td>NaN</td>\n",
       "      <td>NaN</td>\n",
       "    </tr>\n",
       "    <tr>\n",
       "      <th>2</th>\n",
       "      <td>1</td>\n",
       "      <td>1</td>\n",
       "      <td>46.0</td>\n",
       "      <td>39.0</td>\n",
       "      <td>0.02</td>\n",
       "      <td>NaN</td>\n",
       "      <td>NaN</td>\n",
       "    </tr>\n",
       "  </tbody>\n",
       "</table>\n",
       "</div>"
      ],
      "text/plain": [
       "   weeknumber  monthvalue  maxtempf  mintempf  precipitationinch  watertempf  \\\n",
       "0           1           1      49.0      35.0               0.89         NaN   \n",
       "1           1           1      45.0      36.0               0.85         NaN   \n",
       "2           1           1      46.0      39.0               0.02         NaN   \n",
       "\n",
       "   stlheadcount  \n",
       "0           NaN  \n",
       "1           NaN  \n",
       "2           NaN  "
      ]
     },
     "execution_count": 3,
     "metadata": {},
     "output_type": "execute_result"
    }
   ],
   "source": [
    "# Pull desired columns\n",
    "df_stlhead_week_month = df[['weeknumber','monthvalue','maxtempf','mintempf','precipitationinch','watertempf','stlheadcount']]\n",
    "df_stlhead_week_month.head(3)"
   ]
  },
  {
   "cell_type": "code",
   "execution_count": 4,
   "id": "767ef23e",
   "metadata": {
    "scrolled": true
   },
   "outputs": [
    {
     "data": {
      "text/html": [
       "<div>\n",
       "<style scoped>\n",
       "    .dataframe tbody tr th:only-of-type {\n",
       "        vertical-align: middle;\n",
       "    }\n",
       "\n",
       "    .dataframe tbody tr th {\n",
       "        vertical-align: top;\n",
       "    }\n",
       "\n",
       "    .dataframe thead th {\n",
       "        text-align: right;\n",
       "    }\n",
       "</style>\n",
       "<table border=\"1\" class=\"dataframe\">\n",
       "  <thead>\n",
       "    <tr style=\"text-align: right;\">\n",
       "      <th></th>\n",
       "      <th>weeknumber</th>\n",
       "      <th>monthvalue</th>\n",
       "      <th>maxtempf</th>\n",
       "      <th>mintempf</th>\n",
       "      <th>precipitationinch</th>\n",
       "      <th>watertempf</th>\n",
       "      <th>stlheadcount</th>\n",
       "    </tr>\n",
       "  </thead>\n",
       "  <tbody>\n",
       "    <tr>\n",
       "      <th>73</th>\n",
       "      <td>11</td>\n",
       "      <td>3</td>\n",
       "      <td>53.0</td>\n",
       "      <td>38.0</td>\n",
       "      <td>0.12</td>\n",
       "      <td>44.06</td>\n",
       "      <td>27.0</td>\n",
       "    </tr>\n",
       "    <tr>\n",
       "      <th>74</th>\n",
       "      <td>11</td>\n",
       "      <td>3</td>\n",
       "      <td>69.0</td>\n",
       "      <td>38.0</td>\n",
       "      <td>0.00</td>\n",
       "      <td>44.96</td>\n",
       "      <td>44.0</td>\n",
       "    </tr>\n",
       "    <tr>\n",
       "      <th>75</th>\n",
       "      <td>11</td>\n",
       "      <td>3</td>\n",
       "      <td>61.0</td>\n",
       "      <td>44.0</td>\n",
       "      <td>0.00</td>\n",
       "      <td>44.06</td>\n",
       "      <td>36.0</td>\n",
       "    </tr>\n",
       "    <tr>\n",
       "      <th>76</th>\n",
       "      <td>12</td>\n",
       "      <td>3</td>\n",
       "      <td>59.0</td>\n",
       "      <td>44.0</td>\n",
       "      <td>0.02</td>\n",
       "      <td>44.96</td>\n",
       "      <td>60.0</td>\n",
       "    </tr>\n",
       "    <tr>\n",
       "      <th>77</th>\n",
       "      <td>12</td>\n",
       "      <td>3</td>\n",
       "      <td>67.0</td>\n",
       "      <td>44.0</td>\n",
       "      <td>0.00</td>\n",
       "      <td>46.04</td>\n",
       "      <td>46.0</td>\n",
       "    </tr>\n",
       "  </tbody>\n",
       "</table>\n",
       "</div>"
      ],
      "text/plain": [
       "    weeknumber  monthvalue  maxtempf  mintempf  precipitationinch  watertempf  \\\n",
       "73          11           3      53.0      38.0               0.12       44.06   \n",
       "74          11           3      69.0      38.0               0.00       44.96   \n",
       "75          11           3      61.0      44.0               0.00       44.06   \n",
       "76          12           3      59.0      44.0               0.02       44.96   \n",
       "77          12           3      67.0      44.0               0.00       46.04   \n",
       "\n",
       "    stlheadcount  \n",
       "73          27.0  \n",
       "74          44.0  \n",
       "75          36.0  \n",
       "76          60.0  \n",
       "77          46.0  "
      ]
     },
     "execution_count": 4,
     "metadata": {},
     "output_type": "execute_result"
    }
   ],
   "source": [
    "# Drop NaN values\n",
    "week_month = df_stlhead_week_month.dropna(axis=0)\n",
    "week_month.head()"
   ]
  },
  {
   "cell_type": "code",
   "execution_count": 5,
   "id": "3394448f",
   "metadata": {
    "scrolled": true
   },
   "outputs": [
    {
     "data": {
      "text/html": [
       "<div>\n",
       "<style scoped>\n",
       "    .dataframe tbody tr th:only-of-type {\n",
       "        vertical-align: middle;\n",
       "    }\n",
       "\n",
       "    .dataframe tbody tr th {\n",
       "        vertical-align: top;\n",
       "    }\n",
       "\n",
       "    .dataframe thead th {\n",
       "        text-align: right;\n",
       "    }\n",
       "</style>\n",
       "<table border=\"1\" class=\"dataframe\">\n",
       "  <thead>\n",
       "    <tr style=\"text-align: right;\">\n",
       "      <th></th>\n",
       "      <th>weeknumber</th>\n",
       "      <th>monthvalue</th>\n",
       "      <th>maxtempf</th>\n",
       "      <th>mintempf</th>\n",
       "      <th>precipitationinch</th>\n",
       "      <th>watertempf</th>\n",
       "      <th>stlheadcount</th>\n",
       "    </tr>\n",
       "  </thead>\n",
       "  <tbody>\n",
       "    <tr>\n",
       "      <th>73</th>\n",
       "      <td>11</td>\n",
       "      <td>3</td>\n",
       "      <td>53.0</td>\n",
       "      <td>38.0</td>\n",
       "      <td>0.12</td>\n",
       "      <td>44.06</td>\n",
       "      <td>27.0</td>\n",
       "    </tr>\n",
       "    <tr>\n",
       "      <th>74</th>\n",
       "      <td>11</td>\n",
       "      <td>3</td>\n",
       "      <td>69.0</td>\n",
       "      <td>38.0</td>\n",
       "      <td>0.00</td>\n",
       "      <td>44.96</td>\n",
       "      <td>44.0</td>\n",
       "    </tr>\n",
       "    <tr>\n",
       "      <th>75</th>\n",
       "      <td>11</td>\n",
       "      <td>3</td>\n",
       "      <td>61.0</td>\n",
       "      <td>44.0</td>\n",
       "      <td>0.00</td>\n",
       "      <td>44.06</td>\n",
       "      <td>36.0</td>\n",
       "    </tr>\n",
       "    <tr>\n",
       "      <th>76</th>\n",
       "      <td>12</td>\n",
       "      <td>3</td>\n",
       "      <td>59.0</td>\n",
       "      <td>44.0</td>\n",
       "      <td>0.02</td>\n",
       "      <td>44.96</td>\n",
       "      <td>60.0</td>\n",
       "    </tr>\n",
       "    <tr>\n",
       "      <th>77</th>\n",
       "      <td>12</td>\n",
       "      <td>3</td>\n",
       "      <td>67.0</td>\n",
       "      <td>44.0</td>\n",
       "      <td>0.00</td>\n",
       "      <td>46.04</td>\n",
       "      <td>46.0</td>\n",
       "    </tr>\n",
       "    <tr>\n",
       "      <th>...</th>\n",
       "      <td>...</td>\n",
       "      <td>...</td>\n",
       "      <td>...</td>\n",
       "      <td>...</td>\n",
       "      <td>...</td>\n",
       "      <td>...</td>\n",
       "      <td>...</td>\n",
       "    </tr>\n",
       "    <tr>\n",
       "      <th>11583</th>\n",
       "      <td>38</td>\n",
       "      <td>9</td>\n",
       "      <td>76.0</td>\n",
       "      <td>52.0</td>\n",
       "      <td>0.93</td>\n",
       "      <td>66.56</td>\n",
       "      <td>590.0</td>\n",
       "    </tr>\n",
       "    <tr>\n",
       "      <th>11584</th>\n",
       "      <td>39</td>\n",
       "      <td>9</td>\n",
       "      <td>60.0</td>\n",
       "      <td>51.0</td>\n",
       "      <td>1.50</td>\n",
       "      <td>66.56</td>\n",
       "      <td>702.0</td>\n",
       "    </tr>\n",
       "    <tr>\n",
       "      <th>11585</th>\n",
       "      <td>39</td>\n",
       "      <td>9</td>\n",
       "      <td>64.0</td>\n",
       "      <td>50.0</td>\n",
       "      <td>0.58</td>\n",
       "      <td>66.74</td>\n",
       "      <td>698.0</td>\n",
       "    </tr>\n",
       "    <tr>\n",
       "      <th>11586</th>\n",
       "      <td>39</td>\n",
       "      <td>9</td>\n",
       "      <td>75.0</td>\n",
       "      <td>50.0</td>\n",
       "      <td>0.00</td>\n",
       "      <td>66.38</td>\n",
       "      <td>1004.0</td>\n",
       "    </tr>\n",
       "    <tr>\n",
       "      <th>11587</th>\n",
       "      <td>39</td>\n",
       "      <td>9</td>\n",
       "      <td>80.0</td>\n",
       "      <td>53.0</td>\n",
       "      <td>0.00</td>\n",
       "      <td>66.20</td>\n",
       "      <td>1049.0</td>\n",
       "    </tr>\n",
       "  </tbody>\n",
       "</table>\n",
       "<p>8528 rows × 7 columns</p>\n",
       "</div>"
      ],
      "text/plain": [
       "       weeknumber  monthvalue  maxtempf  mintempf  precipitationinch  \\\n",
       "73             11           3      53.0      38.0               0.12   \n",
       "74             11           3      69.0      38.0               0.00   \n",
       "75             11           3      61.0      44.0               0.00   \n",
       "76             12           3      59.0      44.0               0.02   \n",
       "77             12           3      67.0      44.0               0.00   \n",
       "...           ...         ...       ...       ...                ...   \n",
       "11583          38           9      76.0      52.0               0.93   \n",
       "11584          39           9      60.0      51.0               1.50   \n",
       "11585          39           9      64.0      50.0               0.58   \n",
       "11586          39           9      75.0      50.0               0.00   \n",
       "11587          39           9      80.0      53.0               0.00   \n",
       "\n",
       "       watertempf  stlheadcount  \n",
       "73          44.06          27.0  \n",
       "74          44.96          44.0  \n",
       "75          44.06          36.0  \n",
       "76          44.96          60.0  \n",
       "77          46.04          46.0  \n",
       "...           ...           ...  \n",
       "11583       66.56         590.0  \n",
       "11584       66.56         702.0  \n",
       "11585       66.74         698.0  \n",
       "11586       66.38        1004.0  \n",
       "11587       66.20        1049.0  \n",
       "\n",
       "[8528 rows x 7 columns]"
      ]
     },
     "execution_count": 5,
     "metadata": {},
     "output_type": "execute_result"
    }
   ],
   "source": [
    "week_month"
   ]
  },
  {
   "cell_type": "code",
   "execution_count": 6,
   "id": "f2029fbf",
   "metadata": {},
   "outputs": [
    {
     "data": {
      "text/html": [
       "<div>\n",
       "<style scoped>\n",
       "    .dataframe tbody tr th:only-of-type {\n",
       "        vertical-align: middle;\n",
       "    }\n",
       "\n",
       "    .dataframe tbody tr th {\n",
       "        vertical-align: top;\n",
       "    }\n",
       "\n",
       "    .dataframe thead th {\n",
       "        text-align: right;\n",
       "    }\n",
       "</style>\n",
       "<table border=\"1\" class=\"dataframe\">\n",
       "  <thead>\n",
       "    <tr style=\"text-align: right;\">\n",
       "      <th></th>\n",
       "      <th>weeknumber</th>\n",
       "      <th>monthvalue</th>\n",
       "      <th>maxtempf</th>\n",
       "      <th>mintempf</th>\n",
       "      <th>precipitationinch</th>\n",
       "      <th>watertempf</th>\n",
       "      <th>stlheadcount</th>\n",
       "    </tr>\n",
       "  </thead>\n",
       "  <tbody>\n",
       "    <tr>\n",
       "      <th>0</th>\n",
       "      <td>1</td>\n",
       "      <td>1.000000</td>\n",
       "      <td>41.833333</td>\n",
       "      <td>32.185185</td>\n",
       "      <td>0.366481</td>\n",
       "      <td>40.860000</td>\n",
       "      <td>17.185185</td>\n",
       "    </tr>\n",
       "    <tr>\n",
       "      <th>1</th>\n",
       "      <td>2</td>\n",
       "      <td>1.000000</td>\n",
       "      <td>42.043956</td>\n",
       "      <td>32.934066</td>\n",
       "      <td>0.410659</td>\n",
       "      <td>40.365055</td>\n",
       "      <td>17.395604</td>\n",
       "    </tr>\n",
       "    <tr>\n",
       "      <th>2</th>\n",
       "      <td>3</td>\n",
       "      <td>1.000000</td>\n",
       "      <td>41.988764</td>\n",
       "      <td>33.550562</td>\n",
       "      <td>0.320674</td>\n",
       "      <td>39.600449</td>\n",
       "      <td>16.258427</td>\n",
       "    </tr>\n",
       "    <tr>\n",
       "      <th>3</th>\n",
       "      <td>4</td>\n",
       "      <td>1.000000</td>\n",
       "      <td>44.470588</td>\n",
       "      <td>35.082353</td>\n",
       "      <td>0.316706</td>\n",
       "      <td>38.816706</td>\n",
       "      <td>14.552941</td>\n",
       "    </tr>\n",
       "    <tr>\n",
       "      <th>4</th>\n",
       "      <td>5</td>\n",
       "      <td>1.204819</td>\n",
       "      <td>47.132530</td>\n",
       "      <td>37.060241</td>\n",
       "      <td>0.461205</td>\n",
       "      <td>39.098072</td>\n",
       "      <td>16.879518</td>\n",
       "    </tr>\n",
       "  </tbody>\n",
       "</table>\n",
       "</div>"
      ],
      "text/plain": [
       "   weeknumber  monthvalue   maxtempf   mintempf  precipitationinch  \\\n",
       "0           1    1.000000  41.833333  32.185185           0.366481   \n",
       "1           2    1.000000  42.043956  32.934066           0.410659   \n",
       "2           3    1.000000  41.988764  33.550562           0.320674   \n",
       "3           4    1.000000  44.470588  35.082353           0.316706   \n",
       "4           5    1.204819  47.132530  37.060241           0.461205   \n",
       "\n",
       "   watertempf  stlheadcount  \n",
       "0   40.860000     17.185185  \n",
       "1   40.365055     17.395604  \n",
       "2   39.600449     16.258427  \n",
       "3   38.816706     14.552941  \n",
       "4   39.098072     16.879518  "
      ]
     },
     "execution_count": 6,
     "metadata": {},
     "output_type": "execute_result"
    }
   ],
   "source": [
    "day_df"
   ]
  },
  {
   "cell_type": "code",
   "execution_count": 7,
   "id": "0cdba100",
   "metadata": {},
   "outputs": [],
   "source": [
    "week_df = week_df.astype({'stlheadcount': 'int64'})"
   ]
  },
  {
   "cell_type": "code",
   "execution_count": 8,
   "id": "463e4850",
   "metadata": {},
   "outputs": [
    {
     "data": {
      "text/plain": [
       "weeknumber             int64\n",
       "monthvalue           float64\n",
       "maxtempf             float64\n",
       "mintempf             float64\n",
       "precipitationinch    float64\n",
       "watertempf           float64\n",
       "stlheadcount           int64\n",
       "dtype: object"
      ]
     },
     "execution_count": 8,
     "metadata": {},
     "output_type": "execute_result"
    }
   ],
   "source": [
    "week_df.dtypes"
   ]
  },
  {
   "cell_type": "code",
   "execution_count": 9,
   "id": "b4920f1f",
   "metadata": {},
   "outputs": [
    {
     "data": {
      "text/html": [
       "<div>\n",
       "<style scoped>\n",
       "    .dataframe tbody tr th:only-of-type {\n",
       "        vertical-align: middle;\n",
       "    }\n",
       "\n",
       "    .dataframe tbody tr th {\n",
       "        vertical-align: top;\n",
       "    }\n",
       "\n",
       "    .dataframe thead th {\n",
       "        text-align: right;\n",
       "    }\n",
       "</style>\n",
       "<table border=\"1\" class=\"dataframe\">\n",
       "  <thead>\n",
       "    <tr style=\"text-align: right;\">\n",
       "      <th></th>\n",
       "      <th>monthvalue</th>\n",
       "      <th>weeknumber</th>\n",
       "      <th>maxtempf</th>\n",
       "      <th>mintempf</th>\n",
       "      <th>precipitationinch</th>\n",
       "      <th>watertempf</th>\n",
       "      <th>stlheadcount</th>\n",
       "    </tr>\n",
       "  </thead>\n",
       "  <tbody>\n",
       "    <tr>\n",
       "      <th>0</th>\n",
       "      <td>1</td>\n",
       "      <td>3.077121</td>\n",
       "      <td>43.449871</td>\n",
       "      <td>34.185090</td>\n",
       "      <td>0.370746</td>\n",
       "      <td>39.715013</td>\n",
       "      <td>16.408740</td>\n",
       "    </tr>\n",
       "    <tr>\n",
       "      <th>1</th>\n",
       "      <td>2</td>\n",
       "      <td>7.418079</td>\n",
       "      <td>48.228814</td>\n",
       "      <td>35.528249</td>\n",
       "      <td>0.290763</td>\n",
       "      <td>39.438475</td>\n",
       "      <td>18.274011</td>\n",
       "    </tr>\n",
       "    <tr>\n",
       "      <th>2</th>\n",
       "      <td>3</td>\n",
       "      <td>11.964080</td>\n",
       "      <td>55.110632</td>\n",
       "      <td>38.623563</td>\n",
       "      <td>0.292500</td>\n",
       "      <td>43.468534</td>\n",
       "      <td>43.793103</td>\n",
       "    </tr>\n",
       "    <tr>\n",
       "      <th>3</th>\n",
       "      <td>4</td>\n",
       "      <td>15.950386</td>\n",
       "      <td>60.340684</td>\n",
       "      <td>42.410143</td>\n",
       "      <td>0.216417</td>\n",
       "      <td>49.075590</td>\n",
       "      <td>47.721058</td>\n",
       "    </tr>\n",
       "    <tr>\n",
       "      <th>4</th>\n",
       "      <td>5</td>\n",
       "      <td>20.314952</td>\n",
       "      <td>67.453871</td>\n",
       "      <td>47.808059</td>\n",
       "      <td>0.135673</td>\n",
       "      <td>55.619130</td>\n",
       "      <td>62.323436</td>\n",
       "    </tr>\n",
       "  </tbody>\n",
       "</table>\n",
       "</div>"
      ],
      "text/plain": [
       "   monthvalue  weeknumber   maxtempf   mintempf  precipitationinch  \\\n",
       "0           1    3.077121  43.449871  34.185090           0.370746   \n",
       "1           2    7.418079  48.228814  35.528249           0.290763   \n",
       "2           3   11.964080  55.110632  38.623563           0.292500   \n",
       "3           4   15.950386  60.340684  42.410143           0.216417   \n",
       "4           5   20.314952  67.453871  47.808059           0.135673   \n",
       "\n",
       "   watertempf  stlheadcount  \n",
       "0   39.715013     16.408740  \n",
       "1   39.438475     18.274011  \n",
       "2   43.468534     43.793103  \n",
       "3   49.075590     47.721058  \n",
       "4   55.619130     62.323436  "
      ]
     },
     "execution_count": 9,
     "metadata": {},
     "output_type": "execute_result"
    }
   ],
   "source": [
    "# Make a df grouped by average count on monthvalue\n",
    "month_df = week_month.groupby(['monthvalue']).mean().reset_index()\n",
    "month_df.head()"
   ]
  },
  {
   "cell_type": "markdown",
   "id": "980b3e1a",
   "metadata": {},
   "source": [
    "Visualizations"
   ]
  },
  {
   "cell_type": "code",
   "execution_count": 10,
   "id": "13b179f3",
   "metadata": {
    "scrolled": false
   },
   "outputs": [
    {
     "data": {
      "image/png": "[encoded data removed]",
      "text/plain": [
       "<Figure size 432x288 with 1 Axes>"
      ]
     },
     "metadata": {
      "needs_background": "light"
     },
     "output_type": "display_data"
    }
   ],
   "source": [
    "# Bar plot of weekly average of fish count over 30 years\n",
    "plt.bar(week_df.weeknumber, week_df.stlheadcount)\n",
    "plt.title('Bonneville (30 Year Average)')\n",
    "plt.xlabel('Week Number')\n",
    "plt.ylabel('Average Steelhead Count')\n",
    "plt.show()"
   ]
  },
  {
   "cell_type": "code",
   "execution_count": 11,
   "id": "fae37e8a",
   "metadata": {},
   "outputs": [
    {
     "data": {
      "image/png": "[encoded data removed]",
      "text/plain": [
       "<Figure size 432x288 with 1 Axes>"
      ]
     },
     "metadata": {
      "needs_background": "light"
     },
     "output_type": "display_data"
    }
   ],
   "source": [
    "# Plot of fish count by water temperature\n",
    "plt.scatter(week_df.watertempf, week_df.stlheadcount)\n",
    "plt.title('Bonneville (30 Year-Weekly Average)')\n",
    "plt.xlabel('Water Temp (F)')\n",
    "plt.ylabel('Average Steelhead Count')\n",
    "plt.show()"
   ]
  },
  {
   "cell_type": "code",
   "execution_count": 12,
   "id": "8788a8db",
   "metadata": {},
   "outputs": [
    {
     "data": {
      "image/png": "[encoded data removed]",
      "text/plain": [
       "<Figure size 432x288 with 1 Axes>"
      ]
     },
     "metadata": {
      "needs_background": "light"
     },
     "output_type": "display_data"
    }
   ],
   "source": [
    "# Bar plot of weekly average of fish count over 30 years\n",
    "plt.bar(week_df.weeknumber, week_df.watertempf)\n",
    "plt.title('Bonneville (30 Year Average)')\n",
    "plt.xlabel('Week Number')\n",
    "plt.ylabel('Water Temp (F)')\n",
    "plt.show()"
   ]
  },
  {
   "cell_type": "code",
   "execution_count": 13,
   "id": "327f5c59",
   "metadata": {},
   "outputs": [
    {
     "data": {
      "image/png": "[encoded data removed]",
      "text/plain": [
       "<Figure size 432x288 with 1 Axes>"
      ]
     },
     "metadata": {
      "needs_background": "light"
     },
     "output_type": "display_data"
    }
   ],
   "source": [
    "# Plot of Max air temperature by Water temp\n",
    "plt.scatter(week_df.watertempf, week_df.maxtempf)\n",
    "plt.title('Bonneville (30 Year-Weekly Average)')\n",
    "plt.xlabel('Water Temp (F)')\n",
    "plt.ylabel('Max Air Temp (F)')\n",
    "plt.show()"
   ]
  },
  {
   "cell_type": "code",
   "execution_count": 14,
   "id": "ded69eaf",
   "metadata": {},
   "outputs": [
    {
     "data": {
      "image/png": "[encoded data removed]",
      "text/plain": [
       "<Figure size 432x288 with 1 Axes>"
      ]
     },
     "metadata": {
      "needs_background": "light"
     },
     "output_type": "display_data"
    }
   ],
   "source": [
    "# Plot of fish count by max air temp\n",
    "plt.scatter(week_df.maxtempf, week_df.stlheadcount)\n",
    "plt.title('Bonneville (30 Year-Weekly Average)')\n",
    "plt.xlabel('Max Air Temp (F)')\n",
    "plt.ylabel('Average Steelhead Count')\n",
    "plt.show()"
   ]
  },
  {
   "cell_type": "code",
   "execution_count": 15,
   "id": "d5694eeb",
   "metadata": {},
   "outputs": [
    {
     "data": {
      "image/png": "[encoded data removed]",
      "text/plain": [
       "<Figure size 432x288 with 1 Axes>"
      ]
     },
     "metadata": {
      "needs_background": "light"
     },
     "output_type": "display_data"
    }
   ],
   "source": [
    "# Plot of fish count by min air temp\n",
    "plt.scatter(week_df.mintempf, week_df.stlheadcount)\n",
    "plt.title('Bonneville (30 Year-Weekly Average)')\n",
    "plt.xlabel('Min Air Temp (F)')\n",
    "plt.ylabel('Average Steelhead Count')\n",
    "plt.show()"
   ]
  },
  {
   "cell_type": "code",
   "execution_count": 16,
   "id": "f1ebf519",
   "metadata": {
    "scrolled": true
   },
   "outputs": [
    {
     "data": {
      "image/png": "[encoded data removed]",
      "text/plain": [
       "<Figure size 432x288 with 1 Axes>"
      ]
     },
     "metadata": {
      "needs_background": "light"
     },
     "output_type": "display_data"
    }
   ],
   "source": [
    "# Plot of fish count by rain\n",
    "plt.scatter(week_df.precipitationinch, week_df.stlheadcount)\n",
    "plt.title('Bonneville (30 Year-Weekly Average)')\n",
    "plt.xlabel('Precipitation (In)')\n",
    "plt.ylabel('Average Steelhead Count')\n",
    "plt.show()"
   ]
  },
  {
   "cell_type": "markdown",
   "id": "2e918095",
   "metadata": {},
   "source": [
    "# Machine learning"
   ]
  },
  {
   "cell_type": "code",
   "execution_count": 17,
   "id": "d9576342",
   "metadata": {},
   "outputs": [],
   "source": [
    "from sklearn.metrics import balanced_accuracy_score\n",
    "from sklearn.metrics import confusion_matrix\n",
    "from imblearn.metrics import classification_report_imbalanced\n",
    "from sklearn.linear_model import LinearRegression\n",
    "from sklearn.metrics import accuracy_score\n",
    "from sklearn import preprocessing"
   ]
  },
  {
   "cell_type": "code",
   "execution_count": 18,
   "id": "eb4a9945",
   "metadata": {},
   "outputs": [],
   "source": [
    "from sklearn.preprocessing import StandardScaler, LabelEncoder"
   ]
  },
  {
   "cell_type": "code",
   "execution_count": 19,
   "id": "f56b24a7",
   "metadata": {},
   "outputs": [],
   "source": [
    "# labelencoder = LabelEncoder()\n",
    "# week_df['stlheadcount'] = labelencoder.fit_transform(week_df['stlheadcount'])"
   ]
  },
  {
   "cell_type": "code",
   "execution_count": 20,
   "id": "49aba07b",
   "metadata": {},
   "outputs": [],
   "source": [
    "target = ['stlheadcount']"
   ]
  },
  {
   "cell_type": "code",
   "execution_count": 60,
   "id": "e1cee995",
   "metadata": {
    "scrolled": true
   },
   "outputs": [
    {
     "data": {
      "text/plain": [
       "0       17\n",
       "1       17\n",
       "2       16\n",
       "3       14\n",
       "4       16\n",
       "5       14\n",
       "6       18\n",
       "7       19\n",
       "8       22\n",
       "9       32\n",
       "10      43\n",
       "11      43\n",
       "12      48\n",
       "13      55\n",
       "14      53\n",
       "15      45\n",
       "16      41\n",
       "17      39\n",
       "18      50\n",
       "19      58\n",
       "20      67\n",
       "21      81\n",
       "22     117\n",
       "23     169\n",
       "24     285\n",
       "25     485\n",
       "26     777\n",
       "27    1294\n",
       "28    2077\n",
       "29    2858\n",
       "30    3534\n",
       "31    3780\n",
       "32    4089\n",
       "33    3346\n",
       "34    3017\n",
       "35    3058\n",
       "36    2937\n",
       "37    2514\n",
       "38    1660\n",
       "39     932\n",
       "40     523\n",
       "41     340\n",
       "42     193\n",
       "43     122\n",
       "44      72\n",
       "45      59\n",
       "46      48\n",
       "47      36\n",
       "48      31\n",
       "49      27\n",
       "50      19\n",
       "51      19\n",
       "52      18\n",
       "Name: stlheadcount, dtype: int64"
      ]
     },
     "execution_count": 60,
     "metadata": {},
     "output_type": "execute_result"
    }
   ],
   "source": [
    "# Creating features\n",
    "X = week_df.drop('stlheadcount', axis=1)\n",
    "# X = pd.get_dummies(X)\n",
    "\n",
    "# Creating target\n",
    "y = week_df['stlheadcount']\n",
    "y"
   ]
  },
  {
   "cell_type": "code",
   "execution_count": 43,
   "id": "71faa7ab",
   "metadata": {},
   "outputs": [],
   "source": [
    "from sklearn.model_selection import train_test_split\n",
    "X_train, X_test, y_train, y_test = train_test_split(X, y, random_state=1)"
   ]
  },
  {
   "cell_type": "code",
   "execution_count": 56,
   "id": "6055d423",
   "metadata": {},
   "outputs": [
    {
     "data": {
      "text/plain": [
       "weeknumber             int64\n",
       "monthvalue           float64\n",
       "maxtempf             float64\n",
       "mintempf             float64\n",
       "precipitationinch    float64\n",
       "watertempf           float64\n",
       "dtype: object"
      ]
     },
     "execution_count": 56,
     "metadata": {},
     "output_type": "execute_result"
    }
   ],
   "source": [
    "X_train.dtypes"
   ]
  },
  {
   "cell_type": "code",
   "execution_count": 80,
   "id": "2437d72f",
   "metadata": {
    "scrolled": true
   },
   "outputs": [
    {
     "data": {
      "text/html": [
       "<div>\n",
       "<style scoped>\n",
       "    .dataframe tbody tr th:only-of-type {\n",
       "        vertical-align: middle;\n",
       "    }\n",
       "\n",
       "    .dataframe tbody tr th {\n",
       "        vertical-align: top;\n",
       "    }\n",
       "\n",
       "    .dataframe thead th {\n",
       "        text-align: right;\n",
       "    }\n",
       "</style>\n",
       "<table border=\"1\" class=\"dataframe\">\n",
       "  <thead>\n",
       "    <tr style=\"text-align: right;\">\n",
       "      <th></th>\n",
       "      <th>weeknumber</th>\n",
       "      <th>monthvalue</th>\n",
       "      <th>maxtempf</th>\n",
       "      <th>mintempf</th>\n",
       "      <th>precipitationinch</th>\n",
       "      <th>watertempf</th>\n",
       "    </tr>\n",
       "  </thead>\n",
       "  <tbody>\n",
       "    <tr>\n",
       "      <th>30</th>\n",
       "      <td>31</td>\n",
       "      <td>7.278302</td>\n",
       "      <td>82.518868</td>\n",
       "      <td>58.367925</td>\n",
       "      <td>0.013774</td>\n",
       "      <td>69.926509</td>\n",
       "    </tr>\n",
       "    <tr>\n",
       "      <th>2</th>\n",
       "      <td>3</td>\n",
       "      <td>1.000000</td>\n",
       "      <td>41.988764</td>\n",
       "      <td>33.550562</td>\n",
       "      <td>0.320674</td>\n",
       "      <td>39.600449</td>\n",
       "    </tr>\n",
       "    <tr>\n",
       "      <th>51</th>\n",
       "      <td>52</td>\n",
       "      <td>12.000000</td>\n",
       "      <td>41.661538</td>\n",
       "      <td>33.923077</td>\n",
       "      <td>0.404462</td>\n",
       "      <td>42.107692</td>\n",
       "    </tr>\n",
       "    <tr>\n",
       "      <th>32</th>\n",
       "      <td>33</td>\n",
       "      <td>8.000000</td>\n",
       "      <td>81.348624</td>\n",
       "      <td>58.697248</td>\n",
       "      <td>0.018165</td>\n",
       "      <td>70.876697</td>\n",
       "    </tr>\n",
       "    <tr>\n",
       "      <th>31</th>\n",
       "      <td>32</td>\n",
       "      <td>7.972350</td>\n",
       "      <td>81.635945</td>\n",
       "      <td>58.824885</td>\n",
       "      <td>0.018664</td>\n",
       "      <td>70.738157</td>\n",
       "    </tr>\n",
       "    <tr>\n",
       "      <th>46</th>\n",
       "      <td>47</td>\n",
       "      <td>11.000000</td>\n",
       "      <td>49.770115</td>\n",
       "      <td>38.816092</td>\n",
       "      <td>0.369195</td>\n",
       "      <td>51.462759</td>\n",
       "    </tr>\n",
       "    <tr>\n",
       "      <th>34</th>\n",
       "      <td>35</td>\n",
       "      <td>8.045662</td>\n",
       "      <td>80.123288</td>\n",
       "      <td>56.132420</td>\n",
       "      <td>0.051233</td>\n",
       "      <td>70.120548</td>\n",
       "    </tr>\n",
       "    <tr>\n",
       "      <th>39</th>\n",
       "      <td>40</td>\n",
       "      <td>9.522013</td>\n",
       "      <td>70.767296</td>\n",
       "      <td>50.886792</td>\n",
       "      <td>0.149937</td>\n",
       "      <td>65.491321</td>\n",
       "    </tr>\n",
       "    <tr>\n",
       "      <th>45</th>\n",
       "      <td>46</td>\n",
       "      <td>11.000000</td>\n",
       "      <td>53.266667</td>\n",
       "      <td>41.613333</td>\n",
       "      <td>0.338200</td>\n",
       "      <td>53.543600</td>\n",
       "    </tr>\n",
       "    <tr>\n",
       "      <th>19</th>\n",
       "      <td>20</td>\n",
       "      <td>5.000000</td>\n",
       "      <td>67.626168</td>\n",
       "      <td>47.747664</td>\n",
       "      <td>0.130187</td>\n",
       "      <td>55.279720</td>\n",
       "    </tr>\n",
       "    <tr>\n",
       "      <th>10</th>\n",
       "      <td>11</td>\n",
       "      <td>3.000000</td>\n",
       "      <td>55.347107</td>\n",
       "      <td>38.363636</td>\n",
       "      <td>0.287769</td>\n",
       "      <td>42.103802</td>\n",
       "    </tr>\n",
       "    <tr>\n",
       "      <th>3</th>\n",
       "      <td>4</td>\n",
       "      <td>1.000000</td>\n",
       "      <td>44.470588</td>\n",
       "      <td>35.082353</td>\n",
       "      <td>0.316706</td>\n",
       "      <td>38.816706</td>\n",
       "    </tr>\n",
       "    <tr>\n",
       "      <th>21</th>\n",
       "      <td>22</td>\n",
       "      <td>5.107981</td>\n",
       "      <td>69.746479</td>\n",
       "      <td>50.751174</td>\n",
       "      <td>0.109812</td>\n",
       "      <td>57.811831</td>\n",
       "    </tr>\n",
       "    <tr>\n",
       "      <th>49</th>\n",
       "      <td>50</td>\n",
       "      <td>12.000000</td>\n",
       "      <td>42.123288</td>\n",
       "      <td>32.767123</td>\n",
       "      <td>0.307534</td>\n",
       "      <td>44.639452</td>\n",
       "    </tr>\n",
       "  </tbody>\n",
       "</table>\n",
       "</div>"
      ],
      "text/plain": [
       "    weeknumber  monthvalue   maxtempf   mintempf  precipitationinch  \\\n",
       "30          31    7.278302  82.518868  58.367925           0.013774   \n",
       "2            3    1.000000  41.988764  33.550562           0.320674   \n",
       "51          52   12.000000  41.661538  33.923077           0.404462   \n",
       "32          33    8.000000  81.348624  58.697248           0.018165   \n",
       "31          32    7.972350  81.635945  58.824885           0.018664   \n",
       "46          47   11.000000  49.770115  38.816092           0.369195   \n",
       "34          35    8.045662  80.123288  56.132420           0.051233   \n",
       "39          40    9.522013  70.767296  50.886792           0.149937   \n",
       "45          46   11.000000  53.266667  41.613333           0.338200   \n",
       "19          20    5.000000  67.626168  47.747664           0.130187   \n",
       "10          11    3.000000  55.347107  38.363636           0.287769   \n",
       "3            4    1.000000  44.470588  35.082353           0.316706   \n",
       "21          22    5.107981  69.746479  50.751174           0.109812   \n",
       "49          50   12.000000  42.123288  32.767123           0.307534   \n",
       "\n",
       "    watertempf  \n",
       "30   69.926509  \n",
       "2    39.600449  \n",
       "51   42.107692  \n",
       "32   70.876697  \n",
       "31   70.738157  \n",
       "46   51.462759  \n",
       "34   70.120548  \n",
       "39   65.491321  \n",
       "45   53.543600  \n",
       "19   55.279720  \n",
       "10   42.103802  \n",
       "3    38.816706  \n",
       "21   57.811831  \n",
       "49   44.639452  "
      ]
     },
     "execution_count": 80,
     "metadata": {},
     "output_type": "execute_result"
    }
   ],
   "source": [
    "X_test"
   ]
  },
  {
   "cell_type": "code",
   "execution_count": 44,
   "id": "0b9ec82e",
   "metadata": {},
   "outputs": [
    {
     "data": {
      "text/plain": [
       "30    3534\n",
       "2       16\n",
       "51      19\n",
       "32    4089\n",
       "31    3780\n",
       "46      48\n",
       "34    3017\n",
       "39     932\n",
       "45      59\n",
       "19      58\n",
       "10      43\n",
       "3       14\n",
       "21      81\n",
       "49      27\n",
       "Name: stlheadcount, dtype: int64"
      ]
     },
     "execution_count": 44,
     "metadata": {},
     "output_type": "execute_result"
    }
   ],
   "source": [
    "y_test"
   ]
  },
  {
   "cell_type": "code",
   "execution_count": 45,
   "id": "5fd418b2",
   "metadata": {
    "scrolled": true
   },
   "outputs": [
    {
     "data": {
      "text/plain": [
       "dtype('int64')"
      ]
     },
     "execution_count": 45,
     "metadata": {},
     "output_type": "execute_result"
    }
   ],
   "source": [
    "y_train.dtypes"
   ]
  },
  {
   "cell_type": "code",
   "execution_count": 46,
   "id": "27e58ee4",
   "metadata": {},
   "outputs": [
    {
     "data": {
      "text/plain": [
       "count      39.000000\n",
       "mean      603.256410\n",
       "std      1021.477303\n",
       "min        14.000000\n",
       "25%        31.500000\n",
       "50%        55.000000\n",
       "75%       504.000000\n",
       "max      3346.000000\n",
       "Name: stlheadcount, dtype: float64"
      ]
     },
     "execution_count": 46,
     "metadata": {},
     "output_type": "execute_result"
    }
   ],
   "source": [
    "y_train.describe()"
   ]
  },
  {
   "cell_type": "code",
   "execution_count": 26,
   "id": "06f87068",
   "metadata": {},
   "outputs": [],
   "source": [
    "# X_scaled = StandardScaler().fit_transform(X_train)\n",
    "# print(X_scaled[0:5])"
   ]
  },
  {
   "cell_type": "code",
   "execution_count": 27,
   "id": "a49e58ba",
   "metadata": {},
   "outputs": [],
   "source": [
    "# X_scaled.dtype"
   ]
  },
  {
   "cell_type": "code",
   "execution_count": 28,
   "id": "85a08d6a",
   "metadata": {},
   "outputs": [],
   "source": [
    "# y_scaled = StandardScaler().fit_transform(y_train)\n",
    "# print(y_scaled[0:5])"
   ]
  },
  {
   "cell_type": "code",
   "execution_count": 29,
   "id": "af2ac9f3",
   "metadata": {},
   "outputs": [],
   "source": [
    "# y_scaled.dtype"
   ]
  },
  {
   "cell_type": "markdown",
   "id": "dcc077d9",
   "metadata": {},
   "source": [
    "## Naive Random Oversampling"
   ]
  },
  {
   "cell_type": "code",
   "execution_count": 47,
   "id": "3f942919",
   "metadata": {},
   "outputs": [
    {
     "data": {
      "text/plain": [
       "Counter({1660: 2,\n",
       "         340: 2,\n",
       "         285: 2,\n",
       "         193: 2,\n",
       "         523: 2,\n",
       "         3058: 2,\n",
       "         777: 2,\n",
       "         55: 2,\n",
       "         117: 2,\n",
       "         72: 2,\n",
       "         1294: 2,\n",
       "         39: 2,\n",
       "         31: 2,\n",
       "         3346: 2,\n",
       "         169: 2,\n",
       "         16: 2,\n",
       "         2937: 2,\n",
       "         53: 2,\n",
       "         2858: 2,\n",
       "         2077: 2,\n",
       "         36: 2,\n",
       "         18: 2,\n",
       "         50: 2,\n",
       "         67: 2,\n",
       "         485: 2,\n",
       "         19: 2,\n",
       "         17: 2,\n",
       "         41: 2,\n",
       "         45: 2,\n",
       "         14: 2,\n",
       "         43: 2,\n",
       "         32: 2,\n",
       "         22: 2,\n",
       "         48: 2,\n",
       "         122: 2,\n",
       "         2514: 2})"
      ]
     },
     "execution_count": 47,
     "metadata": {},
     "output_type": "execute_result"
    }
   ],
   "source": [
    "# Resample the training data with the RandomOversampler\n",
    "from imblearn.over_sampling import RandomOverSampler\n",
    "ros = RandomOverSampler(random_state=1)\n",
    "X_resampled, y_resampled = ros.fit_resample(X_train, y_train)\n",
    "\n",
    "Counter(y_resampled)"
   ]
  },
  {
   "cell_type": "code",
   "execution_count": 68,
   "id": "42345328",
   "metadata": {},
   "outputs": [
    {
     "data": {
      "text/plain": [
       "LinearRegression()"
      ]
     },
     "execution_count": 68,
     "metadata": {},
     "output_type": "execute_result"
    }
   ],
   "source": [
    "# Train the Logistic Regression model using the resampled data\n",
    "from sklearn.linear_model import LinearRegression\n",
    "\n",
    "model = LinearRegression()\n",
    "model.fit(X_train, y_train)"
   ]
  },
  {
   "cell_type": "code",
   "execution_count": 69,
   "id": "4bc7afa4",
   "metadata": {},
   "outputs": [
    {
     "data": {
      "text/plain": [
       "array([1822.53666276,  -91.66693197, -408.8503387 , 1826.50532785,\n",
       "       1746.07140775,  337.96321792, 1878.06673292, 1404.99209582,\n",
       "        408.78629589,  714.06377788, -319.00261833, -164.63632907,\n",
       "       1021.25616077, -211.25154715])"
      ]
     },
     "execution_count": 69,
     "metadata": {},
     "output_type": "execute_result"
    }
   ],
   "source": [
    "y_pred = model.predict(X_test)\n",
    "y_pred"
   ]
  },
  {
   "cell_type": "code",
   "execution_count": 70,
   "id": "c8820d4e",
   "metadata": {},
   "outputs": [
    {
     "data": {
      "text/plain": [
       "[1822.5366627552576,\n",
       " -91.66693197470522,\n",
       " -408.85033870051575,\n",
       " 1826.5053278479536,\n",
       " 1746.0714077527182,\n",
       " 337.96321791602804,\n",
       " 1878.0667329212156,\n",
       " 1404.992095822612,\n",
       " 408.78629589297543,\n",
       " 714.063777879237]"
      ]
     },
     "execution_count": 70,
     "metadata": {},
     "output_type": "execute_result"
    }
   ],
   "source": [
    "list(model.predict(X_test[:10]))"
   ]
  },
  {
   "cell_type": "code",
   "execution_count": 71,
   "id": "1091ae4d",
   "metadata": {},
   "outputs": [
    {
     "data": {
      "text/plain": [
       "30    3534\n",
       "2       16\n",
       "51      19\n",
       "32    4089\n",
       "31    3780\n",
       "46      48\n",
       "34    3017\n",
       "39     932\n",
       "45      59\n",
       "19      58\n",
       "Name: stlheadcount, dtype: int64"
      ]
     },
     "execution_count": 71,
     "metadata": {},
     "output_type": "execute_result"
    }
   ],
   "source": [
    "y_test[:10]"
   ]
  },
  {
   "cell_type": "code",
   "execution_count": 72,
   "id": "f1f76b8e",
   "metadata": {},
   "outputs": [
    {
     "data": {
      "text/plain": [
       "0.5759859507790269"
      ]
     },
     "execution_count": 72,
     "metadata": {},
     "output_type": "execute_result"
    }
   ],
   "source": [
    "model.score(X_train, y_train)"
   ]
  },
  {
   "cell_type": "code",
   "execution_count": 73,
   "id": "45272e6a",
   "metadata": {},
   "outputs": [
    {
     "data": {
      "text/plain": [
       "0.5636224099939219"
      ]
     },
     "execution_count": 73,
     "metadata": {},
     "output_type": "execute_result"
    }
   ],
   "source": [
    "model.score(X_test, y_test)"
   ]
  },
  {
   "cell_type": "code",
   "execution_count": 79,
   "id": "e7566aa9",
   "metadata": {},
   "outputs": [
    {
     "data": {
      "image/png": "[encoded data removed]",
      "text/plain": [
       "<Figure size 432x288 with 1 Axes>"
      ]
     },
     "metadata": {
      "needs_background": "light"
     },
     "output_type": "display_data"
    }
   ],
   "source": [
    "# Plot of fish count by rain\n",
    "plt.scatter(model.predict(X_test)[:10], y_test[:10])\n",
    "\n",
    "plt.show()"
   ]
  },
  {
   "cell_type": "code",
   "execution_count": 67,
   "id": "8f45b917",
   "metadata": {},
   "outputs": [
    {
     "name": "stderr",
     "output_type": "stream",
     "text": [
      "C:\\Users\\mthal\\anaconda3\\envs\\mlenv\\lib\\site-packages\\sklearn\\metrics\\_classification.py:1987: UserWarning: y_pred contains classes not in y_true\n",
      "  warnings.warn(\"y_pred contains classes not in y_true\")\n"
     ]
    },
    {
     "data": {
      "text/plain": [
       "0.07142857142857142"
      ]
     },
     "execution_count": 67,
     "metadata": {},
     "output_type": "execute_result"
    }
   ],
   "source": [
    "# Calculated the balanced accuracy score\n",
    "from sklearn.metrics import balanced_accuracy_score\n",
    "nro = balanced_accuracy_score(y_test, y_pred)\n",
    "nro"
   ]
  },
  {
   "cell_type": "code",
   "execution_count": 36,
   "id": "7a4f85fe",
   "metadata": {},
   "outputs": [
    {
     "name": "stdout",
     "output_type": "stream",
     "text": [
      "                   pre       rec       spe        f1       geo       iba       sup\n",
      "\n",
      "         14       0.00      0.00      1.00      0.00      0.00      0.00       1.0\n",
      "         16       0.00      0.00      0.92      0.00      0.00      0.00       1.0\n",
      "         17       0.00      0.00      0.93      0.00      0.00      0.00       0.0\n",
      "         18       0.00      0.00      0.93      0.00      0.00      0.00       0.0\n",
      "         19       0.00      0.00      1.00      0.00      0.00      0.00       1.0\n",
      "         27       0.00      0.00      1.00      0.00      0.00      0.00       1.0\n",
      "         31       0.00      0.00      0.93      0.00      0.00      0.00       0.0\n",
      "         32       0.00      0.00      0.93      0.00      0.00      0.00       0.0\n",
      "         36       0.00      0.00      0.93      0.00      0.00      0.00       0.0\n",
      "         43       0.00      0.00      1.00      0.00      0.00      0.00       1.0\n",
      "         48       0.00      0.00      1.00      0.00      0.00      0.00       1.0\n",
      "         58       0.00      0.00      1.00      0.00      0.00      0.00       1.0\n",
      "         59       0.00      0.00      1.00      0.00      0.00      0.00       1.0\n",
      "         72       0.00      0.00      0.93      0.00      0.00      0.00       0.0\n",
      "         81       0.00      0.00      1.00      0.00      0.00      0.00       1.0\n",
      "        485       0.00      0.00      0.93      0.00      0.00      0.00       0.0\n",
      "        777       0.00      0.00      0.93      0.00      0.00      0.00       0.0\n",
      "        932       0.00      0.00      1.00      0.00      0.00      0.00       1.0\n",
      "       2858       0.00      0.00      0.93      0.00      0.00      0.00       0.0\n",
      "       2937       0.00      0.00      0.86      0.00      0.00      0.00       0.0\n",
      "       3017       0.00      0.00      1.00      0.00      0.00      0.00       1.0\n",
      "       3346       0.00      0.00      0.86      0.00      0.00      0.00       0.0\n",
      "       3534       0.00      0.00      1.00      0.00      0.00      0.00       1.0\n",
      "       3780       0.00      0.00      1.00      0.00      0.00      0.00       1.0\n",
      "       4089       0.00      0.00      1.00      0.00      0.00      0.00       1.0\n",
      "\n",
      "avg / total       0.00      0.00      0.99      0.00      0.00      0.00      14.0\n",
      "\n"
     ]
    },
    {
     "name": "stderr",
     "output_type": "stream",
     "text": [
      "C:\\Users\\mthal\\anaconda3\\envs\\mlenv\\lib\\site-packages\\sklearn\\metrics\\_classification.py:1318: UndefinedMetricWarning: Precision and F-score are ill-defined and being set to 0.0 in labels with no predicted samples. Use `zero_division` parameter to control this behavior.\n",
      "  _warn_prf(average, modifier, msg_start, len(result))\n",
      "C:\\Users\\mthal\\anaconda3\\envs\\mlenv\\lib\\site-packages\\sklearn\\metrics\\_classification.py:1318: UndefinedMetricWarning: Recall and F-score are ill-defined and being set to 0.0 in labels with no true samples. Use `zero_division` parameter to control this behavior.\n",
      "  _warn_prf(average, modifier, msg_start, len(result))\n",
      "C:\\Users\\mthal\\anaconda3\\envs\\mlenv\\lib\\site-packages\\sklearn\\metrics\\_classification.py:1318: UndefinedMetricWarning: Sensitivity is ill-defined and being set to 0.0 in labels with no true samples. Use `zero_division` parameter to control this behavior.\n",
      "  _warn_prf(average, modifier, msg_start, len(result))\n"
     ]
    }
   ],
   "source": [
    "# Print the imbalanced classification report\n",
    "from imblearn.metrics import classification_report_imbalanced\n",
    "print(classification_report_imbalanced(y_test, y_pred))"
   ]
  },
  {
   "cell_type": "code",
   "execution_count": null,
   "id": "42ef32ca",
   "metadata": {},
   "outputs": [],
   "source": []
  },
  {
   "cell_type": "markdown",
   "id": "f1a63604",
   "metadata": {},
   "source": [
    "## SMOTE Oversampling"
   ]
  },
  {
   "cell_type": "code",
   "execution_count": 37,
   "id": "50459d10",
   "metadata": {},
   "outputs": [
    {
     "ename": "ValueError",
     "evalue": "Expected n_neighbors <= n_samples,  but n_samples = 1, n_neighbors = 6",
     "output_type": "error",
     "traceback": [
      "\u001b[1;31m---------------------------------------------------------------------------\u001b[0m",
      "\u001b[1;31mValueError\u001b[0m                                Traceback (most recent call last)",
      "\u001b[1;32m~\\AppData\\Local\\Temp/ipykernel_20092/2544385910.py\u001b[0m in \u001b[0;36m<module>\u001b[1;34m\u001b[0m\n\u001b[0;32m      2\u001b[0m \u001b[1;32mfrom\u001b[0m \u001b[0mimblearn\u001b[0m\u001b[1;33m.\u001b[0m\u001b[0mover_sampling\u001b[0m \u001b[1;32mimport\u001b[0m \u001b[0mSMOTE\u001b[0m\u001b[1;33m\u001b[0m\u001b[1;33m\u001b[0m\u001b[0m\n\u001b[0;32m      3\u001b[0m X_resampled, y_resampled = SMOTE(random_state=1, sampling_strategy='auto').fit_resample(\n\u001b[1;32m----> 4\u001b[1;33m     \u001b[0mX_train\u001b[0m\u001b[1;33m,\u001b[0m \u001b[0my_train\u001b[0m\u001b[1;33m\u001b[0m\u001b[1;33m\u001b[0m\u001b[0m\n\u001b[0m\u001b[0;32m      5\u001b[0m )\n\u001b[0;32m      6\u001b[0m \u001b[0mCounter\u001b[0m\u001b[1;33m(\u001b[0m\u001b[0my_resampled\u001b[0m\u001b[1;33m)\u001b[0m\u001b[1;33m\u001b[0m\u001b[1;33m\u001b[0m\u001b[0m\n",
      "\u001b[1;32m~\\anaconda3\\envs\\mlenv\\lib\\site-packages\\imblearn\\base.py\u001b[0m in \u001b[0;36mfit_resample\u001b[1;34m(self, X, y)\u001b[0m\n\u001b[0;32m     81\u001b[0m         )\n\u001b[0;32m     82\u001b[0m \u001b[1;33m\u001b[0m\u001b[0m\n\u001b[1;32m---> 83\u001b[1;33m         \u001b[0moutput\u001b[0m \u001b[1;33m=\u001b[0m \u001b[0mself\u001b[0m\u001b[1;33m.\u001b[0m\u001b[0m_fit_resample\u001b[0m\u001b[1;33m(\u001b[0m\u001b[0mX\u001b[0m\u001b[1;33m,\u001b[0m \u001b[0my\u001b[0m\u001b[1;33m)\u001b[0m\u001b[1;33m\u001b[0m\u001b[1;33m\u001b[0m\u001b[0m\n\u001b[0m\u001b[0;32m     84\u001b[0m \u001b[1;33m\u001b[0m\u001b[0m\n\u001b[0;32m     85\u001b[0m         y_ = (\n",
      "\u001b[1;32m~\\anaconda3\\envs\\mlenv\\lib\\site-packages\\imblearn\\over_sampling\\_smote\\base.py\u001b[0m in \u001b[0;36m_fit_resample\u001b[1;34m(self, X, y)\u001b[0m\n\u001b[0;32m    322\u001b[0m \u001b[1;33m\u001b[0m\u001b[0m\n\u001b[0;32m    323\u001b[0m             \u001b[0mself\u001b[0m\u001b[1;33m.\u001b[0m\u001b[0mnn_k_\u001b[0m\u001b[1;33m.\u001b[0m\u001b[0mfit\u001b[0m\u001b[1;33m(\u001b[0m\u001b[0mX_class\u001b[0m\u001b[1;33m)\u001b[0m\u001b[1;33m\u001b[0m\u001b[1;33m\u001b[0m\u001b[0m\n\u001b[1;32m--> 324\u001b[1;33m             \u001b[0mnns\u001b[0m \u001b[1;33m=\u001b[0m \u001b[0mself\u001b[0m\u001b[1;33m.\u001b[0m\u001b[0mnn_k_\u001b[0m\u001b[1;33m.\u001b[0m\u001b[0mkneighbors\u001b[0m\u001b[1;33m(\u001b[0m\u001b[0mX_class\u001b[0m\u001b[1;33m,\u001b[0m \u001b[0mreturn_distance\u001b[0m\u001b[1;33m=\u001b[0m\u001b[1;32mFalse\u001b[0m\u001b[1;33m)\u001b[0m\u001b[1;33m[\u001b[0m\u001b[1;33m:\u001b[0m\u001b[1;33m,\u001b[0m \u001b[1;36m1\u001b[0m\u001b[1;33m:\u001b[0m\u001b[1;33m]\u001b[0m\u001b[1;33m\u001b[0m\u001b[1;33m\u001b[0m\u001b[0m\n\u001b[0m\u001b[0;32m    325\u001b[0m             X_new, y_new = self._make_samples(\n\u001b[0;32m    326\u001b[0m                 \u001b[0mX_class\u001b[0m\u001b[1;33m,\u001b[0m \u001b[0my\u001b[0m\u001b[1;33m.\u001b[0m\u001b[0mdtype\u001b[0m\u001b[1;33m,\u001b[0m \u001b[0mclass_sample\u001b[0m\u001b[1;33m,\u001b[0m \u001b[0mX_class\u001b[0m\u001b[1;33m,\u001b[0m \u001b[0mnns\u001b[0m\u001b[1;33m,\u001b[0m \u001b[0mn_samples\u001b[0m\u001b[1;33m,\u001b[0m \u001b[1;36m1.0\u001b[0m\u001b[1;33m\u001b[0m\u001b[1;33m\u001b[0m\u001b[0m\n",
      "\u001b[1;32m~\\anaconda3\\envs\\mlenv\\lib\\site-packages\\sklearn\\neighbors\\_base.py\u001b[0m in \u001b[0;36mkneighbors\u001b[1;34m(self, X, n_neighbors, return_distance)\u001b[0m\n\u001b[0;32m    727\u001b[0m             raise ValueError(\n\u001b[0;32m    728\u001b[0m                 \u001b[1;34m\"Expected n_neighbors <= n_samples, \"\u001b[0m\u001b[1;33m\u001b[0m\u001b[1;33m\u001b[0m\u001b[0m\n\u001b[1;32m--> 729\u001b[1;33m                 \u001b[1;34m\" but n_samples = %d, n_neighbors = %d\"\u001b[0m \u001b[1;33m%\u001b[0m \u001b[1;33m(\u001b[0m\u001b[0mn_samples_fit\u001b[0m\u001b[1;33m,\u001b[0m \u001b[0mn_neighbors\u001b[0m\u001b[1;33m)\u001b[0m\u001b[1;33m\u001b[0m\u001b[1;33m\u001b[0m\u001b[0m\n\u001b[0m\u001b[0;32m    730\u001b[0m             )\n\u001b[0;32m    731\u001b[0m \u001b[1;33m\u001b[0m\u001b[0m\n",
      "\u001b[1;31mValueError\u001b[0m: Expected n_neighbors <= n_samples,  but n_samples = 1, n_neighbors = 6"
     ]
    }
   ],
   "source": [
    "# Resample the training data with SMOTE\n",
    "from imblearn.over_sampling import SMOTE\n",
    "X_resampled, y_resampled = SMOTE(random_state=1, sampling_strategy='auto').fit_resample(\n",
    "    X_train, y_train\n",
    ")\n",
    "Counter(y_resampled)"
   ]
  },
  {
   "cell_type": "code",
   "execution_count": null,
   "id": "14ab6d4a",
   "metadata": {},
   "outputs": [],
   "source": [
    "# Train the Logistic Regression model using the resampled data\n",
    "model = LogisticRegression(solver='lbfgs', random_state=1)\n",
    "model.fit(X_resampled, y_resampled)"
   ]
  },
  {
   "cell_type": "code",
   "execution_count": null,
   "id": "76a21dee",
   "metadata": {},
   "outputs": [],
   "source": [
    "y_pred = model.predict(X_test)\n",
    "y_pred"
   ]
  },
  {
   "cell_type": "code",
   "execution_count": null,
   "id": "451a70bf",
   "metadata": {},
   "outputs": [],
   "source": [
    "# Calculated the balanced accuracy score\n",
    "smote_bac = balanced_accuracy_score(y_test, y_pred)\n",
    "smote_bac"
   ]
  },
  {
   "cell_type": "code",
   "execution_count": null,
   "id": "a6b2ba83",
   "metadata": {},
   "outputs": [],
   "source": [
    "# Print the imbalanced classification report\n",
    "print(classification_report_imbalanced(y_test, y_pred))"
   ]
  },
  {
   "cell_type": "code",
   "execution_count": null,
   "id": "f16c152c",
   "metadata": {},
   "outputs": [],
   "source": []
  },
  {
   "cell_type": "markdown",
   "id": "d11caeae",
   "metadata": {},
   "source": [
    "## Undersampling"
   ]
  },
  {
   "cell_type": "code",
   "execution_count": null,
   "id": "7df1d1ad",
   "metadata": {
    "scrolled": true
   },
   "outputs": [],
   "source": [
    "# Resample the data using the ClusterCentroids resampler\n",
    "# Warning: This is a large dataset, and this step may take some time to complete\n",
    "from imblearn.under_sampling import ClusterCentroids\n",
    "cc = ClusterCentroids(random_state=1)\n",
    "X_resampled, y_resampled = cc.fit_resample(X, y)\n",
    "Counter(y_resampled)"
   ]
  },
  {
   "cell_type": "code",
   "execution_count": null,
   "id": "6d6c2c72",
   "metadata": {},
   "outputs": [],
   "source": [
    "# Train the Logistic Regression model using the resampled data\n",
    "from sklearn.linear_model import LogisticRegression\n",
    "model = LogisticRegression(solver='lbfgs', random_state=1)\n",
    "model.fit(X_resampled, y_resampled)"
   ]
  },
  {
   "cell_type": "code",
   "execution_count": null,
   "id": "dc1b5085",
   "metadata": {},
   "outputs": [],
   "source": [
    "y_pred = model.predict(X_test)\n",
    "y_pred"
   ]
  },
  {
   "cell_type": "code",
   "execution_count": null,
   "id": "99fc1b22",
   "metadata": {},
   "outputs": [],
   "source": [
    "# Calculated the balanced accuracy score\n",
    "from sklearn.metrics import balanced_accuracy_score\n",
    "under_bac = balanced_accuracy_score(y_test, y_pred)\n",
    "under_bac"
   ]
  },
  {
   "cell_type": "code",
   "execution_count": null,
   "id": "a6401671",
   "metadata": {},
   "outputs": [],
   "source": [
    "# Print the imbalanced classification report\n",
    "from imblearn.metrics import classification_report_imbalanced\n",
    "print(classification_report_imbalanced(y_test, y_pred))"
   ]
  },
  {
   "cell_type": "code",
   "execution_count": null,
   "id": "6c21872b",
   "metadata": {},
   "outputs": [],
   "source": []
  },
  {
   "cell_type": "markdown",
   "id": "063e128f",
   "metadata": {},
   "source": [
    "## SMOTEENN"
   ]
  },
  {
   "cell_type": "code",
   "execution_count": null,
   "id": "b174c70c",
   "metadata": {},
   "outputs": [],
   "source": [
    "# Resample the training data with SMOTEENN\n",
    "# Warning: This is a large dataset, and this step may take some time to complete\n",
    "from imblearn.combine import SMOTEENN\n",
    "\n",
    "smote_enn = SMOTEENN(random_state=1)\n",
    "X_resampled, y_resampled = smote_enn.fit_resample(X, y)\n",
    "Counter(y_resampled)"
   ]
  },
  {
   "cell_type": "code",
   "execution_count": null,
   "id": "b3fdc093",
   "metadata": {},
   "outputs": [],
   "source": [
    "# Train the Logistic Regression model using the resampled data\n",
    "from sklearn.linear_model import LogisticRegression\n",
    "model = LogisticRegression(solver='lbfgs', random_state=1)\n",
    "model.fit(X_resampled, y_resampled)"
   ]
  },
  {
   "cell_type": "code",
   "execution_count": null,
   "id": "1cc23d38",
   "metadata": {},
   "outputs": [],
   "source": [
    "y_pred = model.predict(X_test)"
   ]
  },
  {
   "cell_type": "code",
   "execution_count": null,
   "id": "25c9064e",
   "metadata": {},
   "outputs": [],
   "source": [
    "# Calculated the balanced accuracy score\n",
    "from sklearn.metrics import balanced_accuracy_score\n",
    "smoteen_bac = balanced_accuracy_score(y_test, y_pred)"
   ]
  },
  {
   "cell_type": "code",
   "execution_count": null,
   "id": "e9c8872f",
   "metadata": {},
   "outputs": [],
   "source": [
    "# Print the imbalanced classification report\n",
    "from imblearn.metrics import classification_report_imbalanced\n",
    "\n",
    "print(classification_report_imbalanced(y_test, y_pred))"
   ]
  },
  {
   "cell_type": "code",
   "execution_count": null,
   "id": "5383427c",
   "metadata": {},
   "outputs": [],
   "source": []
  },
  {
   "cell_type": "code",
   "execution_count": null,
   "id": "86d39015",
   "metadata": {},
   "outputs": [],
   "source": [
    "### Balanced Random Forest Classifier"
   ]
  },
  {
   "cell_type": "code",
   "execution_count": null,
   "id": "c71f16df",
   "metadata": {},
   "outputs": [],
   "source": [
    "# Create a random forest classifier.\n",
    "from imblearn.ensemble import BalancedRandomForestClassifier\n",
    "brfc_model = BalancedRandomForestClassifier(n_estimators=100, random_state=1)\n",
    "\n",
    "# Fitting the model\n",
    "brfc_model = brfc_model.fit(X_train, y_train)\n",
    "brfc_model"
   ]
  },
  {
   "cell_type": "code",
   "execution_count": null,
   "id": "f0939ae0",
   "metadata": {},
   "outputs": [],
   "source": [
    "# Calculated the balanced accuracy score\n",
    "predictions = brfc_model.predict(X_test)\n",
    "brfc_bac = balanced_accuracy_score(y_test, predictions)\n",
    "brfc_bac"
   ]
  },
  {
   "cell_type": "code",
   "execution_count": null,
   "id": "8972252e",
   "metadata": {},
   "outputs": [],
   "source": [
    "# Print the imbalanced classification report\n",
    "from imblearn.metrics import classification_report_imbalanced\n",
    "print(classification_report_imbalanced(y_test, predictions))"
   ]
  },
  {
   "cell_type": "code",
   "execution_count": null,
   "id": "2d1954af",
   "metadata": {},
   "outputs": [],
   "source": []
  },
  {
   "cell_type": "code",
   "execution_count": null,
   "id": "2fff4fa5",
   "metadata": {},
   "outputs": [],
   "source": [
    "## Easy Ensemble AdaBoost Classifier"
   ]
  },
  {
   "cell_type": "code",
   "execution_count": null,
   "id": "acb9e86e",
   "metadata": {},
   "outputs": [],
   "source": [
    "# Train the EasyEnsembleClassifier\n",
    "from imblearn.ensemble import EasyEnsembleClassifier\n",
    "\n",
    "eec_model = EasyEnsembleClassifier(n_estimators=100, random_state=1)\n",
    "\n",
    "eec_model = eec_model.fit(X_train, y_train)"
   ]
  },
  {
   "cell_type": "code",
   "execution_count": null,
   "id": "7a01c3b3",
   "metadata": {},
   "outputs": [],
   "source": [
    "# Calculated the balanced accuracy score\n",
    "predictions = eec_model.predict(X_test)\n",
    "ee_bac = balanced_accuracy_score(y_test, predictions)\n",
    "ee_bac"
   ]
  },
  {
   "cell_type": "code",
   "execution_count": null,
   "id": "bcb446fe",
   "metadata": {},
   "outputs": [],
   "source": [
    "# Print the imbalanced classification report\n",
    "print(classification_report_imbalanced(y_test, predictions))"
   ]
  },
  {
   "cell_type": "code",
   "execution_count": null,
   "id": "185ed4e7",
   "metadata": {},
   "outputs": [],
   "source": []
  },
  {
   "cell_type": "code",
   "execution_count": null,
   "id": "f38ae014",
   "metadata": {},
   "outputs": [],
   "source": []
  },
  {
   "cell_type": "code",
   "execution_count": null,
   "id": "c524fd32",
   "metadata": {},
   "outputs": [],
   "source": []
  },
  {
   "cell_type": "code",
   "execution_count": null,
   "id": "3cd49133",
   "metadata": {},
   "outputs": [],
   "source": []
  },
  {
   "cell_type": "code",
   "execution_count": null,
   "id": "03caf8ab",
   "metadata": {},
   "outputs": [],
   "source": []
  },
  {
   "cell_type": "code",
   "execution_count": null,
   "id": "cfdff985",
   "metadata": {},
   "outputs": [],
   "source": []
  },
  {
   "cell_type": "code",
   "execution_count": null,
   "id": "19931919",
   "metadata": {},
   "outputs": [],
   "source": []
  },
  {
   "cell_type": "code",
   "execution_count": null,
   "id": "8f26e2e7",
   "metadata": {},
   "outputs": [],
   "source": [
    "# X = week_df.watertempf.values.reshape(-1, 1)"
   ]
  },
  {
   "cell_type": "code",
   "execution_count": null,
   "id": "4e5fab6a",
   "metadata": {},
   "outputs": [],
   "source": [
    "# X.shape"
   ]
  },
  {
   "cell_type": "code",
   "execution_count": null,
   "id": "08a04c4d",
   "metadata": {},
   "outputs": [],
   "source": [
    "# y = week_df.stlheadcount"
   ]
  },
  {
   "cell_type": "code",
   "execution_count": null,
   "id": "5415f5a7",
   "metadata": {},
   "outputs": [],
   "source": [
    "# model = LinearRegression()"
   ]
  },
  {
   "cell_type": "code",
   "execution_count": null,
   "id": "b45cf87b",
   "metadata": {},
   "outputs": [],
   "source": [
    "# model.fit(X,y)"
   ]
  },
  {
   "cell_type": "code",
   "execution_count": null,
   "id": "d26c491e",
   "metadata": {},
   "outputs": [],
   "source": [
    "# y_pred = model.predict(X)\n",
    "# print(y_pred.shape)"
   ]
  },
  {
   "cell_type": "code",
   "execution_count": null,
   "id": "4ca6733c",
   "metadata": {},
   "outputs": [],
   "source": [
    "plt.scatter(X,y)\n",
    "plt.plot(X, y_pred, color='red')\n",
    "plt.show()"
   ]
  },
  {
   "cell_type": "code",
   "execution_count": null,
   "id": "92543c27",
   "metadata": {},
   "outputs": [],
   "source": [
    "# SVM (support vector machines)"
   ]
  },
  {
   "cell_type": "code",
   "execution_count": null,
   "id": "780d2d53",
   "metadata": {},
   "outputs": [],
   "source": []
  },
  {
   "cell_type": "code",
   "execution_count": null,
   "id": "2b0b56b8",
   "metadata": {},
   "outputs": [],
   "source": []
  },
  {
   "cell_type": "code",
   "execution_count": null,
   "id": "a470f88b",
   "metadata": {},
   "outputs": [],
   "source": [
    "X.describe()"
   ]
  },
  {
   "cell_type": "code",
   "execution_count": null,
   "id": "114abdaf",
   "metadata": {},
   "outputs": [],
   "source": [
    "y.describe()"
   ]
  },
  {
   "cell_type": "code",
   "execution_count": null,
   "id": "73c0771b",
   "metadata": {},
   "outputs": [],
   "source": [
    "from sklearn.model_selection import train_test_split\n",
    "X_train, X_test, y_train, y_test = train_test_split(X, y, random_state=1)"
   ]
  },
  {
   "cell_type": "code",
   "execution_count": null,
   "id": "267a4187",
   "metadata": {},
   "outputs": [],
   "source": [
    "# print(\"Training:\", Counter(y_train['stlheadcount']))\n",
    "# print(\"Test:\", Counter(y_test['stlheadcount']))"
   ]
  },
  {
   "cell_type": "code",
   "execution_count": null,
   "id": "59353a38",
   "metadata": {
    "scrolled": false
   },
   "outputs": [],
   "source": [
    "y_train"
   ]
  },
  {
   "cell_type": "code",
   "execution_count": null,
   "id": "0f0c037e",
   "metadata": {},
   "outputs": [],
   "source": [
    "y_test"
   ]
  },
  {
   "cell_type": "code",
   "execution_count": null,
   "id": "04b42909",
   "metadata": {},
   "outputs": [],
   "source": [
    "X_train.dtypes"
   ]
  },
  {
   "cell_type": "code",
   "execution_count": null,
   "id": "08ce83d0",
   "metadata": {},
   "outputs": [],
   "source": [
    "from sklearn.preprocessing import StandardScaler,OneHotEncoder\n",
    "\n",
    "# Create a OneHotEncoder instance\n",
    "enc = OneHotEncoder(sparse=False)\n",
    "\n",
    "# Fit and transform the OneHotEncoder using the categorical variable list\n",
    "encode_df = pd.DataFrame(enc.fit_transform(week_df[stlheadcount]))\n",
    "\n",
    "# Add the encoded variable names to the dataframe\n",
    "encode_df.columns = enc.get_feature_names(stlheadcount)\n",
    "encode_df.head()"
   ]
  },
  {
   "cell_type": "code",
   "execution_count": null,
   "id": "edce8265",
   "metadata": {
    "scrolled": false
   },
   "outputs": [],
   "source": [
    "# Resample the training data with the RandomOversampler\n",
    "from imblearn.over_sampling import RandomOverSampler\n",
    "\n",
    "ros = RandomOverSampler(random_state=1)\n",
    "X_resampled, y_resampled = ros.fit_resample(X_train, y_train)\n",
    "# print(Counter(y_resampled['stlheadcount']))"
   ]
  },
  {
   "cell_type": "code",
   "execution_count": null,
   "id": "6f39d212",
   "metadata": {},
   "outputs": [],
   "source": []
  },
  {
   "cell_type": "code",
   "execution_count": null,
   "id": "8b656842",
   "metadata": {},
   "outputs": [],
   "source": []
  },
  {
   "cell_type": "code",
   "execution_count": null,
   "id": "129dc7d7",
   "metadata": {},
   "outputs": [],
   "source": [
    "model = LinearRegression()"
   ]
  },
  {
   "cell_type": "code",
   "execution_count": null,
   "id": "9cfff38e",
   "metadata": {},
   "outputs": [],
   "source": [
    "model.fit(X, y)"
   ]
  },
  {
   "cell_type": "code",
   "execution_count": null,
   "id": "8366458e",
   "metadata": {},
   "outputs": [],
   "source": [
    "y_pred = model.predict(X)\n",
    "print(y_pred.shape)"
   ]
  },
  {
   "cell_type": "code",
   "execution_count": null,
   "id": "9820594b",
   "metadata": {},
   "outputs": [],
   "source": [
    "y.describe()"
   ]
  },
  {
   "cell_type": "code",
   "execution_count": null,
   "id": "e0344eaa",
   "metadata": {},
   "outputs": [],
   "source": [
    "plt.scatter(df.Week_Number, y)\n",
    "plt.plot(X, y_pred, color='red')\n",
    "plt.show()"
   ]
  },
  {
   "cell_type": "code",
   "execution_count": null,
   "id": "fb79d389",
   "metadata": {},
   "outputs": [],
   "source": [
    "\n",
    "print(accuracy_score(y_test, y_pred))"
   ]
  }
 ],
 "metadata": {
  "kernelspec": {
   "display_name": "mlenv",
   "language": "python",
   "name": "mlenv"
  },
  "language_info": {
   "codemirror_mode": {
    "name": "ipython",
    "version": 3
   },
   "file_extension": ".py",
   "mimetype": "text/x-python",
   "name": "python",
   "nbconvert_exporter": "python",
   "pygments_lexer": "ipython3",
   "version": "3.7.11"
  }
 },
 "nbformat": 4,
 "nbformat_minor": 5
}
